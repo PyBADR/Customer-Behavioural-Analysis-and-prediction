{
 "cells": [
  {
   "cell_type": "code",
   "execution_count": 417,
   "metadata": {},
   "outputs": [],
   "source": [
    "from IPython.display import HTML\n",
    "from IPython.display import Image\n",
    "import warnings\n",
    "warnings.filterwarnings(\"ignore\")"
   ]
  },
  {
   "cell_type": "markdown",
   "metadata": {},
   "source": [
    "<img src='Which-Customer-Service-Predictions-1200x700.png' width=\"700\" height=\"300\" align=\"center\">"
   ]
  },
  {
   "cell_type": "code",
   "execution_count": 418,
   "metadata": {},
   "outputs": [
    {
     "data": {
      "text/html": [
       "<script>\n",
       "  function code_toggle() {\n",
       "    if (code_shown){\n",
       "      $('div.input').hide('500');\n",
       "      $('#toggleButton').val('Show Code')\n",
       "    } else {\n",
       "      $('div.input').show('500');\n",
       "      $('#toggleButton').val('Hide Code')\n",
       "    }\n",
       "    code_shown = !code_shown\n",
       "  }\n",
       "\n",
       "  $( document ).ready(function(){\n",
       "    code_shown=false;\n",
       "    $('div.input').hide()\n",
       "  });\n",
       "</script>\n",
       "<form action=\"javascript:code_toggle()\"><input type=\"submit\" id=\"toggleButton\" value=\"Show Code\"></form>"
      ],
      "text/plain": [
       "<IPython.core.display.HTML object>"
      ]
     },
     "execution_count": 418,
     "metadata": {},
     "output_type": "execute_result"
    }
   ],
   "source": [
    "HTML('''<script>\n",
    "  function code_toggle() {\n",
    "    if (code_shown){\n",
    "      $('div.input').hide('500');\n",
    "      $('#toggleButton').val('Show Code')\n",
    "    } else {\n",
    "      $('div.input').show('500');\n",
    "      $('#toggleButton').val('Hide Code')\n",
    "    }\n",
    "    code_shown = !code_shown\n",
    "  }\n",
    "\n",
    "  $( document ).ready(function(){\n",
    "    code_shown=false;\n",
    "    $('div.input').hide()\n",
    "  });\n",
    "</script>\n",
    "<form action=\"javascript:code_toggle()\"><input type=\"submit\" id=\"toggleButton\" value=\"Show Code\"></form>''')"
   ]
  },
  {
   "cell_type": "markdown",
   "metadata": {},
   "source": [
    "Recency, Frequency, Monetary Prediction \n",
    "========"
   ]
  },
  {
   "cell_type": "markdown",
   "metadata": {},
   "source": [
    "\n",
    "\n",
    "**By: Pieter Leffers**\n",
    "\n",
    "Starting Date: June 7, 2019\n",
    "\n",
    "Completion Date: August 25, 2019\n",
    "\n",
    "Last Updated: September 2, 2019\n"
   ]
  },
  {
   "cell_type": "markdown",
   "metadata": {},
   "source": [
    "Summary\n",
    "-----"
   ]
  },
  {
   "cell_type": "markdown",
   "metadata": {},
   "source": [
    "As previously mentioned this work was inspired by [Customer Shopping Pattern Prediction: A Recurrent Neural Network Approach ](https://ieeexplore.ieee.org/document/7849921)\n",
    " by Hojjat Salehinejad and Shahryar Rahnamayan. Together they managed to put together a short,  legible, and impactful paper that inspired me to try predicting R,M,F values. Journal articles such as these need to get published more often in my opinion. Using the Ta Feng Grocery data the authors simply used the Customer ID's and past R, M, F values for their prediction which were assumed as the Customer Loyaly Numbers (CLN); provide enough information to be able to predict the (R) Recency, (F) Frequency, and (M) Monetary values one step forward in time. In their design the authors encoded the Customer IDs as dummies (or one-hot encoding), then passed the dummies along with the R,M,F values into an auto-encoder, shrinking the size of the data, before passing the data into a Simple Recurrent Neural Network for regression. In so doing the authors acheived an 80% accuracy for their model.\n",
    " \n",
    "My approach was even simpler if you can believe it. I started with recoding the R,F,M values to match the style the authors used in the paper and simply passed all the data using a Simple Recurrent Neural Network and similar hyperparameters. To my surprise I was provided with a 75% accuracy. On one hand I was surprised to find that the accuracy wasn't higher since I certainly including more features than cited in the paper, even some features with collinearity. I was also surprised at how little work was needed to get those results. After reducing the data to just Customer ID's alone with R,M,F values; to my surprise I again achieved a 75% accuracy. This told me that very little of the model was being informed by the inclusion of the additional features. The only added benefit that I found of adding more features was a reduced RMSE value. \n",
    "\n",
    "**My Conclusion:**\n",
    "\n",
    "With these findings I feel the added bonus of a reduced RMSE isn't truly more beneficial than simply using the Customer ID's and previous R,M,F values. I also feel more inclined toward the feeling that maintaining a simpler model is just better. I also have a *(perhaps controversial)* feeling that after these results, the added complication of one-hot encoding dummy variables from the Customer ID's and using dimensionality reduction techniques to predict R,M,F values, *simply for a 5% increase in accuracy*, to be lackluster compared to the simplicity of just passing the data into the model and getting a 75% accuracy. "
   ]
  },
  {
   "cell_type": "markdown",
   "metadata": {},
   "source": [
    "**Why so much attention on R,F,M values?**\n"
   ]
  },
  {
   "cell_type": "markdown",
   "metadata": {},
   "source": [
    "In business it is generally considered more expensive to obtain new customers rather than satisfying the ones you have; R,F,M values are the basis for calculating [Customer Lifetime Value](https://en.wikipedia.org/wiki/Customer_lifetime_value) and [Customer Segmentation](https://www.retentionscience.com/blog/rfm-king/) which help to identify customers whom are the most ***Recent*** and ***Frequent*** and the most valuable. In my data exploration notebook I dive into some of the ways of calculating R,F,M values in order to help predict overall Customer Lifetime Value."
   ]
  },
  {
   "cell_type": "markdown",
   "metadata": {},
   "source": [
    "**Why use a Recurrent Neural Network?**"
   ]
  },
  {
   "cell_type": "markdown",
   "metadata": {},
   "source": [
    "Simply put [Recurrent Neural Networks](https://en.wikipedia.org/wiki/Recurrent_neural_network)  are particularly good at capturing non-linear sequences and have an internal state capable of retaining information from previously learned data structures making them particularly good at data learning structures with a temporal element such as speech recognition, time series prediction, and robot control. Essentially, predicting R,F,M is the exact kind of application that Recurrent Neural Networks should be good at since the R,F,M values certainly have a temporal element since Recency and Frequency are capturing customer activity through time and as you will see the R,M,F values certainly follow a nonlinear sequence. "
   ]
  },
  {
   "cell_type": "markdown",
   "metadata": {},
   "source": [
    "### The Ta Feng Grocery Dataset\n",
    "\n",
    "Column definition: Transaction date and time , Customer ID, Age Group, PIN Code (Region), Product subclass, Product ID, Amount, Asset, Sales price\n",
    "\n",
    "\n",
    "Fields of the Dataset are:\n",
    "- Transaction date and time \n",
    "- Customer ID\n",
    "- Age: 10 possible values\n",
    "- Residence Area: 8 possible values\n",
    "- Product subclass\n",
    "- Product ID\n",
    "- Amount\n",
    "- Asset\n",
    "- Sales price\n",
    "\n",
    "https://www.kaggle.com/chiranjivdas09/ta-feng-grocery-dataset\n",
    "https://stackoverflow.com/questions/25014904/download-link-for-ta-feng-grocery-dataset\n"
   ]
  },
  {
   "cell_type": "markdown",
   "metadata": {},
   "source": [
    "Future ideas:\n",
    "1. Predicting R,F,and M values independently\n",
    "2. Using multiple transactions to make a prediction\n",
    "3. Make dummy variables of categories then using dimensionality reduction to pass to the network\n"
   ]
  },
  {
   "cell_type": "markdown",
   "metadata": {},
   "source": [
    "**Import Packages**"
   ]
  },
  {
   "cell_type": "code",
   "execution_count": 1007,
   "metadata": {},
   "outputs": [
    {
     "data": {
      "text/html": [
       "<script type=\"text/javascript\">window.PlotlyConfig = {MathJaxConfig: 'local'};</script><script type=\"text/javascript\">if (window.MathJax) {MathJax.Hub.Config({SVG: {font: \"STIX-Web\"}});}</script><script>requirejs.config({paths: { 'plotly': ['https://cdn.plot.ly/plotly-latest.min']},});if(!window._Plotly) {require(['plotly'],function(plotly) {window._Plotly=plotly;});}</script>"
      ],
      "text/vnd.plotly.v1+html": [
       "<script type=\"text/javascript\">window.PlotlyConfig = {MathJaxConfig: 'local'};</script><script type=\"text/javascript\">if (window.MathJax) {MathJax.Hub.Config({SVG: {font: \"STIX-Web\"}});}</script><script>requirejs.config({paths: { 'plotly': ['https://cdn.plot.ly/plotly-latest.min']},});if(!window._Plotly) {require(['plotly'],function(plotly) {window._Plotly=plotly;});}</script>"
      ]
     },
     "metadata": {},
     "output_type": "display_data"
    }
   ],
   "source": [
    "import pandas as pd\n",
    "import numpy as np\n",
    "import pickle\n",
    "from datetime import date\n",
    "import datetime as dt\n",
    "import struct\n",
    "import pylab\n",
    "import pickle\n",
    "import warnings\n",
    "import random\n",
    "import sklearn\n",
    "from scipy import stats \n",
    "from scipy.stats import truncnorm\n",
    "import seaborn as sns\n",
    "sns.set(style=\"whitegrid\")\n",
    "from sklearn.decomposition import PCA\n",
    "import matplotlib.pyplot as plt\n",
    "from IPython.display import display, Math, Latex\n",
    "# Import StandardScaler \n",
    "from sklearn.preprocessing import StandardScaler\n",
    "\n",
    "import plotly.offline as py\n",
    "import plotly.graph_objs as go\n",
    "py.init_notebook_mode(connected=True)\n",
    "warnings.filterwarnings(\"ignore\")\n",
    "\n",
    "from math import sqrt\n",
    "from numpy import concatenate\n",
    "from matplotlib import pyplot\n",
    "from pandas import read_csv\n",
    "from pandas import DataFrame\n",
    "from pandas import concat\n",
    "from sklearn.preprocessing import MinMaxScaler\n",
    "from sklearn.preprocessing import LabelEncoder\n",
    "from sklearn.metrics import mean_squared_error\n",
    "from keras.models import Sequential\n",
    "from keras.layers import Activation, Dense\n",
    "from keras.layers import Input, Dense, Dropout, LSTM\n",
    "from keras.layers import SimpleRNN\n",
    "from keras.callbacks import EarlyStopping\n",
    "\n",
    "from keras import regularizers\n",
    "from keras.layers import RepeatVector\n",
    "from keras.layers import TimeDistributed\n",
    "from keras import optimizers"
   ]
  },
  {
   "cell_type": "markdown",
   "metadata": {},
   "source": [
    "### Import and Prepare Data\n"
   ]
  },
  {
   "cell_type": "code",
   "execution_count": 1008,
   "metadata": {},
   "outputs": [],
   "source": [
    "#Here I am importing the dictionaries I created from the exploration notebook\n",
    "with open('cluster_map.pickle', 'rb') as dictionary_map1:\n",
    "    cluster_map = pickle.load(dictionary_map1)\n",
    "\n",
    "with open('age_dict_class.pickle', 'rb') as dictionary_map2:\n",
    "    age_dict_class = pickle.load(dictionary_map2)\n",
    "    \n",
    "with open('inv_age_dict_class.pickle', 'rb') as dictionary_map3:\n",
    "    inv_age_dict_class = pickle.load(dictionary_map3)\n",
    "    \n",
    "with open('age_dict_int.pickle', 'rb') as dictionary_map4:\n",
    "    age_dict_int = pickle.load(dictionary_map4)\n",
    "\n",
    "with open('inv_age_dict_int.pickle', 'rb') as dictionary_map5:\n",
    "    inv_age_dict_int = pickle.load(dictionary_map5)\n",
    "    \n",
    "with open('pin_code_dict_int.pickle', 'rb') as dictionary_map6:\n",
    "    pin_code_dict_int = pickle.load(dictionary_map6)\n",
    "    \n",
    "with open('wk_dict_int.pickle', 'rb') as dictionary_map7:\n",
    "    wk_dict_int = pickle.load(dictionary_map7)\n",
    "\n",
    "with open('age_map.pickle', 'rb') as dictionary_map8:\n",
    "    age_map = pickle.load(dictionary_map8)\n",
    "\n",
    "with open('pin_map.pickle', 'rb') as dictionary_map9:\n",
    "    pin_map = pickle.load(dictionary_map9)    \n",
    "    \n",
    "minimized_set = pd.read_pickle(\"./minimized_set.pkl\")\n",
    "total_set = pd.read_pickle(\"./total_set.pkl\")\n"
   ]
  },
  {
   "cell_type": "code",
   "execution_count": 1009,
   "metadata": {},
   "outputs": [
    {
     "data": {
      "text/html": [
       "<div>\n",
       "<style scoped>\n",
       "    .dataframe tbody tr th:only-of-type {\n",
       "        vertical-align: middle;\n",
       "    }\n",
       "\n",
       "    .dataframe tbody tr th {\n",
       "        vertical-align: top;\n",
       "    }\n",
       "\n",
       "    .dataframe thead th {\n",
       "        text-align: right;\n",
       "    }\n",
       "</style>\n",
       "<table border=\"1\" class=\"dataframe\">\n",
       "  <thead>\n",
       "    <tr style=\"text-align: right;\">\n",
       "      <th></th>\n",
       "      <th>transaction_dt</th>\n",
       "      <th>customer_id</th>\n",
       "      <th>amount</th>\n",
       "      <th>unit_price</th>\n",
       "      <th>Log_Unit_Price</th>\n",
       "      <th>total_sum</th>\n",
       "    </tr>\n",
       "  </thead>\n",
       "  <tbody>\n",
       "    <tr>\n",
       "      <th>753166</th>\n",
       "      <td>2000-11-01</td>\n",
       "      <td>02101750</td>\n",
       "      <td>1</td>\n",
       "      <td>24.0</td>\n",
       "      <td>3.178054</td>\n",
       "      <td>24.0</td>\n",
       "    </tr>\n",
       "    <tr>\n",
       "      <th>787527</th>\n",
       "      <td>2000-11-01</td>\n",
       "      <td>02144511</td>\n",
       "      <td>1</td>\n",
       "      <td>55.0</td>\n",
       "      <td>4.007333</td>\n",
       "      <td>55.0</td>\n",
       "    </tr>\n",
       "    <tr>\n",
       "      <th>787526</th>\n",
       "      <td>2000-11-01</td>\n",
       "      <td>02144511</td>\n",
       "      <td>1</td>\n",
       "      <td>47.0</td>\n",
       "      <td>3.850148</td>\n",
       "      <td>47.0</td>\n",
       "    </tr>\n",
       "  </tbody>\n",
       "</table>\n",
       "</div>"
      ],
      "text/plain": [
       "       transaction_dt customer_id  amount  unit_price  Log_Unit_Price  \\\n",
       "753166     2000-11-01    02101750       1        24.0        3.178054   \n",
       "787527     2000-11-01    02144511       1        55.0        4.007333   \n",
       "787526     2000-11-01    02144511       1        47.0        3.850148   \n",
       "\n",
       "        total_sum  \n",
       "753166       24.0  \n",
       "787527       55.0  \n",
       "787526       47.0  "
      ]
     },
     "execution_count": 1009,
     "metadata": {},
     "output_type": "execute_result"
    }
   ],
   "source": [
    "working_set=minimized_set[['transaction_dt','customer_id','amount','unit_price','Log_Unit_Price']]\n",
    "working_set['total_sum']=working_set['amount']*working_set['unit_price']\n",
    "working_set.head(3)"
   ]
  },
  {
   "cell_type": "code",
   "execution_count": 1010,
   "metadata": {},
   "outputs": [
    {
     "data": {
      "text/html": [
       "<div>\n",
       "<style scoped>\n",
       "    .dataframe tbody tr th:only-of-type {\n",
       "        vertical-align: middle;\n",
       "    }\n",
       "\n",
       "    .dataframe tbody tr th {\n",
       "        vertical-align: top;\n",
       "    }\n",
       "\n",
       "    .dataframe thead th {\n",
       "        text-align: right;\n",
       "    }\n",
       "</style>\n",
       "<table border=\"1\" class=\"dataframe\">\n",
       "  <thead>\n",
       "    <tr style=\"text-align: right;\">\n",
       "      <th></th>\n",
       "      <th></th>\n",
       "      <th>amount</th>\n",
       "      <th>unit_price</th>\n",
       "      <th>Log_Unit_Price</th>\n",
       "      <th>total_sum</th>\n",
       "      <th>frequency</th>\n",
       "      <th>recency</th>\n",
       "      <th>monetary</th>\n",
       "    </tr>\n",
       "    <tr>\n",
       "      <th>customer_id</th>\n",
       "      <th>transaction_dt</th>\n",
       "      <th></th>\n",
       "      <th></th>\n",
       "      <th></th>\n",
       "      <th></th>\n",
       "      <th></th>\n",
       "      <th></th>\n",
       "      <th></th>\n",
       "    </tr>\n",
       "  </thead>\n",
       "  <tbody>\n",
       "    <tr>\n",
       "      <th rowspan=\"4\" valign=\"top\">00001069</th>\n",
       "      <th>2000-11-13</th>\n",
       "      <td>2</td>\n",
       "      <td>187.000000</td>\n",
       "      <td>9.073604</td>\n",
       "      <td>187.0</td>\n",
       "      <td>1</td>\n",
       "      <td>1</td>\n",
       "      <td>1</td>\n",
       "    </tr>\n",
       "    <tr>\n",
       "      <th>2001-01-21</th>\n",
       "      <td>3</td>\n",
       "      <td>971.000000</td>\n",
       "      <td>17.192559</td>\n",
       "      <td>971.0</td>\n",
       "      <td>1</td>\n",
       "      <td>1</td>\n",
       "      <td>1</td>\n",
       "    </tr>\n",
       "    <tr>\n",
       "      <th>2001-02-03</th>\n",
       "      <td>9</td>\n",
       "      <td>283.000000</td>\n",
       "      <td>19.490021</td>\n",
       "      <td>496.0</td>\n",
       "      <td>1</td>\n",
       "      <td>1</td>\n",
       "      <td>1</td>\n",
       "    </tr>\n",
       "    <tr>\n",
       "      <th>2001-02-10</th>\n",
       "      <td>2</td>\n",
       "      <td>145.000000</td>\n",
       "      <td>4.976734</td>\n",
       "      <td>290.0</td>\n",
       "      <td>1</td>\n",
       "      <td>1</td>\n",
       "      <td>1</td>\n",
       "    </tr>\n",
       "    <tr>\n",
       "      <th>00001113</th>\n",
       "      <th>2000-11-12</th>\n",
       "      <td>5</td>\n",
       "      <td>144.833333</td>\n",
       "      <td>7.544244</td>\n",
       "      <td>420.0</td>\n",
       "      <td>1</td>\n",
       "      <td>1</td>\n",
       "      <td>1</td>\n",
       "    </tr>\n",
       "  </tbody>\n",
       "</table>\n",
       "</div>"
      ],
      "text/plain": [
       "                            amount  unit_price  Log_Unit_Price  total_sum  \\\n",
       "customer_id transaction_dt                                                  \n",
       "00001069    2000-11-13           2  187.000000        9.073604      187.0   \n",
       "            2001-01-21           3  971.000000       17.192559      971.0   \n",
       "            2001-02-03           9  283.000000       19.490021      496.0   \n",
       "            2001-02-10           2  145.000000        4.976734      290.0   \n",
       "00001113    2000-11-12           5  144.833333        7.544244      420.0   \n",
       "\n",
       "                            frequency  recency  monetary  \n",
       "customer_id transaction_dt                                \n",
       "00001069    2000-11-13              1        1         1  \n",
       "            2001-01-21              1        1         1  \n",
       "            2001-02-03              1        1         1  \n",
       "            2001-02-10              1        1         1  \n",
       "00001113    2000-11-12              1        1         1  "
      ]
     },
     "execution_count": 1010,
     "metadata": {},
     "output_type": "execute_result"
    }
   ],
   "source": [
    "rmf_dataframe=working_set.groupby(['customer_id','transaction_dt']).sum()\n",
    "rmf_dataframe['frequency']=1\n",
    "rmf_dataframe['recency']=1\n",
    "rmf_dataframe['monetary']=1\n",
    "rmf_dataframe.head(5)"
   ]
  },
  {
   "cell_type": "code",
   "execution_count": 1011,
   "metadata": {},
   "outputs": [],
   "source": [
    "#Find my lower and upper limit of data\n",
    "lower_limit=total_set.transaction_dt.min()\n",
    "upper_limit=total_set.transaction_dt.max()\n",
    "#Simple function to calc difference in days\n",
    "def diff_days(start_day,end_day):  \n",
    "    delta = start_day - end_day\n",
    "    return delta.days"
   ]
  },
  {
   "cell_type": "markdown",
   "metadata": {},
   "source": [
    "### Calculate Recency, Frequency, and Monetary Values"
   ]
  },
  {
   "cell_type": "markdown",
   "metadata": {},
   "source": [
    "**You may be asking why am I calculating this again?**\n",
    "\n",
    "Because here I am doing something slightly different. For each window of time I am calculating the number of days since the customer's first transaction rather than the flat (snapshot) metric that I had calculated in the data exploration notebook. \n",
    "\n",
    "So what that means is each transaction has a changing Recency, Frequency, and Monetary value associated from the time since the customer's first purchase. In the figure below at the time of t3 the frequency would be f=1 (*I add 1 for each customer's first transaction*) and at the time of interest (t4) the frequency would be F=3 rather than a total sum frequency of f=7."
   ]
  },
  {
   "cell_type": "markdown",
   "metadata": {},
   "source": [
    "<img src='time_intervals.png' width=\"700\" height=\"300\" align=\"center\">"
   ]
  },
  {
   "cell_type": "markdown",
   "metadata": {},
   "source": [
    "**Recency**"
   ]
  },
  {
   "cell_type": "markdown",
   "metadata": {},
   "source": [
    "*Here I am recoding recency values.*"
   ]
  },
  {
   "cell_type": "code",
   "execution_count": 1012,
   "metadata": {},
   "outputs": [],
   "source": [
    "ident_ticker=[0]\n",
    "recency=[]\n",
    "frequency=[]\n",
    "monetary=[]\n",
    "summer=0\n",
    "counter=0"
   ]
  },
  {
   "cell_type": "code",
   "execution_count": 1013,
   "metadata": {},
   "outputs": [],
   "source": [
    "for i in range(len(rmf_dataframe.index)):\n",
    "    customer_id=rmf_dataframe.index[i][0]\n",
    "    transaction_dt=rmf_dataframe.index[i][1].date()\n",
    "    ident_ticker.append(customer_id)\n",
    "    if ident_ticker[-2]!=customer_id:\n",
    "        \n",
    "        start_date=lower_limit.date()\n",
    "        end_date=transaction_dt\n",
    "        recency.append(diff_days(start_date,end_date))\n",
    "    else:\n",
    "        start_date=rmf_dataframe.index[i-1][1].date()\n",
    "        end_date=transaction_dt\n",
    "        recency.append(diff_days(start_date,end_date))\n",
    "        \n",
    "rmf_dataframe['recency']=recency"
   ]
  },
  {
   "cell_type": "markdown",
   "metadata": {},
   "source": [
    "**Frequency**"
   ]
  },
  {
   "cell_type": "markdown",
   "metadata": {},
   "source": [
    "*Here I am recoding frequency values.*"
   ]
  },
  {
   "cell_type": "code",
   "execution_count": 1014,
   "metadata": {},
   "outputs": [],
   "source": [
    "for i in range(len(rmf_dataframe.index)):\n",
    "    customer_id=rmf_dataframe.index[i][0]\n",
    "    transaction_dt=rmf_dataframe.index[i][1].date()\n",
    "    ident_ticker.append(customer_id)\n",
    "    counter+=1\n",
    "    if ident_ticker[-2]!=customer_id:\n",
    "        counter=1\n",
    "        frequency.append(counter)\n",
    "    else:\n",
    "        frequency.append(counter)\n",
    "        \n",
    "rmf_dataframe['frequency']=frequency"
   ]
  },
  {
   "cell_type": "markdown",
   "metadata": {},
   "source": [
    "**Monetary**"
   ]
  },
  {
   "cell_type": "markdown",
   "metadata": {},
   "source": [
    "*Here I am recoding monetary values.*"
   ]
  },
  {
   "cell_type": "code",
   "execution_count": 1015,
   "metadata": {},
   "outputs": [],
   "source": [
    "for i in range(len(rmf_dataframe.index)):\n",
    "    customer_id=rmf_dataframe.index[i][0]\n",
    "    transaction_dt=rmf_dataframe.index[i][1].date()\n",
    "    ident_ticker.append(customer_id)\n",
    "    counter+=1\n",
    "    summer+=rmf_dataframe.total_sum.values[i]\n",
    "    if ident_ticker[-2]!=customer_id:\n",
    "        summer=rmf_dataframe.total_sum.values[i]\n",
    "        monetary.append(summer)\n",
    "    else:\n",
    "        monetary.append(summer)\n",
    "\n",
    "rmf_dataframe['monetary']=monetary        "
   ]
  },
  {
   "cell_type": "markdown",
   "metadata": {},
   "source": [
    "Below is a table of the recoded data which should help clarify the new coding scheme."
   ]
  },
  {
   "cell_type": "code",
   "execution_count": 1084,
   "metadata": {},
   "outputs": [
    {
     "data": {
      "text/html": [
       "<div>\n",
       "<style scoped>\n",
       "    .dataframe tbody tr th:only-of-type {\n",
       "        vertical-align: middle;\n",
       "    }\n",
       "\n",
       "    .dataframe tbody tr th {\n",
       "        vertical-align: top;\n",
       "    }\n",
       "\n",
       "    .dataframe thead th {\n",
       "        text-align: right;\n",
       "    }\n",
       "</style>\n",
       "<table border=\"1\" class=\"dataframe\">\n",
       "  <thead>\n",
       "    <tr style=\"text-align: right;\">\n",
       "      <th></th>\n",
       "      <th>customer_id</th>\n",
       "      <th>transaction_dt</th>\n",
       "      <th>amount</th>\n",
       "      <th>unit_price</th>\n",
       "      <th>Log_Unit_Price</th>\n",
       "      <th>total_sum</th>\n",
       "      <th>frequency</th>\n",
       "      <th>recency</th>\n",
       "      <th>monetary</th>\n",
       "    </tr>\n",
       "  </thead>\n",
       "  <tbody>\n",
       "    <tr>\n",
       "      <th>0</th>\n",
       "      <td>00001069</td>\n",
       "      <td>2000-11-13</td>\n",
       "      <td>2</td>\n",
       "      <td>187.000000</td>\n",
       "      <td>9.073604</td>\n",
       "      <td>187.0</td>\n",
       "      <td>1</td>\n",
       "      <td>-12</td>\n",
       "      <td>187.0</td>\n",
       "    </tr>\n",
       "    <tr>\n",
       "      <th>1</th>\n",
       "      <td>00001069</td>\n",
       "      <td>2001-01-21</td>\n",
       "      <td>3</td>\n",
       "      <td>971.000000</td>\n",
       "      <td>17.192559</td>\n",
       "      <td>971.0</td>\n",
       "      <td>2</td>\n",
       "      <td>-69</td>\n",
       "      <td>1158.0</td>\n",
       "    </tr>\n",
       "    <tr>\n",
       "      <th>2</th>\n",
       "      <td>00001069</td>\n",
       "      <td>2001-02-03</td>\n",
       "      <td>9</td>\n",
       "      <td>283.000000</td>\n",
       "      <td>19.490021</td>\n",
       "      <td>496.0</td>\n",
       "      <td>3</td>\n",
       "      <td>-13</td>\n",
       "      <td>1654.0</td>\n",
       "    </tr>\n",
       "    <tr>\n",
       "      <th>3</th>\n",
       "      <td>00001069</td>\n",
       "      <td>2001-02-10</td>\n",
       "      <td>2</td>\n",
       "      <td>145.000000</td>\n",
       "      <td>4.976734</td>\n",
       "      <td>290.0</td>\n",
       "      <td>4</td>\n",
       "      <td>-7</td>\n",
       "      <td>1944.0</td>\n",
       "    </tr>\n",
       "    <tr>\n",
       "      <th>4</th>\n",
       "      <td>00001113</td>\n",
       "      <td>2000-11-12</td>\n",
       "      <td>5</td>\n",
       "      <td>144.833333</td>\n",
       "      <td>7.544244</td>\n",
       "      <td>420.0</td>\n",
       "      <td>1</td>\n",
       "      <td>-11</td>\n",
       "      <td>420.0</td>\n",
       "    </tr>\n",
       "    <tr>\n",
       "      <th>5</th>\n",
       "      <td>00001113</td>\n",
       "      <td>2000-11-26</td>\n",
       "      <td>3</td>\n",
       "      <td>558.000000</td>\n",
       "      <td>15.487903</td>\n",
       "      <td>558.0</td>\n",
       "      <td>2</td>\n",
       "      <td>-14</td>\n",
       "      <td>978.0</td>\n",
       "    </tr>\n",
       "    <tr>\n",
       "      <th>6</th>\n",
       "      <td>00001113</td>\n",
       "      <td>2000-11-27</td>\n",
       "      <td>6</td>\n",
       "      <td>624.000000</td>\n",
       "      <td>26.220907</td>\n",
       "      <td>624.0</td>\n",
       "      <td>3</td>\n",
       "      <td>-1</td>\n",
       "      <td>1602.0</td>\n",
       "    </tr>\n",
       "    <tr>\n",
       "      <th>7</th>\n",
       "      <td>00001113</td>\n",
       "      <td>2001-01-06</td>\n",
       "      <td>9</td>\n",
       "      <td>544.000000</td>\n",
       "      <td>28.356237</td>\n",
       "      <td>628.0</td>\n",
       "      <td>4</td>\n",
       "      <td>-40</td>\n",
       "      <td>2230.0</td>\n",
       "    </tr>\n",
       "    <tr>\n",
       "      <th>8</th>\n",
       "      <td>00001250</td>\n",
       "      <td>2001-02-04</td>\n",
       "      <td>5</td>\n",
       "      <td>685.000000</td>\n",
       "      <td>19.809760</td>\n",
       "      <td>734.0</td>\n",
       "      <td>1</td>\n",
       "      <td>-95</td>\n",
       "      <td>734.0</td>\n",
       "    </tr>\n",
       "    <tr>\n",
       "      <th>9</th>\n",
       "      <td>00001250</td>\n",
       "      <td>2001-02-10</td>\n",
       "      <td>13</td>\n",
       "      <td>792.000000</td>\n",
       "      <td>38.402127</td>\n",
       "      <td>849.0</td>\n",
       "      <td>2</td>\n",
       "      <td>-6</td>\n",
       "      <td>1583.0</td>\n",
       "    </tr>\n",
       "  </tbody>\n",
       "</table>\n",
       "</div>"
      ],
      "text/plain": [
       "  customer_id transaction_dt  amount  unit_price  Log_Unit_Price  total_sum  \\\n",
       "0    00001069     2000-11-13       2  187.000000        9.073604      187.0   \n",
       "1    00001069     2001-01-21       3  971.000000       17.192559      971.0   \n",
       "2    00001069     2001-02-03       9  283.000000       19.490021      496.0   \n",
       "3    00001069     2001-02-10       2  145.000000        4.976734      290.0   \n",
       "4    00001113     2000-11-12       5  144.833333        7.544244      420.0   \n",
       "5    00001113     2000-11-26       3  558.000000       15.487903      558.0   \n",
       "6    00001113     2000-11-27       6  624.000000       26.220907      624.0   \n",
       "7    00001113     2001-01-06       9  544.000000       28.356237      628.0   \n",
       "8    00001250     2001-02-04       5  685.000000       19.809760      734.0   \n",
       "9    00001250     2001-02-10      13  792.000000       38.402127      849.0   \n",
       "\n",
       "   frequency  recency  monetary  \n",
       "0          1      -12     187.0  \n",
       "1          2      -69    1158.0  \n",
       "2          3      -13    1654.0  \n",
       "3          4       -7    1944.0  \n",
       "4          1      -11     420.0  \n",
       "5          2      -14     978.0  \n",
       "6          3       -1    1602.0  \n",
       "7          4      -40    2230.0  \n",
       "8          1      -95     734.0  \n",
       "9          2       -6    1583.0  "
      ]
     },
     "execution_count": 1084,
     "metadata": {},
     "output_type": "execute_result"
    }
   ],
   "source": [
    "rmf_df_reset=rmf_dataframe.reset_index()\n",
    "rmf_df_reset.head(10)"
   ]
  },
  {
   "cell_type": "markdown",
   "metadata": {},
   "source": [
    "*Create weekly values counting from the start of the dataset to the end.* \n"
   ]
  },
  {
   "cell_type": "code",
   "execution_count": 1017,
   "metadata": {},
   "outputs": [],
   "source": [
    "#wk_set['total_sum']=wk_set['amount']*wk_set['sales_price']\n",
    "rmf_df_reset['week']=[x.isocalendar()[1] for x in rmf_df_reset['transaction_dt']]\n",
    "rmf_df_reset=rmf_df_reset.sort_values(by=['transaction_dt','customer_id']).reset_index(drop=True)"
   ]
  },
  {
   "cell_type": "code",
   "execution_count": 1018,
   "metadata": {},
   "outputs": [],
   "source": [
    "rmf_df_reset['week_number'] = rmf_df_reset['week'].apply(lambda x: wk_dict_int[x])\n",
    "rmf_df_reset=rmf_df_reset.drop('week',axis=1)\n",
    "rmf_df_reset=rmf_df_reset.sort_values(by=['customer_id','week_number'])"
   ]
  },
  {
   "cell_type": "code",
   "execution_count": 1019,
   "metadata": {},
   "outputs": [],
   "source": [
    "rmf_df_reset['Cluster'] = rmf_df_reset['customer_id'].apply(lambda x: cluster_map[x])\n",
    "rmf_df_reset['age_int'] = rmf_df_reset['customer_id'].apply(lambda x: age_map[x])\n",
    "rmf_df_reset['pin_code_int'] = rmf_df_reset['customer_id'].apply(lambda x: pin_map[x])"
   ]
  },
  {
   "cell_type": "markdown",
   "metadata": {},
   "source": [
    "Below describes the average number of transactions and average number of weeks as well as the total counts in weeks. I want to make sure I capture as much data as I can for what I am about to do. We can see weeks 16 and 11 have the most transactions; also most customers have made around 6 purchases in the 4 month period of time.\n",
    "\n",
    "*Reminder: Weeks are coded from week 0 at the start of the study time to week 17 at the end of the study time.*"
   ]
  },
  {
   "cell_type": "code",
   "execution_count": 1020,
   "metadata": {},
   "outputs": [
    {
     "name": "stdout",
     "output_type": "stream",
     "text": [
      "Avg Frequency: 7\n",
      "Avg Week Number: 10\n"
     ]
    },
    {
     "data": {
      "text/plain": [
       "16    8084\n",
       "11    7803\n",
       "15    6359\n",
       "14    6338\n",
       "13    6017\n",
       "6     5976\n",
       "12    5677\n",
       "10    5596\n",
       "5     5179\n",
       "4     5127\n",
       "8     5085\n",
       "3     4881\n",
       "9     3524\n",
       "2     3463\n",
       "1     3167\n",
       "17    2834\n",
       "7     1327\n",
       "0      786\n",
       "Name: week_number, dtype: int64"
      ]
     },
     "execution_count": 1020,
     "metadata": {},
     "output_type": "execute_result"
    }
   ],
   "source": [
    "final_data=rmf_df_reset[['transaction_dt','customer_id','week_number','amount','total_sum','frequency','recency','monetary','Cluster','age_int','pin_code_int','unit_price','Log_Unit_Price']]\n",
    "comparison=(final_data['frequency']>1)\n",
    "print('Avg Frequency:',round(final_data[comparison].frequency.mean()))\n",
    "print('Avg Week Number:',round(final_data[comparison].week_number.mean()))\n",
    "round(final_data[comparison].week_number.value_counts())"
   ]
  },
  {
   "cell_type": "markdown",
   "metadata": {},
   "source": [
    "Here I am restricting the independant features to values prior to week 16 and the dependant features to weeks 16 or 17. So we essentially we are using transactions in the first 15 weeks to use for predicting transactions within the last two weeks. I am further restricting the dependant values to having *at least* a frequency of 1 because they need to have made a previous transaction to be considered."
   ]
  },
  {
   "cell_type": "code",
   "execution_count": 1021,
   "metadata": {},
   "outputs": [],
   "source": [
    "final_data.to_pickle('test_set.pkl')\n",
    "#month leading up to the final weeks\n",
    "comparison=((final_data['week_number']<=15) & (final_data['frequency']>1)) \n",
    "X_set=final_data[comparison]\n",
    "#last weeks of data and has had at least 1 previous transaction \n",
    "comparison=((final_data['week_number']==16) | (final_data['week_number']==17) & (final_data['frequency']>1))\n",
    "y_set=final_data[comparison]"
   ]
  },
  {
   "cell_type": "code",
   "execution_count": 1022,
   "metadata": {},
   "outputs": [],
   "source": [
    "y_id_list=sorted(list(y_set.customer_id.unique()))#unique customer ids from final week"
   ]
  },
  {
   "cell_type": "markdown",
   "metadata": {},
   "source": [
    "*The independant values need to have a matching customer ID in the dependent values. (there needs to be corresponding customer ID in the X and y values for regression) * "
   ]
  },
  {
   "cell_type": "code",
   "execution_count": 1023,
   "metadata": {},
   "outputs": [],
   "source": [
    "X_set=X_set.loc[X_set['customer_id'].isin(y_id_list)]#have to be represented in final week"
   ]
  },
  {
   "cell_type": "code",
   "execution_count": 1024,
   "metadata": {},
   "outputs": [
    {
     "name": "stdout",
     "output_type": "stream",
     "text": [
      "number of unique customer ids: 6669 \n",
      "length of the dataset: 6669\n"
     ]
    },
    {
     "data": {
      "text/html": [
       "<div>\n",
       "<style scoped>\n",
       "    .dataframe tbody tr th:only-of-type {\n",
       "        vertical-align: middle;\n",
       "    }\n",
       "\n",
       "    .dataframe tbody tr th {\n",
       "        vertical-align: top;\n",
       "    }\n",
       "\n",
       "    .dataframe thead th {\n",
       "        text-align: right;\n",
       "    }\n",
       "</style>\n",
       "<table border=\"1\" class=\"dataframe\">\n",
       "  <thead>\n",
       "    <tr style=\"text-align: right;\">\n",
       "      <th></th>\n",
       "      <th>transaction_dt</th>\n",
       "      <th>customer_id</th>\n",
       "      <th>week_number</th>\n",
       "      <th>amount</th>\n",
       "      <th>total_sum</th>\n",
       "      <th>frequency</th>\n",
       "      <th>recency</th>\n",
       "      <th>monetary</th>\n",
       "      <th>Cluster</th>\n",
       "      <th>age_int</th>\n",
       "      <th>pin_code_int</th>\n",
       "      <th>unit_price</th>\n",
       "      <th>Log_Unit_Price</th>\n",
       "    </tr>\n",
       "  </thead>\n",
       "  <tbody>\n",
       "    <tr>\n",
       "      <th>0</th>\n",
       "      <td>2001-01-07</td>\n",
       "      <td>00005241</td>\n",
       "      <td>9</td>\n",
       "      <td>19</td>\n",
       "      <td>931.0</td>\n",
       "      <td>2</td>\n",
       "      <td>-22</td>\n",
       "      <td>1256.0</td>\n",
       "      <td>2</td>\n",
       "      <td>4</td>\n",
       "      <td>6</td>\n",
       "      <td>616.0</td>\n",
       "      <td>37.835101</td>\n",
       "    </tr>\n",
       "    <tr>\n",
       "      <th>1</th>\n",
       "      <td>2000-11-25</td>\n",
       "      <td>00006668</td>\n",
       "      <td>3</td>\n",
       "      <td>11</td>\n",
       "      <td>873.0</td>\n",
       "      <td>2</td>\n",
       "      <td>-14</td>\n",
       "      <td>1305.0</td>\n",
       "      <td>2</td>\n",
       "      <td>4</td>\n",
       "      <td>5</td>\n",
       "      <td>835.0</td>\n",
       "      <td>33.561764</td>\n",
       "    </tr>\n",
       "    <tr>\n",
       "      <th>2</th>\n",
       "      <td>2000-11-06</td>\n",
       "      <td>00010801</td>\n",
       "      <td>1</td>\n",
       "      <td>5</td>\n",
       "      <td>574.0</td>\n",
       "      <td>2</td>\n",
       "      <td>-2</td>\n",
       "      <td>663.0</td>\n",
       "      <td>2</td>\n",
       "      <td>4</td>\n",
       "      <td>5</td>\n",
       "      <td>574.0</td>\n",
       "      <td>23.360238</td>\n",
       "    </tr>\n",
       "    <tr>\n",
       "      <th>3</th>\n",
       "      <td>2000-11-22</td>\n",
       "      <td>00011235</td>\n",
       "      <td>3</td>\n",
       "      <td>6</td>\n",
       "      <td>425.0</td>\n",
       "      <td>2</td>\n",
       "      <td>-8</td>\n",
       "      <td>1331.0</td>\n",
       "      <td>2</td>\n",
       "      <td>11</td>\n",
       "      <td>6</td>\n",
       "      <td>425.0</td>\n",
       "      <td>24.637577</td>\n",
       "    </tr>\n",
       "    <tr>\n",
       "      <th>4</th>\n",
       "      <td>2000-12-11</td>\n",
       "      <td>00011914</td>\n",
       "      <td>6</td>\n",
       "      <td>13</td>\n",
       "      <td>1266.0</td>\n",
       "      <td>2</td>\n",
       "      <td>-8</td>\n",
       "      <td>1723.0</td>\n",
       "      <td>2</td>\n",
       "      <td>4</td>\n",
       "      <td>1</td>\n",
       "      <td>1113.0</td>\n",
       "      <td>44.232078</td>\n",
       "    </tr>\n",
       "  </tbody>\n",
       "</table>\n",
       "</div>"
      ],
      "text/plain": [
       "  transaction_dt customer_id  week_number  amount  total_sum  frequency  \\\n",
       "0     2001-01-07    00005241            9      19      931.0          2   \n",
       "1     2000-11-25    00006668            3      11      873.0          2   \n",
       "2     2000-11-06    00010801            1       5      574.0          2   \n",
       "3     2000-11-22    00011235            3       6      425.0          2   \n",
       "4     2000-12-11    00011914            6      13     1266.0          2   \n",
       "\n",
       "   recency  monetary  Cluster  age_int  pin_code_int  unit_price  \\\n",
       "0      -22    1256.0        2        4             6       616.0   \n",
       "1      -14    1305.0        2        4             5       835.0   \n",
       "2       -2     663.0        2        4             5       574.0   \n",
       "3       -8    1331.0        2       11             6       425.0   \n",
       "4       -8    1723.0        2        4             1      1113.0   \n",
       "\n",
       "   Log_Unit_Price  \n",
       "0       37.835101  \n",
       "1       33.561764  \n",
       "2       23.360238  \n",
       "3       24.637577  \n",
       "4       44.232078  "
      ]
     },
     "execution_count": 1024,
     "metadata": {},
     "output_type": "execute_result"
    }
   ],
   "source": [
    "list_of_indexes = [np.argmin(g['transaction_dt']) for l, g in X_set.groupby('customer_id')]\n",
    "X_set=X_set.ix[list_of_indexes]#keep only latest transaction from previous month purchases\n",
    "X_set=X_set.sort_values(by=['customer_id','transaction_dt'])#sort by id\n",
    "X_set=X_set.reset_index(drop=True)\n",
    "print('number of unique customer ids:',len(set(list(X_set.customer_id))),'\\nlength of the dataset:',len(X_set))\n",
    "X_set.head()"
   ]
  },
  {
   "cell_type": "code",
   "execution_count": 1025,
   "metadata": {},
   "outputs": [
    {
     "data": {
      "text/html": [
       "<div>\n",
       "<style scoped>\n",
       "    .dataframe tbody tr th:only-of-type {\n",
       "        vertical-align: middle;\n",
       "    }\n",
       "\n",
       "    .dataframe tbody tr th {\n",
       "        vertical-align: top;\n",
       "    }\n",
       "\n",
       "    .dataframe thead th {\n",
       "        text-align: right;\n",
       "    }\n",
       "</style>\n",
       "<table border=\"1\" class=\"dataframe\">\n",
       "  <thead>\n",
       "    <tr style=\"text-align: right;\">\n",
       "      <th></th>\n",
       "      <th>transaction_dt</th>\n",
       "      <th>customer_id</th>\n",
       "      <th>week_number</th>\n",
       "      <th>amount</th>\n",
       "      <th>total_sum</th>\n",
       "      <th>frequency</th>\n",
       "      <th>recency</th>\n",
       "      <th>monetary</th>\n",
       "      <th>Cluster</th>\n",
       "      <th>age_int</th>\n",
       "      <th>pin_code_int</th>\n",
       "      <th>unit_price</th>\n",
       "      <th>Log_Unit_Price</th>\n",
       "    </tr>\n",
       "  </thead>\n",
       "  <tbody>\n",
       "    <tr>\n",
       "      <th>6664</th>\n",
       "      <td>2001-02-18</td>\n",
       "      <td>02175416</td>\n",
       "      <td>15</td>\n",
       "      <td>3</td>\n",
       "      <td>175.0</td>\n",
       "      <td>2</td>\n",
       "      <td>-10</td>\n",
       "      <td>1124.0</td>\n",
       "      <td>1</td>\n",
       "      <td>4</td>\n",
       "      <td>5</td>\n",
       "      <td>175.0</td>\n",
       "      <td>12.141534</td>\n",
       "    </tr>\n",
       "    <tr>\n",
       "      <th>6665</th>\n",
       "      <td>2001-02-16</td>\n",
       "      <td>02175508</td>\n",
       "      <td>15</td>\n",
       "      <td>7</td>\n",
       "      <td>197.0</td>\n",
       "      <td>2</td>\n",
       "      <td>-8</td>\n",
       "      <td>1079.0</td>\n",
       "      <td>2</td>\n",
       "      <td>1</td>\n",
       "      <td>5</td>\n",
       "      <td>153.0</td>\n",
       "      <td>16.538557</td>\n",
       "    </tr>\n",
       "    <tr>\n",
       "      <th>6666</th>\n",
       "      <td>2001-02-18</td>\n",
       "      <td>02176161</td>\n",
       "      <td>15</td>\n",
       "      <td>9</td>\n",
       "      <td>538.0</td>\n",
       "      <td>2</td>\n",
       "      <td>-7</td>\n",
       "      <td>1177.0</td>\n",
       "      <td>2</td>\n",
       "      <td>3</td>\n",
       "      <td>8</td>\n",
       "      <td>538.0</td>\n",
       "      <td>34.557343</td>\n",
       "    </tr>\n",
       "    <tr>\n",
       "      <th>6667</th>\n",
       "      <td>2001-02-15</td>\n",
       "      <td>02176185</td>\n",
       "      <td>15</td>\n",
       "      <td>13</td>\n",
       "      <td>559.0</td>\n",
       "      <td>2</td>\n",
       "      <td>-1</td>\n",
       "      <td>837.0</td>\n",
       "      <td>1</td>\n",
       "      <td>5</td>\n",
       "      <td>5</td>\n",
       "      <td>470.0</td>\n",
       "      <td>36.632623</td>\n",
       "    </tr>\n",
       "    <tr>\n",
       "      <th>6668</th>\n",
       "      <td>2001-02-18</td>\n",
       "      <td>02176529</td>\n",
       "      <td>15</td>\n",
       "      <td>5</td>\n",
       "      <td>616.0</td>\n",
       "      <td>2</td>\n",
       "      <td>-5</td>\n",
       "      <td>1030.0</td>\n",
       "      <td>1</td>\n",
       "      <td>2</td>\n",
       "      <td>7</td>\n",
       "      <td>571.0</td>\n",
       "      <td>19.176310</td>\n",
       "    </tr>\n",
       "  </tbody>\n",
       "</table>\n",
       "</div>"
      ],
      "text/plain": [
       "     transaction_dt customer_id  week_number  amount  total_sum  frequency  \\\n",
       "6664     2001-02-18    02175416           15       3      175.0          2   \n",
       "6665     2001-02-16    02175508           15       7      197.0          2   \n",
       "6666     2001-02-18    02176161           15       9      538.0          2   \n",
       "6667     2001-02-15    02176185           15      13      559.0          2   \n",
       "6668     2001-02-18    02176529           15       5      616.0          2   \n",
       "\n",
       "      recency  monetary  Cluster  age_int  pin_code_int  unit_price  \\\n",
       "6664      -10    1124.0        1        4             5       175.0   \n",
       "6665       -8    1079.0        2        1             5       153.0   \n",
       "6666       -7    1177.0        2        3             8       538.0   \n",
       "6667       -1     837.0        1        5             5       470.0   \n",
       "6668       -5    1030.0        1        2             7       571.0   \n",
       "\n",
       "      Log_Unit_Price  \n",
       "6664       12.141534  \n",
       "6665       16.538557  \n",
       "6666       34.557343  \n",
       "6667       36.632623  \n",
       "6668       19.176310  "
      ]
     },
     "execution_count": 1025,
     "metadata": {},
     "output_type": "execute_result"
    }
   ],
   "source": [
    "X_set.tail()"
   ]
  },
  {
   "cell_type": "markdown",
   "metadata": {},
   "source": [
    "*Now restrict dependant Customer IDs to have a corresponding independant Customer ID. (y Customer IDs have a corresponding X Customer ID)*"
   ]
  },
  {
   "cell_type": "code",
   "execution_count": 1026,
   "metadata": {},
   "outputs": [],
   "source": [
    "X_set_list=sorted(list(X_set.customer_id.unique()))#get list of unique ids from those represented in the last month\n",
    "y_set=y_set.loc[y_set['customer_id'].isin(X_set_list)]#return only individuals who made a purchase in the prior month"
   ]
  },
  {
   "cell_type": "code",
   "execution_count": 1027,
   "metadata": {},
   "outputs": [
    {
     "name": "stdout",
     "output_type": "stream",
     "text": [
      "number of unique customer ids: 6669 \n",
      "length of the dataset: 6669\n"
     ]
    },
    {
     "data": {
      "text/html": [
       "<div>\n",
       "<style scoped>\n",
       "    .dataframe tbody tr th:only-of-type {\n",
       "        vertical-align: middle;\n",
       "    }\n",
       "\n",
       "    .dataframe tbody tr th {\n",
       "        vertical-align: top;\n",
       "    }\n",
       "\n",
       "    .dataframe thead th {\n",
       "        text-align: right;\n",
       "    }\n",
       "</style>\n",
       "<table border=\"1\" class=\"dataframe\">\n",
       "  <thead>\n",
       "    <tr style=\"text-align: right;\">\n",
       "      <th></th>\n",
       "      <th>transaction_dt</th>\n",
       "      <th>customer_id</th>\n",
       "      <th>week_number</th>\n",
       "      <th>amount</th>\n",
       "      <th>total_sum</th>\n",
       "      <th>frequency</th>\n",
       "      <th>recency</th>\n",
       "      <th>monetary</th>\n",
       "      <th>Cluster</th>\n",
       "      <th>age_int</th>\n",
       "      <th>pin_code_int</th>\n",
       "      <th>unit_price</th>\n",
       "      <th>Log_Unit_Price</th>\n",
       "    </tr>\n",
       "  </thead>\n",
       "  <tbody>\n",
       "    <tr>\n",
       "      <th>0</th>\n",
       "      <td>2001-02-19</td>\n",
       "      <td>00005241</td>\n",
       "      <td>16</td>\n",
       "      <td>6</td>\n",
       "      <td>315.0</td>\n",
       "      <td>4</td>\n",
       "      <td>-34</td>\n",
       "      <td>3396.0</td>\n",
       "      <td>2</td>\n",
       "      <td>4</td>\n",
       "      <td>6</td>\n",
       "      <td>267.0</td>\n",
       "      <td>19.791821</td>\n",
       "    </tr>\n",
       "    <tr>\n",
       "      <th>1</th>\n",
       "      <td>2001-02-22</td>\n",
       "      <td>00006668</td>\n",
       "      <td>16</td>\n",
       "      <td>2</td>\n",
       "      <td>193.0</td>\n",
       "      <td>10</td>\n",
       "      <td>-5</td>\n",
       "      <td>5099.0</td>\n",
       "      <td>2</td>\n",
       "      <td>4</td>\n",
       "      <td>5</td>\n",
       "      <td>193.0</td>\n",
       "      <td>9.101641</td>\n",
       "    </tr>\n",
       "    <tr>\n",
       "      <th>2</th>\n",
       "      <td>2001-02-19</td>\n",
       "      <td>00010801</td>\n",
       "      <td>16</td>\n",
       "      <td>4</td>\n",
       "      <td>161.0</td>\n",
       "      <td>15</td>\n",
       "      <td>-7</td>\n",
       "      <td>7045.0</td>\n",
       "      <td>2</td>\n",
       "      <td>4</td>\n",
       "      <td>5</td>\n",
       "      <td>161.0</td>\n",
       "      <td>14.655028</td>\n",
       "    </tr>\n",
       "    <tr>\n",
       "      <th>3</th>\n",
       "      <td>2001-02-27</td>\n",
       "      <td>00011235</td>\n",
       "      <td>17</td>\n",
       "      <td>7</td>\n",
       "      <td>1157.0</td>\n",
       "      <td>5</td>\n",
       "      <td>-10</td>\n",
       "      <td>4209.0</td>\n",
       "      <td>2</td>\n",
       "      <td>11</td>\n",
       "      <td>6</td>\n",
       "      <td>972.0</td>\n",
       "      <td>29.231074</td>\n",
       "    </tr>\n",
       "    <tr>\n",
       "      <th>4</th>\n",
       "      <td>2001-02-28</td>\n",
       "      <td>00011914</td>\n",
       "      <td>17</td>\n",
       "      <td>4</td>\n",
       "      <td>276.0</td>\n",
       "      <td>5</td>\n",
       "      <td>-53</td>\n",
       "      <td>2616.0</td>\n",
       "      <td>2</td>\n",
       "      <td>4</td>\n",
       "      <td>1</td>\n",
       "      <td>138.0</td>\n",
       "      <td>8.380457</td>\n",
       "    </tr>\n",
       "  </tbody>\n",
       "</table>\n",
       "</div>"
      ],
      "text/plain": [
       "  transaction_dt customer_id  week_number  amount  total_sum  frequency  \\\n",
       "0     2001-02-19    00005241           16       6      315.0          4   \n",
       "1     2001-02-22    00006668           16       2      193.0         10   \n",
       "2     2001-02-19    00010801           16       4      161.0         15   \n",
       "3     2001-02-27    00011235           17       7     1157.0          5   \n",
       "4     2001-02-28    00011914           17       4      276.0          5   \n",
       "\n",
       "   recency  monetary  Cluster  age_int  pin_code_int  unit_price  \\\n",
       "0      -34    3396.0        2        4             6       267.0   \n",
       "1       -5    5099.0        2        4             5       193.0   \n",
       "2       -7    7045.0        2        4             5       161.0   \n",
       "3      -10    4209.0        2       11             6       972.0   \n",
       "4      -53    2616.0        2        4             1       138.0   \n",
       "\n",
       "   Log_Unit_Price  \n",
       "0       19.791821  \n",
       "1        9.101641  \n",
       "2       14.655028  \n",
       "3       29.231074  \n",
       "4        8.380457  "
      ]
     },
     "execution_count": 1027,
     "metadata": {},
     "output_type": "execute_result"
    }
   ],
   "source": [
    "y_set=y_set.sort_values(by=['customer_id','transaction_dt'])\n",
    "list_of_indexes = [np.argmin(g['transaction_dt']) for l, g in y_set.groupby('customer_id')]\n",
    "y_set=y_set.ix[list_of_indexes]\n",
    "y_set=y_set.reset_index(drop=True)\n",
    "print('number of unique customer ids:',len(set(list(y_set.customer_id))),'\\nlength of the dataset:',len(y_set))\n",
    "y_set.head()"
   ]
  },
  {
   "cell_type": "code",
   "execution_count": 1028,
   "metadata": {},
   "outputs": [
    {
     "data": {
      "text/html": [
       "<div>\n",
       "<style scoped>\n",
       "    .dataframe tbody tr th:only-of-type {\n",
       "        vertical-align: middle;\n",
       "    }\n",
       "\n",
       "    .dataframe tbody tr th {\n",
       "        vertical-align: top;\n",
       "    }\n",
       "\n",
       "    .dataframe thead th {\n",
       "        text-align: right;\n",
       "    }\n",
       "</style>\n",
       "<table border=\"1\" class=\"dataframe\">\n",
       "  <thead>\n",
       "    <tr style=\"text-align: right;\">\n",
       "      <th></th>\n",
       "      <th>transaction_dt</th>\n",
       "      <th>customer_id</th>\n",
       "      <th>week_number</th>\n",
       "      <th>amount</th>\n",
       "      <th>total_sum</th>\n",
       "      <th>frequency</th>\n",
       "      <th>recency</th>\n",
       "      <th>monetary</th>\n",
       "      <th>Cluster</th>\n",
       "      <th>age_int</th>\n",
       "      <th>pin_code_int</th>\n",
       "      <th>unit_price</th>\n",
       "      <th>Log_Unit_Price</th>\n",
       "    </tr>\n",
       "  </thead>\n",
       "  <tbody>\n",
       "    <tr>\n",
       "      <th>6664</th>\n",
       "      <td>2001-02-19</td>\n",
       "      <td>02175416</td>\n",
       "      <td>16</td>\n",
       "      <td>9</td>\n",
       "      <td>332.0</td>\n",
       "      <td>3</td>\n",
       "      <td>-1</td>\n",
       "      <td>1456.0</td>\n",
       "      <td>1</td>\n",
       "      <td>4</td>\n",
       "      <td>5</td>\n",
       "      <td>228.0</td>\n",
       "      <td>18.584848</td>\n",
       "    </tr>\n",
       "    <tr>\n",
       "      <th>6665</th>\n",
       "      <td>2001-02-28</td>\n",
       "      <td>02175508</td>\n",
       "      <td>17</td>\n",
       "      <td>9</td>\n",
       "      <td>579.0</td>\n",
       "      <td>3</td>\n",
       "      <td>-12</td>\n",
       "      <td>1658.0</td>\n",
       "      <td>2</td>\n",
       "      <td>1</td>\n",
       "      <td>5</td>\n",
       "      <td>502.0</td>\n",
       "      <td>29.260515</td>\n",
       "    </tr>\n",
       "    <tr>\n",
       "      <th>6666</th>\n",
       "      <td>2001-02-24</td>\n",
       "      <td>02176161</td>\n",
       "      <td>16</td>\n",
       "      <td>7</td>\n",
       "      <td>473.0</td>\n",
       "      <td>3</td>\n",
       "      <td>-6</td>\n",
       "      <td>1650.0</td>\n",
       "      <td>2</td>\n",
       "      <td>3</td>\n",
       "      <td>8</td>\n",
       "      <td>473.0</td>\n",
       "      <td>28.049340</td>\n",
       "    </tr>\n",
       "    <tr>\n",
       "      <th>6667</th>\n",
       "      <td>2001-02-22</td>\n",
       "      <td>02176185</td>\n",
       "      <td>16</td>\n",
       "      <td>12</td>\n",
       "      <td>162.0</td>\n",
       "      <td>3</td>\n",
       "      <td>-7</td>\n",
       "      <td>999.0</td>\n",
       "      <td>1</td>\n",
       "      <td>5</td>\n",
       "      <td>5</td>\n",
       "      <td>101.0</td>\n",
       "      <td>18.496041</td>\n",
       "    </tr>\n",
       "    <tr>\n",
       "      <th>6668</th>\n",
       "      <td>2001-02-22</td>\n",
       "      <td>02176529</td>\n",
       "      <td>16</td>\n",
       "      <td>4</td>\n",
       "      <td>64.0</td>\n",
       "      <td>3</td>\n",
       "      <td>-4</td>\n",
       "      <td>1094.0</td>\n",
       "      <td>1</td>\n",
       "      <td>2</td>\n",
       "      <td>7</td>\n",
       "      <td>32.0</td>\n",
       "      <td>5.509388</td>\n",
       "    </tr>\n",
       "  </tbody>\n",
       "</table>\n",
       "</div>"
      ],
      "text/plain": [
       "     transaction_dt customer_id  week_number  amount  total_sum  frequency  \\\n",
       "6664     2001-02-19    02175416           16       9      332.0          3   \n",
       "6665     2001-02-28    02175508           17       9      579.0          3   \n",
       "6666     2001-02-24    02176161           16       7      473.0          3   \n",
       "6667     2001-02-22    02176185           16      12      162.0          3   \n",
       "6668     2001-02-22    02176529           16       4       64.0          3   \n",
       "\n",
       "      recency  monetary  Cluster  age_int  pin_code_int  unit_price  \\\n",
       "6664       -1    1456.0        1        4             5       228.0   \n",
       "6665      -12    1658.0        2        1             5       502.0   \n",
       "6666       -6    1650.0        2        3             8       473.0   \n",
       "6667       -7     999.0        1        5             5       101.0   \n",
       "6668       -4    1094.0        1        2             7        32.0   \n",
       "\n",
       "      Log_Unit_Price  \n",
       "6664       18.584848  \n",
       "6665       29.260515  \n",
       "6666       28.049340  \n",
       "6667       18.496041  \n",
       "6668        5.509388  "
      ]
     },
     "execution_count": 1028,
     "metadata": {},
     "output_type": "execute_result"
    }
   ],
   "source": [
    "y_set.tail()"
   ]
  },
  {
   "cell_type": "markdown",
   "metadata": {},
   "source": [
    "Now we have two much smaller datasets than the original (817741), 6669 transactions for the y values (dependant) values and 6669 values for the x values (independant). Each transaction has a corresponding Customer ID in both datasets and all values in the X set should have transactions previous to those found in the y set."
   ]
  },
  {
   "cell_type": "code",
   "execution_count": 1029,
   "metadata": {},
   "outputs": [],
   "source": [
    "X_set_df=X_set[['customer_id', 'week_number', 'amount', 'total_sum', 'Cluster', 'age_int','pin_code_int','unit_price','Log_Unit_Price','frequency', 'recency', 'monetary']]#reduce Xset\n",
    "y_set_df=y_set[['customer_id','frequency','recency','monetary']]#reduce yset"
   ]
  },
  {
   "cell_type": "code",
   "execution_count": 1030,
   "metadata": {},
   "outputs": [],
   "source": [
    "X_set_df.to_pickle('X_set_df.pkl')\n",
    "y_set_df.to_pickle('y_set_df.pkl')"
   ]
  },
  {
   "cell_type": "markdown",
   "metadata": {},
   "source": [
    "_____________________________"
   ]
  },
  {
   "cell_type": "code",
   "execution_count": 1031,
   "metadata": {},
   "outputs": [],
   "source": [
    "with open('X_set_df.pkl', 'rb') as fp:\n",
    "     X_set_df = pickle.load(fp)\n",
    "with open('y_set_df.pkl', 'rb') as fp:\n",
    "     y_set_df = pickle.load(fp)"
   ]
  },
  {
   "cell_type": "code",
   "execution_count": 1032,
   "metadata": {},
   "outputs": [
    {
     "data": {
      "text/html": [
       "<div>\n",
       "<style scoped>\n",
       "    .dataframe tbody tr th:only-of-type {\n",
       "        vertical-align: middle;\n",
       "    }\n",
       "\n",
       "    .dataframe tbody tr th {\n",
       "        vertical-align: top;\n",
       "    }\n",
       "\n",
       "    .dataframe thead th {\n",
       "        text-align: right;\n",
       "    }\n",
       "</style>\n",
       "<table border=\"1\" class=\"dataframe\">\n",
       "  <thead>\n",
       "    <tr style=\"text-align: right;\">\n",
       "      <th></th>\n",
       "      <th>customer_id</th>\n",
       "      <th>week_number</th>\n",
       "      <th>amount</th>\n",
       "      <th>total_sum</th>\n",
       "      <th>Cluster</th>\n",
       "      <th>age_int</th>\n",
       "      <th>pin_code_int</th>\n",
       "      <th>unit_price</th>\n",
       "      <th>Log_Unit_Price</th>\n",
       "      <th>frequency</th>\n",
       "      <th>recency</th>\n",
       "      <th>monetary</th>\n",
       "    </tr>\n",
       "  </thead>\n",
       "  <tbody>\n",
       "    <tr>\n",
       "      <th>0</th>\n",
       "      <td>00005241</td>\n",
       "      <td>9</td>\n",
       "      <td>19</td>\n",
       "      <td>931.0</td>\n",
       "      <td>2</td>\n",
       "      <td>4</td>\n",
       "      <td>6</td>\n",
       "      <td>616.0</td>\n",
       "      <td>37.835101</td>\n",
       "      <td>2</td>\n",
       "      <td>-22</td>\n",
       "      <td>1256.0</td>\n",
       "    </tr>\n",
       "    <tr>\n",
       "      <th>1</th>\n",
       "      <td>00006668</td>\n",
       "      <td>3</td>\n",
       "      <td>11</td>\n",
       "      <td>873.0</td>\n",
       "      <td>2</td>\n",
       "      <td>4</td>\n",
       "      <td>5</td>\n",
       "      <td>835.0</td>\n",
       "      <td>33.561764</td>\n",
       "      <td>2</td>\n",
       "      <td>-14</td>\n",
       "      <td>1305.0</td>\n",
       "    </tr>\n",
       "    <tr>\n",
       "      <th>2</th>\n",
       "      <td>00010801</td>\n",
       "      <td>1</td>\n",
       "      <td>5</td>\n",
       "      <td>574.0</td>\n",
       "      <td>2</td>\n",
       "      <td>4</td>\n",
       "      <td>5</td>\n",
       "      <td>574.0</td>\n",
       "      <td>23.360238</td>\n",
       "      <td>2</td>\n",
       "      <td>-2</td>\n",
       "      <td>663.0</td>\n",
       "    </tr>\n",
       "  </tbody>\n",
       "</table>\n",
       "</div>"
      ],
      "text/plain": [
       "  customer_id  week_number  amount  total_sum  Cluster  age_int  pin_code_int  \\\n",
       "0    00005241            9      19      931.0        2        4             6   \n",
       "1    00006668            3      11      873.0        2        4             5   \n",
       "2    00010801            1       5      574.0        2        4             5   \n",
       "\n",
       "   unit_price  Log_Unit_Price  frequency  recency  monetary  \n",
       "0       616.0       37.835101          2      -22    1256.0  \n",
       "1       835.0       33.561764          2      -14    1305.0  \n",
       "2       574.0       23.360238          2       -2     663.0  "
      ]
     },
     "execution_count": 1032,
     "metadata": {},
     "output_type": "execute_result"
    }
   ],
   "source": [
    "X_set_df.head(3)"
   ]
  },
  {
   "cell_type": "code",
   "execution_count": 1033,
   "metadata": {},
   "outputs": [
    {
     "data": {
      "text/html": [
       "<div>\n",
       "<style scoped>\n",
       "    .dataframe tbody tr th:only-of-type {\n",
       "        vertical-align: middle;\n",
       "    }\n",
       "\n",
       "    .dataframe tbody tr th {\n",
       "        vertical-align: top;\n",
       "    }\n",
       "\n",
       "    .dataframe thead th {\n",
       "        text-align: right;\n",
       "    }\n",
       "</style>\n",
       "<table border=\"1\" class=\"dataframe\">\n",
       "  <thead>\n",
       "    <tr style=\"text-align: right;\">\n",
       "      <th></th>\n",
       "      <th>customer_id</th>\n",
       "      <th>frequency</th>\n",
       "      <th>recency</th>\n",
       "      <th>monetary</th>\n",
       "    </tr>\n",
       "  </thead>\n",
       "  <tbody>\n",
       "    <tr>\n",
       "      <th>0</th>\n",
       "      <td>00005241</td>\n",
       "      <td>4</td>\n",
       "      <td>-34</td>\n",
       "      <td>3396.0</td>\n",
       "    </tr>\n",
       "    <tr>\n",
       "      <th>1</th>\n",
       "      <td>00006668</td>\n",
       "      <td>10</td>\n",
       "      <td>-5</td>\n",
       "      <td>5099.0</td>\n",
       "    </tr>\n",
       "    <tr>\n",
       "      <th>2</th>\n",
       "      <td>00010801</td>\n",
       "      <td>15</td>\n",
       "      <td>-7</td>\n",
       "      <td>7045.0</td>\n",
       "    </tr>\n",
       "  </tbody>\n",
       "</table>\n",
       "</div>"
      ],
      "text/plain": [
       "  customer_id  frequency  recency  monetary\n",
       "0    00005241          4      -34    3396.0\n",
       "1    00006668         10       -5    5099.0\n",
       "2    00010801         15       -7    7045.0"
      ]
     },
     "execution_count": 1033,
     "metadata": {},
     "output_type": "execute_result"
    }
   ],
   "source": [
    "y_set_df.head(3)"
   ]
  },
  {
   "cell_type": "markdown",
   "metadata": {},
   "source": [
    "_________________"
   ]
  },
  {
   "cell_type": "markdown",
   "metadata": {},
   "source": [
    "Full Model\n",
    "==="
   ]
  },
  {
   "cell_type": "markdown",
   "metadata": {},
   "source": [
    "Here I am choosing to use, in a way, the simplest method; just pass all the features that I feel could help to possibly inform the prediction along with split values of Customer ID and R,M,F values. *(Let's call it the kitchen sink approach)* These values are passed into a function below that splits the Customer IDs into seperate integer values, just in case there truly are features within the Customer ID that can inform RFM prediction.\n",
    "\n",
    "*Note: I didn't include date for obvious reasons.*"
   ]
  },
  {
   "cell_type": "code",
   "execution_count": 1034,
   "metadata": {},
   "outputs": [],
   "source": [
    "def return_pair(df,indexer=0):\n",
    "    '''\n",
    "    Splits the Customer ID into integers and places other values alongside in the array.\n",
    "    '''\n",
    "    data=df.iloc[indexer]\n",
    "    x=[]\n",
    "    part1=list(map(int,list(data.iloc[0])))\n",
    "    part2=list(data.iloc[1:])\n",
    "    x.extend(part1)\n",
    "    x.extend(part2)\n",
    "    x=np.array(x)\n",
    "    return x"
   ]
  },
  {
   "cell_type": "code",
   "execution_count": 1035,
   "metadata": {},
   "outputs": [],
   "source": [
    "X_set=np.array([return_pair(X_set_df,i) for i in range(0,len(X_set_df))])\n",
    "#X_set=np.array(X_set.values)"
   ]
  },
  {
   "cell_type": "code",
   "execution_count": 1036,
   "metadata": {},
   "outputs": [
    {
     "data": {
      "text/plain": [
       "array([ 0.00000000e+00,  0.00000000e+00,  0.00000000e+00,  0.00000000e+00,\n",
       "        5.00000000e+00,  2.00000000e+00,  4.00000000e+00,  1.00000000e+00,\n",
       "        9.00000000e+00,  1.90000000e+01,  9.31000000e+02,  2.00000000e+00,\n",
       "        4.00000000e+00,  6.00000000e+00,  6.16000000e+02,  3.78351009e+01,\n",
       "        2.00000000e+00, -2.20000000e+01,  1.25600000e+03])"
      ]
     },
     "execution_count": 1036,
     "metadata": {},
     "output_type": "execute_result"
    }
   ],
   "source": [
    "X_set[0]"
   ]
  },
  {
   "cell_type": "code",
   "execution_count": 1037,
   "metadata": {},
   "outputs": [],
   "source": [
    "y_set=np.array([return_pair(y_set_df,i) for i in range(0,len(y_set_df))])\n",
    "#y_set=np.array(y_set.values)"
   ]
  },
  {
   "cell_type": "code",
   "execution_count": 1038,
   "metadata": {},
   "outputs": [
    {
     "data": {
      "text/plain": [
       "array([ 0.000e+00,  0.000e+00,  0.000e+00,  0.000e+00,  5.000e+00,\n",
       "        2.000e+00,  4.000e+00,  1.000e+00,  4.000e+00, -3.400e+01,\n",
       "        3.396e+03])"
      ]
     },
     "execution_count": 1038,
     "metadata": {},
     "output_type": "execute_result"
    }
   ],
   "source": [
    "y_set[0]"
   ]
  },
  {
   "cell_type": "code",
   "execution_count": 1039,
   "metadata": {},
   "outputs": [
    {
     "name": "stdout",
     "output_type": "stream",
     "text": [
      "Original size: 6669 \n",
      "20 Percent of size: 1334\n"
     ]
    }
   ],
   "source": [
    "n_orig_size=len(X_set)\n",
    "n_train_percent = round(n_orig_size*.2)\n",
    "print('Original size:',n_orig_size,'\\n20 Percent of size:',n_train_percent)"
   ]
  },
  {
   "cell_type": "markdown",
   "metadata": {},
   "source": [
    "**Split into Training and Test sets**\n",
    "\n",
    "*80/20 split*"
   ]
  },
  {
   "cell_type": "code",
   "execution_count": 1040,
   "metadata": {},
   "outputs": [],
   "source": [
    "train_X=X_set[n_train_percent:,:]\n",
    "train_y=y_set[n_train_percent:,:]\n",
    "test_X=X_set[:n_train_percent, :]\n",
    "test_y=y_set[:n_train_percent, :]"
   ]
  },
  {
   "cell_type": "code",
   "execution_count": 1041,
   "metadata": {},
   "outputs": [
    {
     "data": {
      "text/plain": [
       "((5335, 19), (1334, 19))"
      ]
     },
     "execution_count": 1041,
     "metadata": {},
     "output_type": "execute_result"
    }
   ],
   "source": [
    "train_X.shape,test_X.shape"
   ]
  },
  {
   "cell_type": "code",
   "execution_count": 1042,
   "metadata": {},
   "outputs": [
    {
     "data": {
      "text/plain": [
       "((5335, 11), (1334, 11))"
      ]
     },
     "execution_count": 1042,
     "metadata": {},
     "output_type": "execute_result"
    }
   ],
   "source": [
    "train_y.shape,test_y.shape"
   ]
  },
  {
   "cell_type": "markdown",
   "metadata": {},
   "source": [
    "**Normalize the X,y sets**\n",
    "\n",
    "Both sets have values on different scales."
   ]
  },
  {
   "cell_type": "code",
   "execution_count": 1043,
   "metadata": {},
   "outputs": [],
   "source": [
    "scaler_y = MinMaxScaler(feature_range=(0, 1))\n",
    "train_y = scaler_y.fit_transform(train_y)\n",
    "test_y = scaler_y.fit_transform(test_y)"
   ]
  },
  {
   "cell_type": "code",
   "execution_count": 1044,
   "metadata": {},
   "outputs": [],
   "source": [
    "scaler_x = MinMaxScaler(feature_range=(0, 1))\n",
    "rescaled_x_train = scaler_x.fit_transform(train_X)\n",
    "rescaled_x_test = scaler_x.fit_transform(test_X)"
   ]
  },
  {
   "cell_type": "markdown",
   "metadata": {},
   "source": [
    "Return array shapes because it matters.."
   ]
  },
  {
   "cell_type": "code",
   "execution_count": 1045,
   "metadata": {},
   "outputs": [
    {
     "name": "stdout",
     "output_type": "stream",
     "text": [
      "train_X (5335, 1, 19) \n",
      "train_y (5335, 11) \n",
      "test_X (1334, 1, 19) \n",
      "test_y (1334, 11)\n"
     ]
    }
   ],
   "source": [
    "# reshape input to be 3D [samples, timesteps, features]\n",
    "train_X = rescaled_x_train.reshape((rescaled_x_train.shape[0], 1, rescaled_x_train.shape[1]))\n",
    "test_X = rescaled_x_test.reshape((rescaled_x_test.shape[0], 1, rescaled_x_test.shape[1]))\n",
    "print('train_X',train_X.shape,'\\ntrain_y', train_y.shape,'\\ntest_X', test_X.shape,'\\ntest_y', test_y.shape)\n",
    " "
   ]
  },
  {
   "cell_type": "markdown",
   "metadata": {},
   "source": [
    "### Hyperperameters\n",
    "\n",
    "    1. SimpleRNN\n",
    "    2. Relu activation\n",
    "    3. 250 hidden units\n",
    "    4. L1 regularization at 0.0001\n",
    "    5. MSE loss\n",
    "    6. Batch size 120\n",
    "    7. Shuffle=True\n",
    "    8. 1000 epochs\n",
    "\n",
    "The hyperperameter options are pretty similar to the ones mentioned in the 'Customer Shopping Pattern Prediction' paper. I think the only difference is I'm using the all so popular Adam optimizer as opposed to SGD. Since Adam is based on SGD I think its a narrow distinction. I get better results with Adam."
   ]
  },
  {
   "cell_type": "code",
   "execution_count": 1046,
   "metadata": {},
   "outputs": [
    {
     "name": "stdout",
     "output_type": "stream",
     "text": [
      "_________________________________________________________________\n",
      "Layer (type)                 Output Shape              Param #   \n",
      "=================================================================\n",
      "simple_rnn_19 (SimpleRNN)    (None, 19)                741       \n",
      "_________________________________________________________________\n",
      "dense_37 (Dense)             (None, 250)               5000      \n",
      "_________________________________________________________________\n",
      "dense_38 (Dense)             (None, 11)                2761      \n",
      "=================================================================\n",
      "Total params: 8,502\n",
      "Trainable params: 8,502\n",
      "Non-trainable params: 0\n",
      "_________________________________________________________________\n"
     ]
    }
   ],
   "source": [
    "epochs = 1000\n",
    "learning_rate = 0.001\n",
    "model = Sequential()\n",
    "model.add(SimpleRNN(19,activation='relu',input_shape=(train_X.shape[1], train_X.shape[2])))\n",
    "model.add(Dense(250,kernel_initializer='random_uniform', activity_regularizer=regularizers.l1(0.0001)))\n",
    "model.add(Dense(11))\n",
    "model.compile(loss='mse', optimizer='adam', metrics=['mae', 'acc'])\n",
    "model.summary()\n"
   ]
  },
  {
   "cell_type": "code",
   "execution_count": 1047,
   "metadata": {},
   "outputs": [],
   "source": [
    "%%capture captured\n",
    "\n",
    "# fit network\n",
    "history = model.fit(train_X, train_y, epochs=epochs, batch_size=120, validation_data=(test_X, test_y), validation_split=0.3, verbose=1, shuffle=True)"
   ]
  },
  {
   "cell_type": "code",
   "execution_count": 1048,
   "metadata": {},
   "outputs": [],
   "source": [
    "file_out=captured.stdout"
   ]
  },
  {
   "cell_type": "code",
   "execution_count": 1049,
   "metadata": {},
   "outputs": [
    {
     "name": "stdout",
     "output_type": "stream",
     "text": [
      "mean_absolute_error: 0.0206 - acc: 0.7572\b\b\b\b\b\b\b\b\b\b\b\b\b\b\b\b\b\b\b\b\b\b\b\b\b\b\b\b\b\b\b\b\b\b\b\b\b\b\b\b\b\b\b\b\b\b\b\b\b\b\b\b\b\b\b\b\b\b\b\b\b\b\b\b\b\b\b\b\b\b\b\b\b\b\b\b\b\b\b\b\b\b\b\b\b\b\b\b\b\b\b\b\b\b\b\b\b\b\b\b\b\b\b\b\b\b\b\b\b\b\b\r",
      "2640/5335 [=============>................] - ETA: 0s - loss: 0.0041 - mean_absolute_error: 0.0210 - acc: 0.7564\b\b\b\b\b\b\b\b\b\b\b\b\b\b\b\b\b\b\b\b\b\b\b\b\b\b\b\b\b\b\b\b\b\b\b\b\b\b\b\b\b\b\b\b\b\b\b\b\b\b\b\b\b\b\b\b\b\b\b\b\b\b\b\b\b\b\b\b\b\b\b\b\b\b\b\b\b\b\b\b\b\b\b\b\b\b\b\b\b\b\b\b\b\b\b\b\b\b\b\b\b\b\b\b\b\b\b\b\b\b\b\r",
      "3360/5335 [=================>............] - ETA: 0s - loss: 0.0040 - mean_absolute_error: 0.0205 - acc: 0.7568\b\b\b\b\b\b\b\b\b\b\b\b\b\b\b\b\b\b\b\b\b\b\b\b\b\b\b\b\b\b\b\b\b\b\b\b\b\b\b\b\b\b\b\b\b\b\b\b\b\b\b\b\b\b\b\b\b\b\b\b\b\b\b\b\b\b\b\b\b\b\b\b\b\b\b\b\b\b\b\b\b\b\b\b\b\b\b\b\b\b\b\b\b\b\b\b\b\b\b\b\b\b\b\b\b\b\b\b\b\b\b\r",
      "4080/5335 [=====================>........] - ETA: 0s - loss: 0.0039 - mean_absolute_error: 0.0204 - acc: 0.7581\b\b\b\b\b\b\b\b\b\b\b\b\b\b\b\b\b\b\b\b\b\b\b\b\b\b\b\b\b\b\b\b\b\b\b\b\b\b\b\b\b\b\b\b\b\b\b\b\b\b\b\b\b\b\b\b\b\b\b\b\b\b\b\b\b\b\b\b\b\b\b\b\b\b\b\b\b\b\b\b\b\b\b\b\b\b\b\b\b\b\b\b\b\b\b\b\b\b\b\b\b\b\b\b\b\b\b\b\b\b\b\r",
      "4920/5335 [==========================>...] - ETA: 0s - loss: 0.0040 - mean_absolute_error: 0.0206 - acc: 0.7583\b\b\b\b\b\b\b\b\b\b\b\b\b\b\b\b\b\b\b\b\b\b\b\b\b\b\b\b\b\b\b\b\b\b\b\b\b\b\b\b\b\b\b\b\b\b\b\b\b\b\b\b\b\b\b\b\b\b\b\b\b\b\b\b\b\b\b\b\b\b\b\b\b\b\b\b\b\b\b\b\b\b\b\b\b\b\b\b\b\b\b\b\b\b\b\b\b\b\b\b\b\b\b\b\b\b\b\b\b\b\b\r",
      "5335/5335 [==============================] - 0s 79us/step - loss: 0.0039 - mean_absolute_error: 0.0209 - acc: 0.7604 - val_loss: 0.0045 - val_mean_absolute_error: 0.0234 - val_acc: 0.7751\n",
      "Epoch 991/1000\n",
      "\r",
      " 120/5335 [..............................] - ETA: 0s - loss: 0.0035 - mean_absolute_error: 0.0219 - acc: 0.8167\b\b\b\b\b\b\b\b\b\b\b\b\b\b\b\b\b\b\b\b\b\b\b\b\b\b\b\b\b\b\b\b\b\b\b\b\b\b\b\b\b\b\b\b\b\b\b\b\b\b\b\b\b\b\b\b\b\b\b\b\b\b\b\b\b\b\b\b\b\b\b\b\b\b\b\b\b\b\b\b\b\b\b\b\b\b\b\b\b\b\b\b\b\b\b\b\b\b\b\b\b\b\b\b\b\b\b\b\b\b\b\r",
      " 840/5335 [===>..........................] - ETA: 0s - loss: 0.0040 - mean_absolute_error: 0.0209 - acc: 0.7690\b\b\b\b\b\b\b\b\b\b\b\b\b\b\b\b\b\b\b\b\b\b\b\b\b\b\b\b\b\b\b\b\b\b\b\b\b\b\b\b\b\b\b\b\b\b\b\b\b\b\b\b\b\b\b\b\b\b\b\b\b\b\b\b\b\b\b\b\b\b\b\b\b\b\b\b\b\b\b\b\b\b\b\b\b\b\b\b\b\b\b\b\b\b\b\b\b\b\b\b\b\b\b\b\b\b\b\b\b\b\b\r",
      "1680/5335 [========>.....................] - ETA: 0s - loss: 0.0042 - mean_absolute_error: 0.0222 - acc: 0.7488\b\b\b\b\b\b\b\b\b\b\b\b\b\b\b\b\b\b\b\b\b\b\b\b\b\b\b\b\b\b\b\b\b\b\b\b\b\b\b\b\b\b\b\b\b\b\b\b\b\b\b\b\b\b\b\b\b\b\b\b\b\b\b\b\b\b\b\b\b\b\b\b\b\b\b\b\b\b\b\b\b\b\b\b\b\b\b\b\b\b\b\b\b\b\b\b\b\b\b\b\b\b\b\b\b\b\b\b\b\b\b\r",
      "2400/5335 [============>.................] - ETA: 0s - loss: 0.0040 - mean_absolute_error: 0.0223 - acc: 0.7512\b\b\b\b\b\b\b\b\b\b\b\b\b\b\b\b\b\b\b\b\b\b\b\b\b\b\b\b\b\b\b\b\b\b\b\b\b\b\b\b\b\b\b\b\b\b\b\b\b\b\b\b\b\b\b\b\b\b\b\b\b\b\b\b\b\b\b\b\b\b\b\b\b\b\b\b\b\b\b\b\b\b\b\b\b\b\b\b\b\b\b\b\b\b\b\b\b\b\b\b\b\b\b\b\b\b\b\b\b\b\b\r",
      "3240/5335 [=================>............] - ETA: 0s - loss: 0.0040 - mean_absolute_error: 0.0221 - acc: 0.7571\b\b\b\b\b\b\b\b\b\b\b\b\b\b\b\b\b\b\b\b\b\b\b\b\b\b\b\b\b\b\b\b\b\b\b\b\b\b\b\b\b\b\b\b\b\b\b\b\b\b\b\b\b\b\b\b\b\b\b\b\b\b\b\b\b\b\b\b\b\b\b\b\b\b\b\b\b\b\b\b\b\b\b\b\b\b\b\b\b\b\b\b\b\b\b\b\b\b\b\b\b\b\b\b\b\b\b\b\b\b\b\r",
      "4080/5335 [=====================>........] - ETA: 0s - loss: 0.0040 - mean_absolute_error: 0.0218 - acc: 0.7574\b\b\b\b\b\b\b\b\b\b\b\b\b\b\b\b\b\b\b\b\b\b\b\b\b\b\b\b\b\b\b\b\b\b\b\b\b\b\b\b\b\b\b\b\b\b\b\b\b\b\b\b\b\b\b\b\b\b\b\b\b\b\b\b\b\b\b\b\b\b\b\b\b\b\b\b\b\b\b\b\b\b\b\b\b\b\b\b\b\b\b\b\b\b\b\b\b\b\b\b\b\b\b\b\b\b\b\b\b\b\b\r",
      "4920/5335 [==========================>...] - ETA: 0s - loss: 0.0040 - mean_absolute_error: 0.0216 - acc: 0.7567\b\b\b\b\b\b\b\b\b\b\b\b\b\b\b\b\b\b\b\b\b\b\b\b\b\b\b\b\b\b\b\b\b\b\b\b\b\b\b\b\b\b\b\b\b\b\b\b\b\b\b\b\b\b\b\b\b\b\b\b\b\b\b\b\b\b\b\b\b\b\b\b\b\b\b\b\b\b\b\b\b\b\b\b\b\b\b\b\b\b\b\b\b\b\b\b\b\b\b\b\b\b\b\b\b\b\b\b\b\b\b\r",
      "5335/5335 [==============================] - 0s 77us/step - loss: 0.0040 - mean_absolute_error: 0.0215 - acc: 0.7575 - val_loss: 0.0044 - val_mean_absolute_error: 0.0230 - val_acc: 0.7901\n",
      "Epoch 992/1000\n",
      "\r",
      " 120/5335 [..............................] - ETA: 0s - loss: 0.0036 - mean_absolute_error: 0.0203 - acc: 0.7500\b\b\b\b\b\b\b\b\b\b\b\b\b\b\b\b\b\b\b\b\b\b\b\b\b\b\b\b\b\b\b\b\b\b\b\b\b\b\b\b\b\b\b\b\b\b\b\b\b\b\b\b\b\b\b\b\b\b\b\b\b\b\b\b\b\b\b\b\b\b\b\b\b\b\b\b\b\b\b\b\b\b\b\b\b\b\b\b\b\b\b\b\b\b\b\b\b\b\b\b\b\b\b\b\b\b\b\b\b\b\b\r",
      " 840/5335 [===>..........................] - ETA: 0s - loss: 0.0039 - mean_absolute_error: 0.0211 - acc: 0.7440\b\b\b\b\b\b\b\b\b\b\b\b\b\b\b\b\b\b\b\b\b\b\b\b\b\b\b\b\b\b\b\b\b\b\b\b\b\b\b\b\b\b\b\b\b\b\b\b\b\b\b\b\b\b\b\b\b\b\b\b\b\b\b\b\b\b\b\b\b\b\b\b\b\b\b\b\b\b\b\b\b\b\b\b\b\b\b\b\b\b\b\b\b\b\b\b\b\b\b\b\b\b\b\b\b\b\b\b\b\b\b\r",
      "1680/5335 [========>.....................] - ETA: 0s - loss: 0.0041 - mean_absolute_error: 0.0212 - acc: 0.7393\b\b\b\b\b\b\b\b\b\b\b\b\b\b\b\b\b\b\b\b\b\b\b\b\b\b\b\b\b\b\b\b\b\b\b\b\b\b\b\b\b\b\b\b\b\b\b\b\b\b\b\b\b\b\b\b\b\b\b\b\b\b\b\b\b\b\b\b\b\b\b\b\b\b\b\b\b\b\b\b\b\b\b\b\b\b\b\b\b\b\b\b\b\b\b\b\b\b\b\b\b\b\b\b\b\b\b\b\b\b\b\r",
      "2520/5335 [=============>................] - ETA: 0s - loss: 0.0041 - mean_absolute_error: 0.0213 - acc: 0.7425\b\b\b\b\b\b\b\b\b\b\b\b\b\b\b\b\b\b\b\b\b\b\b\b\b\b\b\b\b\b\b\b\b\b\b\b\b\b\b\b\b\b\b\b\b\b\b\b\b\b\b\b\b\b\b\b\b\b\b\b\b\b\b\b\b\b\b\b\b\b\b\b\b\b\b\b\b\b\b\b\b\b\b\b\b\b\b\b\b\b\b\b\b\b\b\b\b\b\b\b\b\b\b\b\b\b\b\b\b\b\b\r",
      "3360/5335 [=================>............] - ETA: 0s - loss: 0.0041 - mean_absolute_error: 0.0215 - acc: 0.7548\b\b\b\b\b\b\b\b\b\b\b\b\b\b\b\b\b\b\b\b\b\b\b\b\b\b\b\b\b\b\b\b\b\b\b\b\b\b\b\b\b\b\b\b\b\b\b\b\b\b\b\b\b\b\b\b\b\b\b\b\b\b\b\b\b\b\b\b\b\b\b\b\b\b\b\b\b\b\b\b\b\b\b\b\b\b\b\b\b\b\b\b\b\b\b\b\b\b\b\b\b\b\b\b\b\b\b\b\b\b\b\r",
      "4200/5335 [======================>.......] - ETA: 0s - loss: 0.0041 - mean_absolute_error: 0.0213 - acc: 0.7531\b\b\b\b\b\b\b\b\b\b\b\b\b\b\b\b\b\b\b\b\b\b\b\b\b\b\b\b\b\b\b\b\b\b\b\b\b\b\b\b\b\b\b\b\b\b\b\b\b\b\b\b\b\b\b\b\b\b\b\b\b\b\b\b\b\b\b\b\b\b\b\b\b\b\b\b\b\b\b\b\b\b\b\b\b\b\b\b\b\b\b\b\b\b\b\b\b\b\b\b\b\b\b\b\b\b\b\b\b\b\b\r",
      "5040/5335 [===========================>..] - ETA: 0s - loss: 0.0040 - mean_absolute_error: 0.0209 - acc: 0.7565\b\b\b\b\b\b\b\b\b\b\b\b\b\b\b\b\b\b\b\b\b\b\b\b\b\b\b\b\b\b\b\b\b\b\b\b\b\b\b\b\b\b\b\b\b\b\b\b\b\b\b\b\b\b\b\b\b\b\b\b\b\b\b\b\b\b\b\b\b\b\b\b\b\b\b\b\b\b\b\b\b\b\b\b\b\b\b\b\b\b\b\b\b\b\b\b\b\b\b\b\b\b\b\b\b\b\b\b\b\b\b\r",
      "5335/5335 [==============================] - 0s 76us/step - loss: 0.0040 - mean_absolute_error: 0.0208 - acc: 0.7573 - val_loss: 0.0045 - val_mean_absolute_error: 0.0241 - val_acc: 0.7736\n",
      "Epoch 993/1000\n",
      "\r",
      " 120/5335 [..............................] - ETA: 0s - loss: 0.0045 - mean_absolute_error: 0.0236 - acc: 0.7833\b\b\b\b\b\b\b\b\b\b\b\b\b\b\b\b\b\b\b\b\b\b\b\b\b\b\b\b\b\b\b\b\b\b\b\b\b\b\b\b\b\b\b\b\b\b\b\b\b\b\b\b\b\b\b\b\b\b\b\b\b\b\b\b\b\b\b\b\b\b\b\b\b\b\b\b\b\b\b\b\b\b\b\b\b\b\b\b\b\b\b\b\b\b\b\b\b\b\b\b\b\b\b\b\b\b\b\b\b\b\b\r",
      " 960/5335 [====>.........................] - ETA: 0s - loss: 0.0042 - mean_absolute_error: 0.0224 - acc: 0.7792\b\b\b\b\b\b\b\b\b\b\b\b\b\b\b\b\b\b\b\b\b\b\b\b\b\b\b\b\b\b\b\b\b\b\b\b\b\b\b\b\b\b\b\b\b\b\b\b\b\b\b\b\b\b\b\b\b\b\b\b\b\b\b\b\b\b\b\b\b\b\b\b\b\b\b\b\b\b\b\b\b\b\b\b\b\b\b\b\b\b\b\b\b\b\b\b\b\b\b\b\b\b\b\b\b\b\b\b\b\b\b\r",
      "1800/5335 [=========>....................] - ETA: 0s - loss: 0.0041 - mean_absolute_error: 0.0214 - acc: 0.7728\b\b\b\b\b\b\b\b\b\b\b\b\b\b\b\b\b\b\b\b\b\b\b\b\b\b\b\b\b\b\b\b\b\b\b\b\b\b\b\b\b\b\b\b\b\b\b\b\b\b\b\b\b\b\b\b\b\b\b\b\b\b\b\b\b\b\b\b\b\b\b\b\b\b\b\b\b\b\b\b\b\b\b\b\b\b\b\b\b\b\b\b\b\b\b\b\b\b\b\b\b\b\b\b\b\b\b\b\b\b\b\r",
      "2640/5335 [=============>................] - ETA: 0s - loss: 0.0039 - mean_absolute_error: 0.0206 - acc: 0.7686\b\b\b\b\b\b\b\b\b\b\b\b\b\b\b\b\b\b\b\b\b\b\b\b\b\b\b\b\b\b\b\b\b\b\b\b\b\b\b\b\b\b\b\b\b\b\b\b\b\b\b\b\b\b\b\b\b\b\b\b\b\b\b\b\b\b\b\b\b\b\b\b\b\b\b\b\b\b\b\b\b\b\b\b\b\b\b\b\b\b\b\b\b\b\b\b\b\b\b\b\b\b\b\b\b\b\b\b\b\b\b\r",
      "3360/5335 [=================>............] - ETA: 0s - loss: 0.0039 - mean_absolute_error: 0.0205 - acc: 0.7631\b\b\b\b\b\b\b\b\b\b\b\b\b\b\b\b\b\b\b\b\b\b\b\b\b\b\b\b\b\b\b\b\b\b\b\b\b\b\b\b\b\b\b\b\b\b\b\b\b\b\b\b\b\b\b\b\b\b\b\b\b\b\b\b\b\b\b\b\b\b\b\b\b\b\b\b\b\b\b\b\b\b\b\b\b\b\b\b\b\b\b\b\b\b\b\b\b\b\b\b\b\b\b\b\b\b\b\b\b\b\b\r",
      "4200/5335 [======================>.......] - ETA: 0s - loss: 0.0039 - mean_absolute_error: 0.0205 - acc: 0.7629\b\b\b\b\b\b\b\b\b\b\b\b\b\b\b\b\b\b\b\b\b\b\b\b\b\b\b\b\b\b\b\b\b\b\b\b\b\b\b\b\b\b\b\b\b\b\b\b\b\b\b\b\b\b\b\b\b\b\b\b\b\b\b\b\b\b\b\b\b\b\b\b\b\b\b\b\b\b\b\b\b\b\b\b\b\b\b\b\b\b\b\b\b\b\b\b\b\b\b\b\b\b\b\b\b\b\b\b\b\b\b\r",
      "5040/5335 [===========================>..] - ETA: 0s - loss: 0.0040 - mean_absolute_error: 0.0207 - acc: 0.7611\b\b\b\b\b\b\b\b\b\b\b\b\b\b\b\b\b\b\b\b\b\b\b\b\b\b\b\b\b\b\b\b\b\b\b\b\b\b\b\b\b\b\b\b\b\b\b\b\b\b\b\b\b\b\b\b\b\b\b\b\b\b\b\b\b\b\b\b\b\b\b\b\b\b\b\b\b\b\b\b\b\b\b\b\b\b\b\b\b\b\b\b\b\b\b\b\b\b\b\b\b\b\b\b\b\b\b\b\b\b\b\r",
      "5335/5335 [==============================] - 0s 76us/step - loss: 0.0039 - mean_absolute_error: 0.0208 - acc: 0.7595 - val_loss: 0.0046 - val_mean_absolute_error: 0.0260 - val_acc: 0.7579\n",
      "Epoch 994/1000\n",
      "\r",
      " 120/5335 [..............................] - ETA: 0s - loss: 0.0045 - mean_absolute_error: 0.0252 - acc: 0.7917\b\b\b\b\b\b\b\b\b\b\b\b\b\b\b\b\b\b\b\b\b\b\b\b\b\b\b\b\b\b\b\b\b\b\b\b\b\b\b\b\b\b\b\b\b\b\b\b\b\b\b\b\b\b\b\b\b\b\b\b\b\b\b\b\b\b\b\b\b\b\b\b\b\b\b\b\b\b\b\b\b\b\b\b\b\b\b\b\b\b\b\b\b\b\b\b\b\b\b\b\b\b\b\b\b\b\b\b\b\b\b\r",
      " 960/5335 [====>.........................] - ETA: 0s - loss: 0.0038 - mean_absolute_error: 0.0238 - acc: 0.7646\b\b\b\b\b\b\b\b\b\b\b\b\b\b\b\b\b\b\b\b\b\b\b\b\b\b\b\b\b\b\b\b\b\b\b\b\b\b\b\b\b\b\b\b\b\b\b\b\b\b\b\b\b\b\b\b\b\b\b\b\b\b\b\b\b\b\b\b\b\b\b\b\b\b\b\b\b\b\b\b\b\b\b\b\b\b\b\b\b\b\b\b\b\b\b\b\b\b\b\b\b\b\b\b\b\b\b\b\b\b\b\r",
      "1680/5335 [========>.....................] - ETA: 0s - loss: 0.0038 - mean_absolute_error: 0.0228 - acc: 0.7625\b\b\b\b\b\b\b\b\b\b\b\b\b\b\b\b\b\b\b\b\b\b\b\b\b\b\b\b\b\b\b\b\b\b\b\b\b\b\b\b\b\b\b\b\b\b\b\b\b\b\b\b\b\b\b\b\b\b\b\b\b\b\b\b\b\b\b\b\b\b\b\b\b\b\b\b\b\b\b\b\b\b\b\b\b\b\b\b\b\b\b\b\b\b\b\b\b\b\b\b\b\b\b\b\b\b\b\b\b\b\b\r",
      "2400/5335 [============>.................] - ETA: 0s - loss: 0.0041 - mean_absolute_error: 0.0243 - acc: 0.7592\b\b\b\b\b\b\b\b\b\b\b\b\b\b\b\b\b\b\b\b\b\b\b\b\b\b\b\b\b\b\b\b\b\b\b\b\b\b\b\b\b\b\b\b\b\b\b\b\b\b\b\b\b\b\b\b\b\b\b\b\b\b\b\b\b\b\b\b\b\b\b\b\b\b\b\b\b\b\b\b\b\b\b\b\b\b\b\b\b\b\b\b\b\b\b\b\b\b\b\b\b\b\b\b\b\b\b\b\b\b\b\r",
      "3240/5335 [=================>............] - ETA: 0s - loss: 0.0040 - mean_absolute_error: 0.0237 - acc: 0.7534\b\b\b\b\b\b\b\b\b\b\b\b\b\b\b\b\b\b\b\b\b\b\b\b\b\b\b\b\b\b\b\b\b\b\b\b\b\b\b\b\b\b\b\b\b\b\b\b\b\b\b\b\b\b\b\b\b\b\b\b\b\b\b\b\b\b\b\b\b\b\b\b\b\b\b\b\b\b\b\b\b\b\b\b\b\b\b\b\b\b\b\b\b\b\b\b\b\b\b\b\b\b\b\b\b\b\b\b\b\b\b\r",
      "3960/5335 [=====================>........] - ETA: 0s - loss: 0.0040 - mean_absolute_error: 0.0235 - acc: 0.7568\b\b\b\b\b\b\b\b\b\b\b\b\b\b\b\b\b\b\b\b\b\b\b\b\b\b\b\b\b\b\b\b\b\b\b\b\b\b\b\b\b\b\b\b\b\b\b\b\b\b\b\b\b\b\b\b\b\b\b\b\b\b\b\b\b\b\b\b\b\b\b\b\b\b\b\b\b\b\b\b\b\b\b\b\b\b\b\b\b\b\b\b\b\b\b\b\b\b\b\b\b\b\b\b\b\b\b\b\b\b\b\r",
      "4680/5335 [=========================>....] - ETA: 0s - loss: 0.0040 - mean_absolute_error: 0.0233 - acc: 0.7598\b\b\b\b\b\b\b\b\b\b\b\b\b\b\b\b\b\b\b\b\b\b\b\b\b\b\b\b\b\b\b\b\b\b\b\b\b\b\b\b\b\b\b\b\b\b\b\b\b\b\b\b\b\b\b\b\b\b\b\b\b\b\b\b\b\b\b\b\b\b\b\b\b\b\b\b\b\b\b\b\b\b\b\b\b\b\b\b\b\b\b\b\b\b\b\b\b\b\b\b\b\b\b\b\b\b\b\b\b\b\b\r",
      "5335/5335 [==============================] - 0s 82us/step - loss: 0.0040 - mean_absolute_error: 0.0230 - acc: 0.7584 - val_loss: 0.0044 - val_mean_absolute_error: 0.0235 - val_acc: 0.7676\n",
      "Epoch 995/1000\n",
      "\r",
      " 120/5335 [..............................] - ETA: 0s - loss: 0.0039 - mean_absolute_error: 0.0214 - acc: 0.7833\b\b\b\b\b\b\b\b\b\b\b\b\b\b\b\b\b\b\b\b\b\b\b\b\b\b\b\b\b\b\b\b\b\b\b\b\b\b\b\b\b\b\b\b\b\b\b\b\b\b\b\b\b\b\b\b\b\b\b\b\b\b\b\b\b\b\b\b\b\b\b\b\b\b\b\b\b\b\b\b\b\b\b\b\b\b\b\b\b\b\b\b\b\b\b\b\b\b\b\b\b\b\b\b\b\b\b\b\b\b\b\r",
      " 840/5335 [===>..........................] - ETA: 0s - loss: 0.0038 - mean_absolute_error: 0.0212 - acc: 0.7690\b\b\b\b\b\b\b\b\b\b\b\b\b\b\b\b\b\b\b\b\b\b\b\b\b\b\b\b\b\b\b\b\b\b\b\b\b\b\b\b\b\b\b\b\b\b\b\b\b\b\b\b\b\b\b\b\b\b\b\b\b\b\b\b\b\b\b\b\b\b\b\b\b\b\b\b\b\b\b\b\b\b\b\b\b\b\b\b\b\b\b\b\b\b\b\b\b\b\b\b\b\b\b\b\b\b\b\b\b\b\b\r",
      "1680/5335 [========>.....................] - ETA: 0s - loss: 0.0038 - mean_absolute_error: 0.0215 - acc: 0.7655\b\b\b\b\b\b\b\b\b\b\b\b\b\b\b\b\b\b\b\b\b\b\b\b\b\b\b\b\b\b\b\b\b\b\b\b\b\b\b\b\b\b\b\b\b\b\b\b\b\b\b\b\b\b\b\b\b\b\b\b\b\b\b\b\b\b\b\b\b\b\b\b\b\b\b\b\b\b\b\b\b\b\b\b\b\b\b\b\b\b\b\b\b\b\b\b\b\b\b\b\b\b\b\b\b\b\b\b\b\b\b\r",
      "2400/5335 [============>.................] - ETA: 0s - loss: 0.0040 - mean_absolute_error: 0.0216 - acc: 0.7579\b\b\b\b\b\b\b\b\b\b\b\b\b\b\b\b\b\b\b\b\b\b\b\b\b\b\b\b\b\b\b\b\b\b\b\b\b\b\b\b\b\b\b\b\b\b\b\b\b\b\b\b\b\b\b\b\b\b\b\b\b\b\b\b\b\b\b\b\b\b\b\b\b\b\b\b\b\b\b\b\b\b\b\b\b\b\b\b\b\b\b\b\b\b\b\b\b\b\b\b\b\b\b\b\b\b\b\b\b\b\b\r",
      "3120/5335 [================>.............] - ETA: 0s - loss: 0.0039 - mean_absolute_error: 0.0215 - acc: 0.7538\b\b\b\b\b\b\b\b\b\b\b\b\b\b\b\b\b\b\b\b\b\b\b\b\b\b\b\b\b\b\b\b\b\b\b\b\b\b\b\b\b\b\b\b\b\b\b\b\b\b\b\b\b\b\b\b\b\b\b\b\b\b\b\b\b\b\b\b\b\b\b\b\b\b\b\b\b\b\b\b\b\b\b\b\b\b\b\b\b\b\b\b\b\b\b\b\b\b\b\b\b\b\b\b\b\b\b\b\b\b\b\r",
      "3840/5335 [====================>.........] - ETA: 0s - loss: 0.0039 - mean_absolute_error: 0.0214 - acc: 0.7576\b\b\b\b\b\b\b\b\b\b\b\b\b\b\b\b\b\b\b\b\b\b\b\b\b\b\b\b\b\b\b\b\b\b\b\b\b\b\b\b\b\b\b\b\b\b\b\b\b\b\b\b\b\b\b\b\b\b\b\b\b\b\b\b\b\b\b\b\b\b\b\b\b\b\b\b\b\b\b\b\b\b\b\b\b\b\b\b\b\b\b\b\b\b\b\b\b\b\b\b\b\b\b\b\b\b\b\b\b\b\b\r",
      "4440/5335 [=======================>......] - ETA: 0s - loss: 0.0040 - mean_absolute_error: 0.0212 - acc: 0.7572\b\b\b\b\b\b\b\b\b\b\b\b\b\b\b\b\b\b\b\b\b\b\b\b\b\b\b\b\b\b\b\b\b\b\b\b\b\b\b\b\b\b\b\b\b\b\b\b\b\b\b\b\b\b\b\b\b\b\b\b\b\b\b\b\b\b\b\b\b\b\b\b\b\b\b\b\b\b\b\b\b\b\b\b\b\b\b\b\b\b\b\b\b\b\b\b\b\b\b\b\b\b\b\b\b\b\b\b\b\b\b\r",
      "5160/5335 [============================>.] - ETA: 0s - loss: 0.0040 - mean_absolute_error: 0.0210 - acc: 0.7632\b\b\b\b\b\b\b\b\b\b\b\b\b\b\b\b\b\b\b\b\b\b\b\b\b\b\b\b\b\b\b\b\b\b\b\b\b\b\b\b\b\b\b\b\b\b\b\b\b\b\b\b\b\b\b\b\b\b\b\b\b\b\b\b\b\b\b\b\b\b\b\b\b\b\b\b\b\b\b\b\b\b\b\b\b\b\b\b\b\b\b\b\b\b\b\b\b\b\b\b\b\b\b\b\b\b\b\b\b\b\b\r",
      "5335/5335 [==============================] - 0s 84us/step - loss: 0.0040 - mean_absolute_error: 0.0210 - acc: 0.7618 - val_loss: 0.0044 - val_mean_absolute_error: 0.0239 - val_acc: 0.7781\n",
      "Epoch 996/1000\n",
      "\r",
      " 120/5335 [..............................] - ETA: 0s - loss: 0.0039 - mean_absolute_error: 0.0222 - acc: 0.7250\b\b\b\b\b\b\b\b\b\b\b\b\b\b\b\b\b\b\b\b\b\b\b\b\b\b\b\b\b\b\b\b\b\b\b\b\b\b\b\b\b\b\b\b\b\b\b\b\b\b\b\b\b\b\b\b\b\b\b\b\b\b\b\b\b\b\b\b\b\b\b\b\b\b\b\b\b\b\b\b\b\b\b\b\b\b\b\b\b\b\b\b\b\b\b\b\b\b\b\b\b\b\b\b\b\b\b\b\b\b\b\r",
      " 840/5335 [===>..........................] - ETA: 0s - loss: 0.0041 - mean_absolute_error: 0.0212 - acc: 0.7214\b\b\b\b\b\b\b\b\b\b\b\b\b\b\b\b\b\b\b\b\b\b\b\b\b\b\b\b\b\b\b\b\b\b\b\b\b\b\b\b\b\b\b\b\b\b\b\b\b\b\b\b\b\b\b\b\b\b\b\b\b\b\b\b\b\b\b\b\b\b\b\b\b\b\b\b\b\b\b\b\b\b\b\b\b\b\b\b\b\b\b\b\b\b\b\b\b\b\b\b\b\b\b\b\b\b\b\b\b\b\b\r",
      "1560/5335 [=======>......................] - ETA: 0s - loss: 0.0042 - mean_absolute_error: 0.0213 - acc: 0.7365\b\b\b\b\b\b\b\b\b\b\b\b\b\b\b\b\b\b\b\b\b\b\b\b\b\b\b\b\b\b\b\b\b\b\b\b\b\b\b\b\b\b\b\b\b\b\b\b\b\b\b\b\b\b\b\b\b\b\b\b\b\b\b\b\b\b\b\b\b\b\b\b\b\b\b\b\b\b\b\b\b\b\b\b\b\b\b\b\b\b\b\b\b\b\b\b\b\b\b\b\b\b\b\b\b\b\b\b\b\b\b\r",
      "2280/5335 [===========>..................] - ETA: 0s - loss: 0.0040 - mean_absolute_error: 0.0208 - acc: 0.7443\b\b\b\b\b\b\b\b\b\b\b\b\b\b\b\b\b\b\b\b\b\b\b\b\b\b\b\b\b\b\b\b\b\b\b\b\b\b\b\b\b\b\b\b\b\b\b\b\b\b\b\b\b\b\b\b\b\b\b\b\b\b\b\b\b\b\b\b\b\b\b\b\b\b\b\b\b\b\b\b\b\b\b\b\b\b\b\b\b\b\b\b\b\b\b\b\b\b\b\b\b\b\b\b\b\b\b\b\b\b\b\r",
      "3120/5335 [================>.............] - ETA: 0s - loss: 0.0040 - mean_absolute_error: 0.0207 - acc: 0.7446\b\b\b\b\b\b\b\b\b\b\b\b\b\b\b\b\b\b\b\b\b\b\b\b\b\b\b\b\b\b\b\b\b\b\b\b\b\b\b\b\b\b\b\b\b\b\b\b\b\b\b\b\b\b\b\b\b\b\b\b\b\b\b\b\b\b\b\b\b\b\b\b\b\b\b\b\b\b\b\b\b\b\b\b\b\b\b\b\b\b\b\b\b\b\b\b\b\b\b\b\b\b\b\b\b\b\b\b\b\b\b\r",
      "3960/5335 [=====================>........] - ETA: 0s - loss: 0.0040 - mean_absolute_error: 0.0209 - acc: 0.7472\b\b\b\b\b\b\b\b\b\b\b\b\b\b\b\b\b\b\b\b\b\b\b\b\b\b\b\b\b\b\b\b\b\b\b\b\b\b\b\b\b\b\b\b\b\b\b\b\b\b\b\b\b\b\b\b\b\b\b\b\b\b\b\b\b\b\b\b\b\b\b\b\b\b\b\b\b\b\b\b\b\b\b\b\b\b\b\b\b\b\b\b\b\b\b\b\b\b\b\b\b\b\b\b\b\b\b\b\b\b\b\r",
      "4800/5335 [=========================>....] - ETA: 0s - loss: 0.0040 - mean_absolute_error: 0.0208 - acc: 0.7483\b\b\b\b\b\b\b\b\b\b\b\b\b\b\b\b\b\b\b\b\b\b\b\b\b\b\b\b\b\b\b\b\b\b\b\b\b\b\b\b\b\b\b\b\b\b\b\b\b\b\b\b\b\b\b\b\b\b\b\b\b\b\b\b\b\b\b\b\b\b\b\b\b\b\b\b\b\b\b\b\b\b\b\b\b\b\b\b\b\b\b\b\b\b\b\b\b\b\b\b\b\b\b\b\b\b\b\b\b\b\b\r",
      "5335/5335 [==============================] - 0s 77us/step - loss: 0.0040 - mean_absolute_error: 0.0207 - acc: 0.7511 - val_loss: 0.0044 - val_mean_absolute_error: 0.0232 - val_acc: 0.7151\n",
      "Epoch 997/1000\n",
      "\r",
      " 120/5335 [..............................] - ETA: 0s - loss: 0.0037 - mean_absolute_error: 0.0201 - acc: 0.7500\b\b\b\b\b\b\b\b\b\b\b\b\b\b\b\b\b\b\b\b\b\b\b\b\b\b\b\b\b\b\b\b\b\b\b\b\b\b\b\b\b\b\b\b\b\b\b\b\b\b\b\b\b\b\b\b\b\b\b\b\b\b\b\b\b\b\b\b\b\b\b\b\b\b\b\b\b\b\b\b\b\b\b\b\b\b\b\b\b\b\b\b\b\b\b\b\b\b\b\b\b\b\b\b\b\b\b\b\b\b\b\r",
      " 720/5335 [===>..........................] - ETA: 0s - loss: 0.0037 - mean_absolute_error: 0.0210 - acc: 0.7750\b\b\b\b\b\b\b\b\b\b\b\b\b\b\b\b\b\b\b\b\b\b\b\b\b\b\b\b\b\b\b\b\b\b\b\b\b\b\b\b\b\b\b\b\b\b\b\b\b\b\b\b\b\b\b\b\b\b\b\b\b\b\b\b\b\b\b\b\b\b\b\b\b\b\b\b\b\b\b\b\b\b\b\b\b\b\b\b\b\b\b\b\b\b\b\b\b\b\b\b\b\b\b\b\b\b\b\b\b\b\b\r",
      "1440/5335 [=======>......................] - ETA: 0s - loss: 0.0038 - mean_absolute_error: 0.0220 - acc: 0.7639\b\b\b\b\b\b\b\b\b\b\b\b\b\b\b\b\b\b\b\b\b\b\b\b\b\b\b\b\b\b\b\b\b\b\b\b\b\b\b\b\b\b\b\b\b\b\b\b\b\b\b\b\b\b\b\b\b\b\b\b\b\b\b\b\b\b\b\b\b\b\b\b\b\b\b\b\b\b\b\b\b\b\b\b\b\b\b\b\b\b\b\b\b\b\b\b\b\b\b\b\b\b\b\b\b\b\b\b\b\b\b\r",
      "2280/5335 [===========>..................] - ETA: 0s - loss: 0.0040 - mean_absolute_error: 0.0223 - acc: 0.7667\b\b\b\b\b\b\b\b\b\b\b\b\b\b\b\b\b\b\b\b\b\b\b\b\b\b\b\b\b\b\b\b\b\b\b\b\b\b\b\b\b\b\b\b\b\b\b\b\b\b\b\b\b\b\b\b\b\b\b\b\b\b\b\b\b\b\b\b\b\b\b\b\b\b\b\b\b\b\b\b\b\b\b\b\b\b\b\b\b\b\b\b\b\b\b\b\b\b\b\b\b\b\b\b\b\b\b\b\b\b\b\r",
      "3120/5335 [================>.............] - ETA: 0s - loss: 0.0041 - mean_absolute_error: 0.0227 - acc: 0.7599\b\b\b\b\b\b\b\b\b\b\b\b\b\b\b\b\b\b\b\b\b\b\b\b\b\b\b\b\b\b\b\b\b\b\b\b\b\b\b\b\b\b\b\b\b\b\b\b\b\b\b\b\b\b\b\b\b\b\b\b\b\b\b\b\b\b\b\b\b\b\b\b\b\b\b\b\b\b\b\b\b\b\b\b\b\b\b\b\b\b\b\b\b\b\b\b\b\b\b\b\b\b\b\b\b\b\b\b\b\b\b\r",
      "3960/5335 [=====================>........] - ETA: 0s - loss: 0.0040 - mean_absolute_error: 0.0232 - acc: 0.7596\b\b\b\b\b\b\b\b\b\b\b\b\b\b\b\b\b\b\b\b\b\b\b\b\b\b\b\b\b\b\b\b\b\b\b\b\b\b\b\b\b\b\b\b\b\b\b\b\b\b\b\b\b\b\b\b\b\b\b\b\b\b\b\b\b\b\b\b\b\b\b\b\b\b\b\b\b\b\b\b\b\b\b\b\b\b\b\b\b\b\b\b\b\b\b\b\b\b\b\b\b\b\b\b\b\b\b\b\b\b\b\r",
      "4800/5335 [=========================>....] - ETA: 0s - loss: 0.0041 - mean_absolute_error: 0.0237 - acc: 0.7525\b\b\b\b\b\b\b\b\b\b\b\b\b\b\b\b\b\b\b\b\b\b\b\b\b\b\b\b\b\b\b\b\b\b\b\b\b\b\b\b\b\b\b\b\b\b\b\b\b\b\b\b\b\b\b\b\b\b\b\b\b\b\b\b\b\b\b\b\b\b\b\b\b\b\b\b\b\b\b\b\b\b\b\b\b\b\b\b\b\b\b\b\b\b\b\b\b\b\b\b\b\b\b\b\b\b\b\b\b\b\b\r",
      "5335/5335 [==============================] - 0s 81us/step - loss: 0.0040 - mean_absolute_error: 0.0234 - acc: 0.7556 - val_loss: 0.0045 - val_mean_absolute_error: 0.0229 - val_acc: 0.7421\n",
      "Epoch 998/1000\n",
      "\r",
      " 120/5335 [..............................] - ETA: 0s - loss: 0.0036 - mean_absolute_error: 0.0196 - acc: 0.7167\b\b\b\b\b\b\b\b\b\b\b\b\b\b\b\b\b\b\b\b\b\b\b\b\b\b\b\b\b\b\b\b\b\b\b\b\b\b\b\b\b\b\b\b\b\b\b\b\b\b\b\b\b\b\b\b\b\b\b\b\b\b\b\b\b\b\b\b\b\b\b\b\b\b\b\b\b\b\b\b\b\b\b\b\b\b\b\b\b\b\b\b\b\b\b\b\b\b\b\b\b\b\b\b\b\b\b\b\b\b\b\r",
      " 960/5335 [====>.........................] - ETA: 0s - loss: 0.0040 - mean_absolute_error: 0.0204 - acc: 0.7729\b\b\b\b\b\b\b\b\b\b\b\b\b\b\b\b\b\b\b\b\b\b\b\b\b\b\b\b\b\b\b\b\b\b\b\b\b\b\b\b\b\b\b\b\b\b\b\b\b\b\b\b\b\b\b\b\b\b\b\b\b\b\b\b\b\b\b\b\b\b\b\b\b\b\b\b\b\b\b\b\b\b\b\b\b\b\b\b\b\b\b\b\b\b\b\b\b\b\b\b\b\b\b\b\b\b\b\b\b\b\b\r",
      "1800/5335 [=========>....................] - ETA: 0s - loss: 0.0041 - mean_absolute_error: 0.0208 - acc: 0.7622\b\b\b\b\b\b\b\b\b\b\b\b\b\b\b\b\b\b\b\b\b\b\b\b\b\b\b\b\b\b\b\b\b\b\b\b\b\b\b\b\b\b\b\b\b\b\b\b\b\b\b\b\b\b\b\b\b\b\b\b\b\b\b\b\b\b\b\b\b\b\b\b\b\b\b\b\b\b\b\b\b\b\b\b\b\b\b\b\b\b\b\b\b\b\b\b\b\b\b\b\b\b\b\b\b\b\b\b\b\b\b\r",
      "2640/5335 [=============>................] - ETA: 0s - loss: 0.0040 - mean_absolute_error: 0.0209 - acc: 0.7500\b\b\b\b\b\b\b\b\b\b\b\b\b\b\b\b\b\b\b\b\b\b\b\b\b\b\b\b\b\b\b\b\b\b\b\b\b\b\b\b\b\b\b\b\b\b\b\b\b\b\b\b\b\b\b\b\b\b\b\b\b\b\b\b\b\b\b\b\b\b\b\b\b\b\b\b\b\b\b\b\b\b\b\b\b\b\b\b\b\b\b\b\b\b\b\b\b\b\b\b\b\b\b\b\b\b\b\b\b\b\b\r",
      "3360/5335 [=================>............] - ETA: 0s - loss: 0.0040 - mean_absolute_error: 0.0211 - acc: 0.7536\b\b\b\b\b\b\b\b\b\b\b\b\b\b\b\b\b\b\b\b\b\b\b\b\b\b\b\b\b\b\b\b\b\b\b\b\b\b\b\b\b\b\b\b\b\b\b\b\b\b\b\b\b\b\b\b\b\b\b\b\b\b\b\b\b\b\b\b\b\b\b\b\b\b\b\b\b\b\b\b\b\b\b\b\b\b\b\b\b\b\b\b\b\b\b\b\b\b\b\b\b\b\b\b\b\b\b\b\b\b\b\r",
      "3840/5335 [====================>.........] - ETA: 0s - loss: 0.0040 - mean_absolute_error: 0.0212 - acc: 0.7544\b\b\b\b\b\b\b\b\b\b\b\b\b\b\b\b\b\b\b\b\b\b\b\b\b\b\b\b\b\b\b\b\b\b\b\b\b\b\b\b\b\b\b\b\b\b\b\b\b\b\b\b\b\b\b\b\b\b\b\b\b\b\b\b\b\b\b\b\b\b\b\b\b\b\b\b\b\b\b\b\b\b\b\b\b\b\b\b\b\b\b\b\b\b\b\b\b\b\b\b\b\b\b\b\b\b\b\b\b\b\b\r",
      "4200/5335 [======================>.......] - ETA: 0s - loss: 0.0040 - mean_absolute_error: 0.0213 - acc: 0.7562\b\b\b\b\b\b\b\b\b\b\b\b\b\b\b\b\b\b\b\b\b\b\b\b\b\b\b\b\b\b\b\b\b\b\b\b\b\b\b\b\b\b\b\b\b\b\b\b\b\b\b\b\b\b\b\b\b\b\b\b\b\b\b\b\b\b\b\b\b\b\b\b\b\b\b\b\b\b\b\b\b\b\b\b\b\b\b\b\b\b\b\b\b\b\b\b\b\b\b\b\b\b\b\b\b\b\b\b\b\b\b\r",
      "4560/5335 [========================>.....] - ETA: 0s - loss: 0.0041 - mean_absolute_error: 0.0214 - acc: 0.7557\b\b\b\b\b\b\b\b\b\b\b\b\b\b\b\b\b\b\b\b\b\b\b\b\b\b\b\b\b\b\b\b\b\b\b\b\b\b\b\b\b\b\b\b\b\b\b\b\b\b\b\b\b\b\b\b\b\b\b\b\b\b\b\b\b\b\b\b\b\b\b\b\b\b\b\b\b\b\b\b\b\b\b\b\b\b\b\b\b\b\b\b\b\b\b\b\b\b\b\b\b\b\b\b\b\b\b\b\b\b\b\r",
      "4920/5335 [==========================>...] - ETA: 0s - loss: 0.0040 - mean_absolute_error: 0.0213 - acc: 0.7557\b\b\b\b\b\b\b\b\b\b\b\b\b\b\b\b\b\b\b\b\b\b\b\b\b\b\b\b\b\b\b\b\b\b\b\b\b\b\b\b\b\b\b\b\b\b\b\b\b\b\b\b\b\b\b\b\b\b\b\b\b\b\b\b\b\b\b\b\b\b\b\b\b\b\b\b\b\b\b\b\b\b\b\b\b\b\b\b\b\b\b\b\b\b\b\b\b\b\b\b\b\b\b\b\b\b\b\b\b\b\b\r",
      "5335/5335 [==============================] - 1s 102us/step - loss: 0.0040 - mean_absolute_error: 0.0213 - acc: 0.7578 - val_loss: 0.0044 - val_mean_absolute_error: 0.0205 - val_acc: 0.7129\n",
      "Epoch 999/1000\n",
      "\r",
      " 120/5335 [..............................] - ETA: 0s - loss: 0.0043 - mean_absolute_error: 0.0200 - acc: 0.7500\b\b\b\b\b\b\b\b\b\b\b\b\b\b\b\b\b\b\b\b\b\b\b\b\b\b\b\b\b\b\b\b\b\b\b\b\b\b\b\b\b\b\b\b\b\b\b\b\b\b\b\b\b\b\b\b\b\b\b\b\b\b\b\b\b\b\b\b\b\b\b\b\b\b\b\b\b\b\b\b\b\b\b\b\b\b\b\b\b\b\b\b\b\b\b\b\b\b\b\b\b\b\b\b\b\b\b\b\b\b\b\r",
      " 840/5335 [===>..........................] - ETA: 0s - loss: 0.0040 - mean_absolute_error: 0.0195 - acc: 0.7655\b\b\b\b\b\b\b\b\b\b\b\b\b\b\b\b\b\b\b\b\b\b\b\b\b\b\b\b\b\b\b\b\b\b\b\b\b\b\b\b\b\b\b\b\b\b\b\b\b\b\b\b\b\b\b\b\b\b\b\b\b\b\b\b\b\b\b\b\b\b\b\b\b\b\b\b\b\b\b\b\b\b\b\b\b\b\b\b\b\b\b\b\b\b\b\b\b\b\b\b\b\b\b\b\b\b\b\b\b\b\b\r",
      "1560/5335 [=======>......................] - ETA: 0s - loss: 0.0037 - mean_absolute_error: 0.0188 - acc: 0.7538\b\b\b\b\b\b\b\b\b\b\b\b\b\b\b\b\b\b\b\b\b\b\b\b\b\b\b\b\b\b\b\b\b\b\b\b\b\b\b\b\b\b\b\b\b\b\b\b\b\b\b\b\b\b\b\b\b\b\b\b\b\b\b\b\b\b\b\b\b\b\b\b\b\b\b\b\b\b\b\b\b\b\b\b\b\b\b\b\b\b\b\b\b\b\b\b\b\b\b\b\b\b\b\b\b\b\b\b\b\b\b\r",
      "2280/5335 [===========>..................] - ETA: 0s - loss: 0.0038 - mean_absolute_error: 0.0193 - acc: 0.7539\b\b\b\b\b\b\b\b\b\b\b\b\b\b\b\b\b\b\b\b\b\b\b\b\b\b\b\b\b\b\b\b\b\b\b\b\b\b\b\b\b\b\b\b\b\b\b\b\b\b\b\b\b\b\b\b\b\b\b\b\b\b\b\b\b\b\b\b\b\b\b\b\b\b\b\b\b\b\b\b\b\b\b\b\b\b\b\b\b\b\b\b\b\b\b\b\b\b\b\b\b\b\b\b\b\b\b\b\b\b\b\r",
      "3000/5335 [===============>..............] - ETA: 0s - loss: 0.0039 - mean_absolute_error: 0.0200 - acc: 0.7530\b\b\b\b\b\b\b\b\b\b\b\b\b\b\b\b\b\b\b\b\b\b\b\b\b\b\b\b\b\b\b\b\b\b\b\b\b\b\b\b\b\b\b\b\b\b\b\b\b\b\b\b\b\b\b\b\b\b\b\b\b\b\b\b\b\b\b\b\b\b\b\b\b\b\b\b\b\b\b\b\b\b\b\b\b\b\b\b\b\b\b\b\b\b\b\b\b\b\b\b\b\b\b\b\b\b\b\b\b\b\b\r",
      "3720/5335 [===================>..........] - ETA: 0s - loss: 0.0039 - mean_absolute_error: 0.0202 - acc: 0.7495\b\b\b\b\b\b\b\b\b\b\b\b\b\b\b\b\b\b\b\b\b\b\b\b\b\b\b\b\b\b\b\b\b\b\b\b\b\b\b\b\b\b\b\b\b\b\b\b\b\b\b\b\b\b\b\b\b\b\b\b\b\b\b\b\b\b\b\b\b\b\b\b\b\b\b\b\b\b\b\b\b\b\b\b\b\b\b\b\b\b\b\b\b\b\b\b\b\b\b\b\b\b\b\b\b\b\b\b\b\b\b\r",
      "4440/5335 [=======================>......] - ETA: 0s - loss: 0.0039 - mean_absolute_error: 0.0210 - acc: 0.7525\b\b\b\b\b\b\b\b\b\b\b\b\b\b\b\b\b\b\b\b\b\b\b\b\b\b\b\b\b\b\b\b\b\b\b\b\b\b\b\b\b\b\b\b\b\b\b\b\b\b\b\b\b\b\b\b\b\b\b\b\b\b\b\b\b\b\b\b\b\b\b\b\b\b\b\b\b\b\b\b\b\b\b\b\b\b\b\b\b\b\b\b\b\b\b\b\b\b\b\b\b\b\b\b\b\b\b\b\b\b\b\r",
      "5160/5335 [============================>.] - ETA: 0s - loss: 0.0040 - mean_absolute_error: 0.0215 - acc: 0.7521\b\b\b\b\b\b\b\b\b\b\b\b\b\b\b\b\b\b\b\b\b\b\b\b\b\b\b\b\b\b\b\b\b\b\b\b\b\b\b\b\b\b\b\b\b\b\b\b\b\b\b\b\b\b\b\b\b\b\b\b\b\b\b\b\b\b\b\b\b\b\b\b\b\b\b\b\b\b\b\b\b\b\b\b\b\b\b\b\b\b\b\b\b\b\b\b\b\b\b\b\b\b\b\b\b\b\b\b\b\b\b\r",
      "5335/5335 [==============================] - 0s 85us/step - loss: 0.0040 - mean_absolute_error: 0.0215 - acc: 0.7526 - val_loss: 0.0044 - val_mean_absolute_error: 0.0241 - val_acc: 0.7856\n",
      "Epoch 1000/1000\n",
      "\r",
      " 120/5335 [..............................] - ETA: 0s - loss: 0.0034 - mean_absolute_error: 0.0221 - acc: 0.7917\b\b\b\b\b\b\b\b\b\b\b\b\b\b\b\b\b\b\b\b\b\b\b\b\b\b\b\b\b\b\b\b\b\b\b\b\b\b\b\b\b\b\b\b\b\b\b\b\b\b\b\b\b\b\b\b\b\b\b\b\b\b\b\b\b\b\b\b\b\b\b\b\b\b\b\b\b\b\b\b\b\b\b\b\b\b\b\b\b\b\b\b\b\b\b\b\b\b\b\b\b\b\b\b\b\b\b\b\b\b\b\r",
      " 720/5335 [===>..........................] - ETA: 0s - loss: 0.0042 - mean_absolute_error: 0.0233 - acc: 0.7556\b\b\b\b\b\b\b\b\b\b\b\b\b\b\b\b\b\b\b\b\b\b\b\b\b\b\b\b\b\b\b\b\b\b\b\b\b\b\b\b\b\b\b\b\b\b\b\b\b\b\b\b\b\b\b\b\b\b\b\b\b\b\b\b\b\b\b\b\b\b\b\b\b\b\b\b\b\b\b\b\b\b\b\b\b\b\b\b\b\b\b\b\b\b\b\b\b\b\b\b\b\b\b\b\b\b\b\b\b\b\b\r",
      "1440/5335 [=======>......................] - ETA: 0s - loss: 0.0041 - mean_absolute_error: 0.0225 - acc: 0.7542\b\b\b\b\b\b\b\b\b\b\b\b\b\b\b\b\b\b\b\b\b\b\b\b\b\b\b\b\b\b\b\b\b\b\b\b\b\b\b\b\b\b\b\b\b\b\b\b\b\b\b\b\b\b\b\b\b\b\b\b\b\b\b\b\b\b\b\b\b\b\b\b\b\b\b\b\b\b\b\b\b\b\b\b\b\b\b\b\b\b\b\b\b\b\b\b\b\b\b\b\b\b\b\b\b\b\b\b\b\b\b\r",
      "2160/5335 [===========>..................] - ETA: 0s - loss: 0.0041 - mean_absolute_error: 0.0221 - acc: 0.7417\b\b\b\b\b\b\b\b\b\b\b\b\b\b\b\b\b\b\b\b\b\b\b\b\b\b\b\b\b\b\b\b\b\b\b\b\b\b\b\b\b\b\b\b\b\b\b\b\b\b\b\b\b\b\b\b\b\b\b\b\b\b\b\b\b\b\b\b\b\b\b\b\b\b\b\b\b\b\b\b\b\b\b\b\b\b\b\b\b\b\b\b\b\b\b\b\b\b\b\b\b\b\b\b\b\b\b\b\b\b\b\r",
      "2880/5335 [===============>..............] - ETA: 0s - loss: 0.0040 - mean_absolute_error: 0.0216 - acc: 0.7535\b\b\b\b\b\b\b\b\b\b\b\b\b\b\b\b\b\b\b\b\b\b\b\b\b\b\b\b\b\b\b\b\b\b\b\b\b\b\b\b\b\b\b\b\b\b\b\b\b\b\b\b\b\b\b\b\b\b\b\b\b\b\b\b\b\b\b\b\b\b\b\b\b\b\b\b\b\b\b\b\b\b\b\b\b\b\b\b\b\b\b\b\b\b\b\b\b\b\b\b\b\b\b\b\b\b\b\b\b\b\b\r",
      "3600/5335 [===================>..........] - ETA: 0s - loss: 0.0040 - mean_absolute_error: 0.0212 - acc: 0.7531\b\b\b\b\b\b\b\b\b\b\b\b\b\b\b\b\b\b\b\b\b\b\b\b\b\b\b\b\b\b\b\b\b\b\b\b\b\b\b\b\b\b\b\b\b\b\b\b\b\b\b\b\b\b\b\b\b\b\b\b\b\b\b\b\b\b\b\b\b\b\b\b\b\b\b\b\b\b\b\b\b\b\b\b\b\b\b\b\b\b\b\b\b\b\b\b\b\b\b\b\b\b\b\b\b\b\b\b\b\b\b\r",
      "4320/5335 [=======================>......] - ETA: 0s - loss: 0.0040 - mean_absolute_error: 0.0211 - acc: 0.7558\b\b\b\b\b\b\b\b\b\b\b\b\b\b\b\b\b\b\b\b\b\b\b\b\b\b\b\b\b\b\b\b\b\b\b\b\b\b\b\b\b\b\b\b\b\b\b\b\b\b\b\b\b\b\b\b\b\b\b\b\b\b\b\b\b\b\b\b\b\b\b\b\b\b\b\b\b\b\b\b\b\b\b\b\b\b\b\b\b\b\b\b\b\b\b\b\b\b\b\b\b\b\b\b\b\b\b\b\b\b\b\r",
      "5040/5335 [===========================>..] - ETA: 0s - loss: 0.0039 - mean_absolute_error: 0.0211 - acc: 0.7514\b\b\b\b\b\b\b\b\b\b\b\b\b\b\b\b\b\b\b\b\b\b\b\b\b\b\b\b\b\b\b\b\b\b\b\b\b\b\b\b\b\b\b\b\b\b\b\b\b\b\b\b\b\b\b\b\b\b\b\b\b\b\b\b\b\b\b\b\b\b\b\b\b\b\b\b\b\b\b\b\b\b\b\b\b\b\b\b\b\b\b\b\b\b\b\b\b\b\b\b\b\b\b\b\b\b\b\b\b\b\b\r",
      "5335/5335 [==============================] - 0s 92us/step - loss: 0.0039 - mean_absolute_error: 0.0211 - acc: 0.7526 - val_loss: 0.0045 - val_mean_absolute_error: 0.0233 - val_acc: 0.7714\n",
      "\n"
     ]
    }
   ],
   "source": [
    "print(file_out[-20000:])"
   ]
  },
  {
   "cell_type": "code",
   "execution_count": 1050,
   "metadata": {},
   "outputs": [
    {
     "data": {
      "image/png": "[encoded data removed]",
      "text/plain": [
       "<Figure size 432x288 with 1 Axes>"
      ]
     },
     "metadata": {},
     "output_type": "display_data"
    }
   ],
   "source": [
    "# plot history\n",
    "pyplot.plot(history.history['loss'], label='train')\n",
    "pyplot.plot(history.history['val_loss'], label='test')\n",
    "pyplot.legend()\n",
    "pyplot.show()"
   ]
  },
  {
   "cell_type": "code",
   "execution_count": 1051,
   "metadata": {},
   "outputs": [
    {
     "data": {
      "text/plain": [
       "(1334, 11)"
      ]
     },
     "execution_count": 1051,
     "metadata": {},
     "output_type": "execute_result"
    }
   ],
   "source": [
    "yhat = model.predict(test_X)\n",
    "yhat.shape"
   ]
  },
  {
   "cell_type": "code",
   "execution_count": 1052,
   "metadata": {},
   "outputs": [
    {
     "data": {
      "text/plain": [
       "(1334, 19)"
      ]
     },
     "execution_count": 1052,
     "metadata": {},
     "output_type": "execute_result"
    }
   ],
   "source": [
    "test_X = test_X.reshape(test_X.shape[0], test_X.shape[2])\n",
    "test_X.shape"
   ]
  },
  {
   "cell_type": "code",
   "execution_count": 1053,
   "metadata": {},
   "outputs": [],
   "source": [
    "inv_yhat = concatenate((scaler_x.inverse_transform(test_X), scaler_y.inverse_transform(yhat)),axis=1)\n",
    "inv_y = concatenate((scaler_x.inverse_transform(test_X),scaler_y.inverse_transform(test_y)), axis=1)"
   ]
  },
  {
   "cell_type": "code",
   "execution_count": 1054,
   "metadata": {},
   "outputs": [
    {
     "name": "stdout",
     "output_type": "stream",
     "text": [
      "Test RMSE (Prediction): 613.826\n"
     ]
    }
   ],
   "source": [
    "# calculate RMSE\n",
    "rmse = sqrt(mean_squared_error(inv_y[0], inv_yhat[0]))\n",
    "print('Test RMSE (Prediction): %.3f' % rmse)"
   ]
  },
  {
   "cell_type": "code",
   "execution_count": 1055,
   "metadata": {},
   "outputs": [],
   "source": [
    "indexer=10\n",
    "transformed_id=[''.join(list(map(str,list(map(int,list(scaler_x.inverse_transform(test_X)[indexer][:-11]))))))]\n",
    "week_number=[scaler_x.inverse_transform(test_X)[indexer][-11]]\n",
    "amount=[scaler_x.inverse_transform(test_X)[indexer][-10]]\n",
    "total_sum=[scaler_x.inverse_transform(test_X)[indexer][-9]]\n",
    "\n",
    "cluster=[scaler_x.inverse_transform(test_X)[indexer][-8]]\n",
    "age=[scaler_x.inverse_transform(test_X)[indexer][-7]]\n",
    "pin=[scaler_x.inverse_transform(test_X)[indexer][-6]]\n",
    "unit_price=[scaler_x.inverse_transform(test_X)[indexer][-5]]\n",
    "log_unit_price=[scaler_x.inverse_transform(test_X)[indexer][-4]]"
   ]
  },
  {
   "cell_type": "code",
   "execution_count": 1056,
   "metadata": {},
   "outputs": [],
   "source": [
    "prediction=list(scaler_y.inverse_transform(yhat)[:, -3:][indexer])"
   ]
  },
  {
   "cell_type": "markdown",
   "metadata": {},
   "source": [
    "### Input (Training)"
   ]
  },
  {
   "cell_type": "code",
   "execution_count": 1057,
   "metadata": {},
   "outputs": [
    {
     "data": {
      "text/html": [
       "<div>\n",
       "<style scoped>\n",
       "    .dataframe tbody tr th:only-of-type {\n",
       "        vertical-align: middle;\n",
       "    }\n",
       "\n",
       "    .dataframe tbody tr th {\n",
       "        vertical-align: top;\n",
       "    }\n",
       "\n",
       "    .dataframe thead th {\n",
       "        text-align: right;\n",
       "    }\n",
       "</style>\n",
       "<table border=\"1\" class=\"dataframe\">\n",
       "  <thead>\n",
       "    <tr style=\"text-align: right;\">\n",
       "      <th></th>\n",
       "      <th>ID</th>\n",
       "      <th>Week_number</th>\n",
       "      <th>Amount</th>\n",
       "      <th>Total_sum</th>\n",
       "      <th>Cluster</th>\n",
       "      <th>Age_group</th>\n",
       "      <th>Pin_code</th>\n",
       "      <th>Unit_price</th>\n",
       "      <th>Log_unit_price</th>\n",
       "    </tr>\n",
       "  </thead>\n",
       "  <tbody>\n",
       "    <tr>\n",
       "      <th>0</th>\n",
       "      <td>00020220</td>\n",
       "      <td>1</td>\n",
       "      <td>29</td>\n",
       "      <td>1444</td>\n",
       "      <td>2</td>\n",
       "      <td>6</td>\n",
       "      <td>5</td>\n",
       "      <td>1388</td>\n",
       "      <td>101.706</td>\n",
       "    </tr>\n",
       "  </tbody>\n",
       "</table>\n",
       "</div>"
      ],
      "text/plain": [
       "         ID Week_number Amount Total_sum Cluster Age_group Pin_code  \\\n",
       "0  00020220           1     29      1444       2         6        5   \n",
       "\n",
       "  Unit_price Log_unit_price  \n",
       "0       1388        101.706  "
      ]
     },
     "execution_count": 1057,
     "metadata": {},
     "output_type": "execute_result"
    }
   ],
   "source": [
    "input_set=pd.DataFrame((transformed_id+week_number+amount+total_sum+cluster+pin+age+unit_price+log_unit_price)).T.copy()\n",
    "input_set.columns=['ID','Week_number','Amount','Total_sum','Cluster','Age_group','Pin_code','Unit_price','Log_unit_price']\n",
    "input_set"
   ]
  },
  {
   "cell_type": "markdown",
   "metadata": {},
   "source": [
    "### Training R,F,M Values\n"
   ]
  },
  {
   "cell_type": "code",
   "execution_count": 1058,
   "metadata": {},
   "outputs": [
    {
     "data": {
      "text/html": [
       "<div>\n",
       "<style scoped>\n",
       "    .dataframe tbody tr th:only-of-type {\n",
       "        vertical-align: middle;\n",
       "    }\n",
       "\n",
       "    .dataframe tbody tr th {\n",
       "        vertical-align: top;\n",
       "    }\n",
       "\n",
       "    .dataframe thead th {\n",
       "        text-align: right;\n",
       "    }\n",
       "</style>\n",
       "<table border=\"1\" class=\"dataframe\">\n",
       "  <thead>\n",
       "    <tr style=\"text-align: right;\">\n",
       "      <th></th>\n",
       "      <th>frequency</th>\n",
       "      <th>recency</th>\n",
       "      <th>monetary</th>\n",
       "    </tr>\n",
       "  </thead>\n",
       "  <tbody>\n",
       "    <tr>\n",
       "      <th>10</th>\n",
       "      <td>2</td>\n",
       "      <td>-2</td>\n",
       "      <td>4023.0</td>\n",
       "    </tr>\n",
       "  </tbody>\n",
       "</table>\n",
       "</div>"
      ],
      "text/plain": [
       "    frequency  recency  monetary\n",
       "10          2       -2    4023.0"
      ]
     },
     "execution_count": 1058,
     "metadata": {},
     "output_type": "execute_result"
    }
   ],
   "source": [
    "outputID=input_set['ID'][0]\n",
    "comparison=X_set_df['customer_id']==outputID\n",
    "X_set_df[comparison][['frequency','recency','monetary']]"
   ]
  },
  {
   "cell_type": "markdown",
   "metadata": {},
   "source": [
    "### Prediction"
   ]
  },
  {
   "cell_type": "code",
   "execution_count": 1059,
   "metadata": {},
   "outputs": [
    {
     "data": {
      "text/html": [
       "<div>\n",
       "<style scoped>\n",
       "    .dataframe tbody tr th:only-of-type {\n",
       "        vertical-align: middle;\n",
       "    }\n",
       "\n",
       "    .dataframe tbody tr th {\n",
       "        vertical-align: top;\n",
       "    }\n",
       "\n",
       "    .dataframe thead th {\n",
       "        text-align: right;\n",
       "    }\n",
       "</style>\n",
       "<table border=\"1\" class=\"dataframe\">\n",
       "  <thead>\n",
       "    <tr style=\"text-align: right;\">\n",
       "      <th></th>\n",
       "      <th>frequency</th>\n",
       "      <th>recency</th>\n",
       "      <th>monetary</th>\n",
       "    </tr>\n",
       "  </thead>\n",
       "  <tbody>\n",
       "    <tr>\n",
       "      <th>0</th>\n",
       "      <td>8.368375</td>\n",
       "      <td>-20.723309</td>\n",
       "      <td>24180.847656</td>\n",
       "    </tr>\n",
       "  </tbody>\n",
       "</table>\n",
       "</div>"
      ],
      "text/plain": [
       "   frequency    recency      monetary\n",
       "0   8.368375 -20.723309  24180.847656"
      ]
     },
     "execution_count": 1059,
     "metadata": {},
     "output_type": "execute_result"
    }
   ],
   "source": [
    "output_set=pd.DataFrame((prediction)).T.copy()\n",
    "output_set.columns=['frequency','recency','monetary']\n",
    "output_set"
   ]
  },
  {
   "cell_type": "markdown",
   "metadata": {},
   "source": [
    "### True value"
   ]
  },
  {
   "cell_type": "code",
   "execution_count": 1060,
   "metadata": {},
   "outputs": [
    {
     "data": {
      "text/html": [
       "<div>\n",
       "<style scoped>\n",
       "    .dataframe tbody tr th:only-of-type {\n",
       "        vertical-align: middle;\n",
       "    }\n",
       "\n",
       "    .dataframe tbody tr th {\n",
       "        vertical-align: top;\n",
       "    }\n",
       "\n",
       "    .dataframe thead th {\n",
       "        text-align: right;\n",
       "    }\n",
       "</style>\n",
       "<table border=\"1\" class=\"dataframe\">\n",
       "  <thead>\n",
       "    <tr style=\"text-align: right;\">\n",
       "      <th></th>\n",
       "      <th>frequency</th>\n",
       "      <th>recency</th>\n",
       "      <th>monetary</th>\n",
       "    </tr>\n",
       "  </thead>\n",
       "  <tbody>\n",
       "    <tr>\n",
       "      <th>10</th>\n",
       "      <td>17</td>\n",
       "      <td>-13</td>\n",
       "      <td>22605.0</td>\n",
       "    </tr>\n",
       "  </tbody>\n",
       "</table>\n",
       "</div>"
      ],
      "text/plain": [
       "    frequency  recency  monetary\n",
       "10         17      -13   22605.0"
      ]
     },
     "execution_count": 1060,
     "metadata": {},
     "output_type": "execute_result"
    }
   ],
   "source": [
    "comparison=y_set_df['customer_id']==outputID\n",
    "y_set_df[comparison][['frequency','recency','monetary']]"
   ]
  },
  {
   "cell_type": "markdown",
   "metadata": {},
   "source": [
    "_______________"
   ]
  },
  {
   "cell_type": "markdown",
   "metadata": {},
   "source": [
    "Reduced Model\n",
    "==="
   ]
  },
  {
   "cell_type": "markdown",
   "metadata": {},
   "source": [
    "Here I am choosing to reduce the training set down to just the Customer ID's and the R,M,F values in order to compare the results when I just have the bare minimum of features. In all other respects the model is entirely the same. "
   ]
  },
  {
   "cell_type": "code",
   "execution_count": 1061,
   "metadata": {},
   "outputs": [],
   "source": [
    "X_set_df=X_set_df[['customer_id','frequency','recency','monetary']]#reduce Xset\n",
    "y_set_df=y_set_df[['customer_id','frequency','recency','monetary']]#reduce yset"
   ]
  },
  {
   "cell_type": "code",
   "execution_count": 1062,
   "metadata": {},
   "outputs": [
    {
     "data": {
      "text/html": [
       "<div>\n",
       "<style scoped>\n",
       "    .dataframe tbody tr th:only-of-type {\n",
       "        vertical-align: middle;\n",
       "    }\n",
       "\n",
       "    .dataframe tbody tr th {\n",
       "        vertical-align: top;\n",
       "    }\n",
       "\n",
       "    .dataframe thead th {\n",
       "        text-align: right;\n",
       "    }\n",
       "</style>\n",
       "<table border=\"1\" class=\"dataframe\">\n",
       "  <thead>\n",
       "    <tr style=\"text-align: right;\">\n",
       "      <th></th>\n",
       "      <th>customer_id</th>\n",
       "      <th>frequency</th>\n",
       "      <th>recency</th>\n",
       "      <th>monetary</th>\n",
       "    </tr>\n",
       "  </thead>\n",
       "  <tbody>\n",
       "    <tr>\n",
       "      <th>0</th>\n",
       "      <td>00005241</td>\n",
       "      <td>2</td>\n",
       "      <td>-22</td>\n",
       "      <td>1256.0</td>\n",
       "    </tr>\n",
       "    <tr>\n",
       "      <th>1</th>\n",
       "      <td>00006668</td>\n",
       "      <td>2</td>\n",
       "      <td>-14</td>\n",
       "      <td>1305.0</td>\n",
       "    </tr>\n",
       "    <tr>\n",
       "      <th>2</th>\n",
       "      <td>00010801</td>\n",
       "      <td>2</td>\n",
       "      <td>-2</td>\n",
       "      <td>663.0</td>\n",
       "    </tr>\n",
       "  </tbody>\n",
       "</table>\n",
       "</div>"
      ],
      "text/plain": [
       "  customer_id  frequency  recency  monetary\n",
       "0    00005241          2      -22    1256.0\n",
       "1    00006668          2      -14    1305.0\n",
       "2    00010801          2       -2     663.0"
      ]
     },
     "execution_count": 1062,
     "metadata": {},
     "output_type": "execute_result"
    }
   ],
   "source": [
    "X_set_df.head(3)"
   ]
  },
  {
   "cell_type": "code",
   "execution_count": 1063,
   "metadata": {},
   "outputs": [
    {
     "data": {
      "text/html": [
       "<div>\n",
       "<style scoped>\n",
       "    .dataframe tbody tr th:only-of-type {\n",
       "        vertical-align: middle;\n",
       "    }\n",
       "\n",
       "    .dataframe tbody tr th {\n",
       "        vertical-align: top;\n",
       "    }\n",
       "\n",
       "    .dataframe thead th {\n",
       "        text-align: right;\n",
       "    }\n",
       "</style>\n",
       "<table border=\"1\" class=\"dataframe\">\n",
       "  <thead>\n",
       "    <tr style=\"text-align: right;\">\n",
       "      <th></th>\n",
       "      <th>customer_id</th>\n",
       "      <th>frequency</th>\n",
       "      <th>recency</th>\n",
       "      <th>monetary</th>\n",
       "    </tr>\n",
       "  </thead>\n",
       "  <tbody>\n",
       "    <tr>\n",
       "      <th>0</th>\n",
       "      <td>00005241</td>\n",
       "      <td>4</td>\n",
       "      <td>-34</td>\n",
       "      <td>3396.0</td>\n",
       "    </tr>\n",
       "    <tr>\n",
       "      <th>1</th>\n",
       "      <td>00006668</td>\n",
       "      <td>10</td>\n",
       "      <td>-5</td>\n",
       "      <td>5099.0</td>\n",
       "    </tr>\n",
       "    <tr>\n",
       "      <th>2</th>\n",
       "      <td>00010801</td>\n",
       "      <td>15</td>\n",
       "      <td>-7</td>\n",
       "      <td>7045.0</td>\n",
       "    </tr>\n",
       "  </tbody>\n",
       "</table>\n",
       "</div>"
      ],
      "text/plain": [
       "  customer_id  frequency  recency  monetary\n",
       "0    00005241          4      -34    3396.0\n",
       "1    00006668         10       -5    5099.0\n",
       "2    00010801         15       -7    7045.0"
      ]
     },
     "execution_count": 1063,
     "metadata": {},
     "output_type": "execute_result"
    }
   ],
   "source": [
    "y_set_df.head(3)"
   ]
  },
  {
   "cell_type": "code",
   "execution_count": 1064,
   "metadata": {},
   "outputs": [
    {
     "data": {
      "text/plain": [
       "array([ 0.000e+00,  0.000e+00,  0.000e+00,  0.000e+00,  5.000e+00,\n",
       "        2.000e+00,  4.000e+00,  1.000e+00,  2.000e+00, -2.200e+01,\n",
       "        1.256e+03])"
      ]
     },
     "execution_count": 1064,
     "metadata": {},
     "output_type": "execute_result"
    }
   ],
   "source": [
    "X_set=np.array([return_pair(X_set_df,i) for i in range(0,len(X_set_df))])\n",
    "X_set[0]"
   ]
  },
  {
   "cell_type": "code",
   "execution_count": 1065,
   "metadata": {},
   "outputs": [
    {
     "data": {
      "text/plain": [
       "array([ 0.000e+00,  0.000e+00,  0.000e+00,  0.000e+00,  5.000e+00,\n",
       "        2.000e+00,  4.000e+00,  1.000e+00,  4.000e+00, -3.400e+01,\n",
       "        3.396e+03])"
      ]
     },
     "execution_count": 1065,
     "metadata": {},
     "output_type": "execute_result"
    }
   ],
   "source": [
    "y_set=np.array([return_pair(y_set_df,i) for i in range(0,len(y_set_df))])\n",
    "y_set[0]"
   ]
  },
  {
   "cell_type": "code",
   "execution_count": 1066,
   "metadata": {},
   "outputs": [
    {
     "name": "stdout",
     "output_type": "stream",
     "text": [
      "Original size: 6669 \n",
      "20 Percent of size: 1334\n"
     ]
    }
   ],
   "source": [
    "n_orig_size=len(X_set)\n",
    "n_train_percent = round(n_orig_size*.2)\n",
    "print('Original size:',n_orig_size,'\\n20 Percent of size:',n_train_percent)"
   ]
  },
  {
   "cell_type": "code",
   "execution_count": 1067,
   "metadata": {},
   "outputs": [],
   "source": [
    "train_X=X_set[n_train_percent:,:]\n",
    "train_y=y_set[n_train_percent:,:]\n",
    "test_X=X_set[:n_train_percent, :]\n",
    "test_y=y_set[:n_train_percent, :]"
   ]
  },
  {
   "cell_type": "code",
   "execution_count": 1068,
   "metadata": {},
   "outputs": [
    {
     "data": {
      "text/plain": [
       "((5335, 11), (1334, 11))"
      ]
     },
     "execution_count": 1068,
     "metadata": {},
     "output_type": "execute_result"
    }
   ],
   "source": [
    "train_X.shape,test_X.shape"
   ]
  },
  {
   "cell_type": "code",
   "execution_count": 1069,
   "metadata": {},
   "outputs": [
    {
     "data": {
      "text/plain": [
       "((5335, 11), (1334, 11))"
      ]
     },
     "execution_count": 1069,
     "metadata": {},
     "output_type": "execute_result"
    }
   ],
   "source": [
    "train_y.shape,test_y.shape"
   ]
  },
  {
   "cell_type": "code",
   "execution_count": 1070,
   "metadata": {},
   "outputs": [],
   "source": [
    "scaler_y = MinMaxScaler(feature_range=(0, 1))\n",
    "train_y = scaler_y.fit_transform(train_y)\n",
    "test_y = scaler_y.fit_transform(test_y)"
   ]
  },
  {
   "cell_type": "code",
   "execution_count": 1071,
   "metadata": {},
   "outputs": [],
   "source": [
    "scaler_x = MinMaxScaler(feature_range=(0, 1))\n",
    "rescaled_x_train = scaler_x.fit_transform(train_X)\n",
    "rescaled_x_test = scaler_x.fit_transform(test_X)"
   ]
  },
  {
   "cell_type": "code",
   "execution_count": 1072,
   "metadata": {},
   "outputs": [
    {
     "name": "stdout",
     "output_type": "stream",
     "text": [
      "train_X (5335, 1, 11) \n",
      "train_y (5335, 11) \n",
      "test_X (1334, 1, 11) \n",
      "test_y (1334, 11)\n"
     ]
    }
   ],
   "source": [
    "# reshape input to be 3D [samples, timesteps, features]\n",
    "train_X = rescaled_x_train.reshape((rescaled_x_train.shape[0], 1, rescaled_x_train.shape[1]))\n",
    "test_X = rescaled_x_test.reshape((rescaled_x_test.shape[0], 1, rescaled_x_test.shape[1]))\n",
    "print('train_X',train_X.shape,'\\ntrain_y', train_y.shape,'\\ntest_X', test_X.shape,'\\ntest_y', test_y.shape)\n",
    " "
   ]
  },
  {
   "cell_type": "code",
   "execution_count": 1073,
   "metadata": {},
   "outputs": [
    {
     "name": "stdout",
     "output_type": "stream",
     "text": [
      "_________________________________________________________________\n",
      "Layer (type)                 Output Shape              Param #   \n",
      "=================================================================\n",
      "simple_rnn_20 (SimpleRNN)    (None, 11)                253       \n",
      "_________________________________________________________________\n",
      "dense_39 (Dense)             (None, 250)               3000      \n",
      "_________________________________________________________________\n",
      "dense_40 (Dense)             (None, 11)                2761      \n",
      "=================================================================\n",
      "Total params: 6,014\n",
      "Trainable params: 6,014\n",
      "Non-trainable params: 0\n",
      "_________________________________________________________________\n"
     ]
    }
   ],
   "source": [
    "epochs = 1000\n",
    "learning_rate = 0.001\n",
    "model = Sequential()\n",
    "model.add(SimpleRNN(11,activation='relu',input_shape=(train_X.shape[1], train_X.shape[2])))\n",
    "model.add(Dense(250,kernel_initializer='random_uniform', activity_regularizer=regularizers.l1(0.0001)))\n",
    "model.add(Dense(11))\n",
    "model.compile(loss='mse', optimizer='adam', metrics=['mae', 'acc'])\n",
    "model.summary()\n"
   ]
  },
  {
   "cell_type": "code",
   "execution_count": 1074,
   "metadata": {},
   "outputs": [],
   "source": [
    "%%capture captured\n",
    "\n",
    "# fit network\n",
    "history = model.fit(train_X, train_y, epochs=epochs, batch_size=120, validation_data=(test_X, test_y), validation_split=0.3, verbose=1, shuffle=True)"
   ]
  },
  {
   "cell_type": "code",
   "execution_count": 1075,
   "metadata": {},
   "outputs": [
    {
     "name": "stdout",
     "output_type": "stream",
     "text": [
      " mean_absolute_error: 0.0247 - acc: 0.7511\b\b\b\b\b\b\b\b\b\b\b\b\b\b\b\b\b\b\b\b\b\b\b\b\b\b\b\b\b\b\b\b\b\b\b\b\b\b\b\b\b\b\b\b\b\b\b\b\b\b\b\b\b\b\b\b\b\b\b\b\b\b\b\b\b\b\b\b\b\b\b\b\b\b\b\b\b\b\b\b\b\b\b\b\b\b\b\b\b\b\b\b\b\b\b\b\b\b\b\b\b\b\b\b\b\b\b\b\b\b\b\r",
      "5335/5335 [==============================] - 0s 83us/step - loss: 0.0048 - mean_absolute_error: 0.0245 - acc: 0.7496 - val_loss: 0.0098 - val_mean_absolute_error: 0.0479 - val_acc: 0.7211\n",
      "Epoch 991/1000\n",
      "\r",
      " 120/5335 [..............................] - ETA: 0s - loss: 0.0055 - mean_absolute_error: 0.0240 - acc: 0.8417\b\b\b\b\b\b\b\b\b\b\b\b\b\b\b\b\b\b\b\b\b\b\b\b\b\b\b\b\b\b\b\b\b\b\b\b\b\b\b\b\b\b\b\b\b\b\b\b\b\b\b\b\b\b\b\b\b\b\b\b\b\b\b\b\b\b\b\b\b\b\b\b\b\b\b\b\b\b\b\b\b\b\b\b\b\b\b\b\b\b\b\b\b\b\b\b\b\b\b\b\b\b\b\b\b\b\b\b\b\b\b\r",
      " 840/5335 [===>..........................] - ETA: 0s - loss: 0.0055 - mean_absolute_error: 0.0248 - acc: 0.7310\b\b\b\b\b\b\b\b\b\b\b\b\b\b\b\b\b\b\b\b\b\b\b\b\b\b\b\b\b\b\b\b\b\b\b\b\b\b\b\b\b\b\b\b\b\b\b\b\b\b\b\b\b\b\b\b\b\b\b\b\b\b\b\b\b\b\b\b\b\b\b\b\b\b\b\b\b\b\b\b\b\b\b\b\b\b\b\b\b\b\b\b\b\b\b\b\b\b\b\b\b\b\b\b\b\b\b\b\b\b\b\r",
      "1560/5335 [=======>......................] - ETA: 0s - loss: 0.0050 - mean_absolute_error: 0.0239 - acc: 0.7282\b\b\b\b\b\b\b\b\b\b\b\b\b\b\b\b\b\b\b\b\b\b\b\b\b\b\b\b\b\b\b\b\b\b\b\b\b\b\b\b\b\b\b\b\b\b\b\b\b\b\b\b\b\b\b\b\b\b\b\b\b\b\b\b\b\b\b\b\b\b\b\b\b\b\b\b\b\b\b\b\b\b\b\b\b\b\b\b\b\b\b\b\b\b\b\b\b\b\b\b\b\b\b\b\b\b\b\b\b\b\b\r",
      "2280/5335 [===========>..................] - ETA: 0s - loss: 0.0049 - mean_absolute_error: 0.0238 - acc: 0.7417\b\b\b\b\b\b\b\b\b\b\b\b\b\b\b\b\b\b\b\b\b\b\b\b\b\b\b\b\b\b\b\b\b\b\b\b\b\b\b\b\b\b\b\b\b\b\b\b\b\b\b\b\b\b\b\b\b\b\b\b\b\b\b\b\b\b\b\b\b\b\b\b\b\b\b\b\b\b\b\b\b\b\b\b\b\b\b\b\b\b\b\b\b\b\b\b\b\b\b\b\b\b\b\b\b\b\b\b\b\b\b\r",
      "3000/5335 [===============>..............] - ETA: 0s - loss: 0.0049 - mean_absolute_error: 0.0235 - acc: 0.7423\b\b\b\b\b\b\b\b\b\b\b\b\b\b\b\b\b\b\b\b\b\b\b\b\b\b\b\b\b\b\b\b\b\b\b\b\b\b\b\b\b\b\b\b\b\b\b\b\b\b\b\b\b\b\b\b\b\b\b\b\b\b\b\b\b\b\b\b\b\b\b\b\b\b\b\b\b\b\b\b\b\b\b\b\b\b\b\b\b\b\b\b\b\b\b\b\b\b\b\b\b\b\b\b\b\b\b\b\b\b\b\r",
      "3720/5335 [===================>..........] - ETA: 0s - loss: 0.0049 - mean_absolute_error: 0.0236 - acc: 0.7430\b\b\b\b\b\b\b\b\b\b\b\b\b\b\b\b\b\b\b\b\b\b\b\b\b\b\b\b\b\b\b\b\b\b\b\b\b\b\b\b\b\b\b\b\b\b\b\b\b\b\b\b\b\b\b\b\b\b\b\b\b\b\b\b\b\b\b\b\b\b\b\b\b\b\b\b\b\b\b\b\b\b\b\b\b\b\b\b\b\b\b\b\b\b\b\b\b\b\b\b\b\b\b\b\b\b\b\b\b\b\b\r",
      "4320/5335 [=======================>......] - ETA: 0s - loss: 0.0048 - mean_absolute_error: 0.0236 - acc: 0.7424\b\b\b\b\b\b\b\b\b\b\b\b\b\b\b\b\b\b\b\b\b\b\b\b\b\b\b\b\b\b\b\b\b\b\b\b\b\b\b\b\b\b\b\b\b\b\b\b\b\b\b\b\b\b\b\b\b\b\b\b\b\b\b\b\b\b\b\b\b\b\b\b\b\b\b\b\b\b\b\b\b\b\b\b\b\b\b\b\b\b\b\b\b\b\b\b\b\b\b\b\b\b\b\b\b\b\b\b\b\b\b\r",
      "5040/5335 [===========================>..] - ETA: 0s - loss: 0.0048 - mean_absolute_error: 0.0237 - acc: 0.7387\b\b\b\b\b\b\b\b\b\b\b\b\b\b\b\b\b\b\b\b\b\b\b\b\b\b\b\b\b\b\b\b\b\b\b\b\b\b\b\b\b\b\b\b\b\b\b\b\b\b\b\b\b\b\b\b\b\b\b\b\b\b\b\b\b\b\b\b\b\b\b\b\b\b\b\b\b\b\b\b\b\b\b\b\b\b\b\b\b\b\b\b\b\b\b\b\b\b\b\b\b\b\b\b\b\b\b\b\b\b\b\r",
      "5335/5335 [==============================] - 0s 84us/step - loss: 0.0048 - mean_absolute_error: 0.0236 - acc: 0.7413 - val_loss: 0.0100 - val_mean_absolute_error: 0.0491 - val_acc: 0.7264\n",
      "Epoch 992/1000\n",
      "\r",
      " 120/5335 [..............................] - ETA: 0s - loss: 0.0046 - mean_absolute_error: 0.0234 - acc: 0.7583\b\b\b\b\b\b\b\b\b\b\b\b\b\b\b\b\b\b\b\b\b\b\b\b\b\b\b\b\b\b\b\b\b\b\b\b\b\b\b\b\b\b\b\b\b\b\b\b\b\b\b\b\b\b\b\b\b\b\b\b\b\b\b\b\b\b\b\b\b\b\b\b\b\b\b\b\b\b\b\b\b\b\b\b\b\b\b\b\b\b\b\b\b\b\b\b\b\b\b\b\b\b\b\b\b\b\b\b\b\b\b\r",
      " 960/5335 [====>.........................] - ETA: 0s - loss: 0.0047 - mean_absolute_error: 0.0233 - acc: 0.7521\b\b\b\b\b\b\b\b\b\b\b\b\b\b\b\b\b\b\b\b\b\b\b\b\b\b\b\b\b\b\b\b\b\b\b\b\b\b\b\b\b\b\b\b\b\b\b\b\b\b\b\b\b\b\b\b\b\b\b\b\b\b\b\b\b\b\b\b\b\b\b\b\b\b\b\b\b\b\b\b\b\b\b\b\b\b\b\b\b\b\b\b\b\b\b\b\b\b\b\b\b\b\b\b\b\b\b\b\b\b\b\r",
      "1680/5335 [========>.....................] - ETA: 0s - loss: 0.0049 - mean_absolute_error: 0.0235 - acc: 0.7381\b\b\b\b\b\b\b\b\b\b\b\b\b\b\b\b\b\b\b\b\b\b\b\b\b\b\b\b\b\b\b\b\b\b\b\b\b\b\b\b\b\b\b\b\b\b\b\b\b\b\b\b\b\b\b\b\b\b\b\b\b\b\b\b\b\b\b\b\b\b\b\b\b\b\b\b\b\b\b\b\b\b\b\b\b\b\b\b\b\b\b\b\b\b\b\b\b\b\b\b\b\b\b\b\b\b\b\b\b\b\b\r",
      "2400/5335 [============>.................] - ETA: 0s - loss: 0.0049 - mean_absolute_error: 0.0234 - acc: 0.7408\b\b\b\b\b\b\b\b\b\b\b\b\b\b\b\b\b\b\b\b\b\b\b\b\b\b\b\b\b\b\b\b\b\b\b\b\b\b\b\b\b\b\b\b\b\b\b\b\b\b\b\b\b\b\b\b\b\b\b\b\b\b\b\b\b\b\b\b\b\b\b\b\b\b\b\b\b\b\b\b\b\b\b\b\b\b\b\b\b\b\b\b\b\b\b\b\b\b\b\b\b\b\b\b\b\b\b\b\b\b\b\r",
      "3120/5335 [================>.............] - ETA: 0s - loss: 0.0049 - mean_absolute_error: 0.0234 - acc: 0.7468\b\b\b\b\b\b\b\b\b\b\b\b\b\b\b\b\b\b\b\b\b\b\b\b\b\b\b\b\b\b\b\b\b\b\b\b\b\b\b\b\b\b\b\b\b\b\b\b\b\b\b\b\b\b\b\b\b\b\b\b\b\b\b\b\b\b\b\b\b\b\b\b\b\b\b\b\b\b\b\b\b\b\b\b\b\b\b\b\b\b\b\b\b\b\b\b\b\b\b\b\b\b\b\b\b\b\b\b\b\b\b\r",
      "3960/5335 [=====================>........] - ETA: 0s - loss: 0.0048 - mean_absolute_error: 0.0237 - acc: 0.7485\b\b\b\b\b\b\b\b\b\b\b\b\b\b\b\b\b\b\b\b\b\b\b\b\b\b\b\b\b\b\b\b\b\b\b\b\b\b\b\b\b\b\b\b\b\b\b\b\b\b\b\b\b\b\b\b\b\b\b\b\b\b\b\b\b\b\b\b\b\b\b\b\b\b\b\b\b\b\b\b\b\b\b\b\b\b\b\b\b\b\b\b\b\b\b\b\b\b\b\b\b\b\b\b\b\b\b\b\b\b\b\r",
      "4800/5335 [=========================>....] - ETA: 0s - loss: 0.0048 - mean_absolute_error: 0.0238 - acc: 0.7483\b\b\b\b\b\b\b\b\b\b\b\b\b\b\b\b\b\b\b\b\b\b\b\b\b\b\b\b\b\b\b\b\b\b\b\b\b\b\b\b\b\b\b\b\b\b\b\b\b\b\b\b\b\b\b\b\b\b\b\b\b\b\b\b\b\b\b\b\b\b\b\b\b\b\b\b\b\b\b\b\b\b\b\b\b\b\b\b\b\b\b\b\b\b\b\b\b\b\b\b\b\b\b\b\b\b\b\b\b\b\b\r",
      "5335/5335 [==============================] - 0s 81us/step - loss: 0.0048 - mean_absolute_error: 0.0240 - acc: 0.7471 - val_loss: 0.0100 - val_mean_absolute_error: 0.0502 - val_acc: 0.6942\n",
      "Epoch 993/1000\n",
      "\r",
      " 120/5335 [..............................] - ETA: 0s - loss: 0.0045 - mean_absolute_error: 0.0244 - acc: 0.7833\b\b\b\b\b\b\b\b\b\b\b\b\b\b\b\b\b\b\b\b\b\b\b\b\b\b\b\b\b\b\b\b\b\b\b\b\b\b\b\b\b\b\b\b\b\b\b\b\b\b\b\b\b\b\b\b\b\b\b\b\b\b\b\b\b\b\b\b\b\b\b\b\b\b\b\b\b\b\b\b\b\b\b\b\b\b\b\b\b\b\b\b\b\b\b\b\b\b\b\b\b\b\b\b\b\b\b\b\b\b\b\r",
      " 840/5335 [===>..........................] - ETA: 0s - loss: 0.0042 - mean_absolute_error: 0.0243 - acc: 0.7262\b\b\b\b\b\b\b\b\b\b\b\b\b\b\b\b\b\b\b\b\b\b\b\b\b\b\b\b\b\b\b\b\b\b\b\b\b\b\b\b\b\b\b\b\b\b\b\b\b\b\b\b\b\b\b\b\b\b\b\b\b\b\b\b\b\b\b\b\b\b\b\b\b\b\b\b\b\b\b\b\b\b\b\b\b\b\b\b\b\b\b\b\b\b\b\b\b\b\b\b\b\b\b\b\b\b\b\b\b\b\b\r",
      "1560/5335 [=======>......................] - ETA: 0s - loss: 0.0045 - mean_absolute_error: 0.0254 - acc: 0.7269\b\b\b\b\b\b\b\b\b\b\b\b\b\b\b\b\b\b\b\b\b\b\b\b\b\b\b\b\b\b\b\b\b\b\b\b\b\b\b\b\b\b\b\b\b\b\b\b\b\b\b\b\b\b\b\b\b\b\b\b\b\b\b\b\b\b\b\b\b\b\b\b\b\b\b\b\b\b\b\b\b\b\b\b\b\b\b\b\b\b\b\b\b\b\b\b\b\b\b\b\b\b\b\b\b\b\b\b\b\b\b\r",
      "2280/5335 [===========>..................] - ETA: 0s - loss: 0.0047 - mean_absolute_error: 0.0260 - acc: 0.7333\b\b\b\b\b\b\b\b\b\b\b\b\b\b\b\b\b\b\b\b\b\b\b\b\b\b\b\b\b\b\b\b\b\b\b\b\b\b\b\b\b\b\b\b\b\b\b\b\b\b\b\b\b\b\b\b\b\b\b\b\b\b\b\b\b\b\b\b\b\b\b\b\b\b\b\b\b\b\b\b\b\b\b\b\b\b\b\b\b\b\b\b\b\b\b\b\b\b\b\b\b\b\b\b\b\b\b\b\b\b\b\r",
      "3000/5335 [===============>..............] - ETA: 0s - loss: 0.0048 - mean_absolute_error: 0.0265 - acc: 0.7400\b\b\b\b\b\b\b\b\b\b\b\b\b\b\b\b\b\b\b\b\b\b\b\b\b\b\b\b\b\b\b\b\b\b\b\b\b\b\b\b\b\b\b\b\b\b\b\b\b\b\b\b\b\b\b\b\b\b\b\b\b\b\b\b\b\b\b\b\b\b\b\b\b\b\b\b\b\b\b\b\b\b\b\b\b\b\b\b\b\b\b\b\b\b\b\b\b\b\b\b\b\b\b\b\b\b\b\b\b\b\b\r",
      "3720/5335 [===================>..........] - ETA: 0s - loss: 0.0049 - mean_absolute_error: 0.0268 - acc: 0.7395\b\b\b\b\b\b\b\b\b\b\b\b\b\b\b\b\b\b\b\b\b\b\b\b\b\b\b\b\b\b\b\b\b\b\b\b\b\b\b\b\b\b\b\b\b\b\b\b\b\b\b\b\b\b\b\b\b\b\b\b\b\b\b\b\b\b\b\b\b\b\b\b\b\b\b\b\b\b\b\b\b\b\b\b\b\b\b\b\b\b\b\b\b\b\b\b\b\b\b\b\b\b\b\b\b\b\b\b\b\b\b\r",
      "4440/5335 [=======================>......] - ETA: 0s - loss: 0.0049 - mean_absolute_error: 0.0267 - acc: 0.7473\b\b\b\b\b\b\b\b\b\b\b\b\b\b\b\b\b\b\b\b\b\b\b\b\b\b\b\b\b\b\b\b\b\b\b\b\b\b\b\b\b\b\b\b\b\b\b\b\b\b\b\b\b\b\b\b\b\b\b\b\b\b\b\b\b\b\b\b\b\b\b\b\b\b\b\b\b\b\b\b\b\b\b\b\b\b\b\b\b\b\b\b\b\b\b\b\b\b\b\b\b\b\b\b\b\b\b\b\b\b\b\r",
      "5160/5335 [============================>.] - ETA: 0s - loss: 0.0049 - mean_absolute_error: 0.0262 - acc: 0.7446\b\b\b\b\b\b\b\b\b\b\b\b\b\b\b\b\b\b\b\b\b\b\b\b\b\b\b\b\b\b\b\b\b\b\b\b\b\b\b\b\b\b\b\b\b\b\b\b\b\b\b\b\b\b\b\b\b\b\b\b\b\b\b\b\b\b\b\b\b\b\b\b\b\b\b\b\b\b\b\b\b\b\b\b\b\b\b\b\b\b\b\b\b\b\b\b\b\b\b\b\b\b\b\b\b\b\b\b\b\b\b\r",
      "5335/5335 [==============================] - 0s 84us/step - loss: 0.0049 - mean_absolute_error: 0.0261 - acc: 0.7445 - val_loss: 0.0098 - val_mean_absolute_error: 0.0473 - val_acc: 0.6897\n",
      "Epoch 994/1000\n",
      "\r",
      " 120/5335 [..............................] - ETA: 0s - loss: 0.0045 - mean_absolute_error: 0.0227 - acc: 0.7833\b\b\b\b\b\b\b\b\b\b\b\b\b\b\b\b\b\b\b\b\b\b\b\b\b\b\b\b\b\b\b\b\b\b\b\b\b\b\b\b\b\b\b\b\b\b\b\b\b\b\b\b\b\b\b\b\b\b\b\b\b\b\b\b\b\b\b\b\b\b\b\b\b\b\b\b\b\b\b\b\b\b\b\b\b\b\b\b\b\b\b\b\b\b\b\b\b\b\b\b\b\b\b\b\b\b\b\b\b\b\b\r",
      " 840/5335 [===>..........................] - ETA: 0s - loss: 0.0045 - mean_absolute_error: 0.0230 - acc: 0.7107\b\b\b\b\b\b\b\b\b\b\b\b\b\b\b\b\b\b\b\b\b\b\b\b\b\b\b\b\b\b\b\b\b\b\b\b\b\b\b\b\b\b\b\b\b\b\b\b\b\b\b\b\b\b\b\b\b\b\b\b\b\b\b\b\b\b\b\b\b\b\b\b\b\b\b\b\b\b\b\b\b\b\b\b\b\b\b\b\b\b\b\b\b\b\b\b\b\b\b\b\b\b\b\b\b\b\b\b\b\b\b\r",
      "1560/5335 [=======>......................] - ETA: 0s - loss: 0.0045 - mean_absolute_error: 0.0228 - acc: 0.7301\b\b\b\b\b\b\b\b\b\b\b\b\b\b\b\b\b\b\b\b\b\b\b\b\b\b\b\b\b\b\b\b\b\b\b\b\b\b\b\b\b\b\b\b\b\b\b\b\b\b\b\b\b\b\b\b\b\b\b\b\b\b\b\b\b\b\b\b\b\b\b\b\b\b\b\b\b\b\b\b\b\b\b\b\b\b\b\b\b\b\b\b\b\b\b\b\b\b\b\b\b\b\b\b\b\b\b\b\b\b\b\r",
      "2280/5335 [===========>..................] - ETA: 0s - loss: 0.0047 - mean_absolute_error: 0.0233 - acc: 0.7294\b\b\b\b\b\b\b\b\b\b\b\b\b\b\b\b\b\b\b\b\b\b\b\b\b\b\b\b\b\b\b\b\b\b\b\b\b\b\b\b\b\b\b\b\b\b\b\b\b\b\b\b\b\b\b\b\b\b\b\b\b\b\b\b\b\b\b\b\b\b\b\b\b\b\b\b\b\b\b\b\b\b\b\b\b\b\b\b\b\b\b\b\b\b\b\b\b\b\b\b\b\b\b\b\b\b\b\b\b\b\b\r",
      "3120/5335 [================>.............] - ETA: 0s - loss: 0.0048 - mean_absolute_error: 0.0235 - acc: 0.7346\b\b\b\b\b\b\b\b\b\b\b\b\b\b\b\b\b\b\b\b\b\b\b\b\b\b\b\b\b\b\b\b\b\b\b\b\b\b\b\b\b\b\b\b\b\b\b\b\b\b\b\b\b\b\b\b\b\b\b\b\b\b\b\b\b\b\b\b\b\b\b\b\b\b\b\b\b\b\b\b\b\b\b\b\b\b\b\b\b\b\b\b\b\b\b\b\b\b\b\b\b\b\b\b\b\b\b\b\b\b\b\r",
      "3840/5335 [====================>.........] - ETA: 0s - loss: 0.0048 - mean_absolute_error: 0.0233 - acc: 0.7401\b\b\b\b\b\b\b\b\b\b\b\b\b\b\b\b\b\b\b\b\b\b\b\b\b\b\b\b\b\b\b\b\b\b\b\b\b\b\b\b\b\b\b\b\b\b\b\b\b\b\b\b\b\b\b\b\b\b\b\b\b\b\b\b\b\b\b\b\b\b\b\b\b\b\b\b\b\b\b\b\b\b\b\b\b\b\b\b\b\b\b\b\b\b\b\b\b\b\b\b\b\b\b\b\b\b\b\b\b\b\b\r",
      "4560/5335 [========================>.....] - ETA: 0s - loss: 0.0048 - mean_absolute_error: 0.0233 - acc: 0.7390\b\b\b\b\b\b\b\b\b\b\b\b\b\b\b\b\b\b\b\b\b\b\b\b\b\b\b\b\b\b\b\b\b\b\b\b\b\b\b\b\b\b\b\b\b\b\b\b\b\b\b\b\b\b\b\b\b\b\b\b\b\b\b\b\b\b\b\b\b\b\b\b\b\b\b\b\b\b\b\b\b\b\b\b\b\b\b\b\b\b\b\b\b\b\b\b\b\b\b\b\b\b\b\b\b\b\b\b\b\b\b\r",
      "5280/5335 [============================>.] - ETA: 0s - loss: 0.0048 - mean_absolute_error: 0.0234 - acc: 0.7439\b\b\b\b\b\b\b\b\b\b\b\b\b\b\b\b\b\b\b\b\b\b\b\b\b\b\b\b\b\b\b\b\b\b\b\b\b\b\b\b\b\b\b\b\b\b\b\b\b\b\b\b\b\b\b\b\b\b\b\b\b\b\b\b\b\b\b\b\b\b\b\b\b\b\b\b\b\b\b\b\b\b\b\b\b\b\b\b\b\b\b\b\b\b\b\b\b\b\b\b\b\b\b\b\b\b\b\b\b\b\b\r",
      "5335/5335 [==============================] - 0s 83us/step - loss: 0.0048 - mean_absolute_error: 0.0234 - acc: 0.7430 - val_loss: 0.0100 - val_mean_absolute_error: 0.0486 - val_acc: 0.7151\n",
      "Epoch 995/1000\n",
      "\r",
      " 120/5335 [..............................] - ETA: 0s - loss: 0.0059 - mean_absolute_error: 0.0241 - acc: 0.8583\b\b\b\b\b\b\b\b\b\b\b\b\b\b\b\b\b\b\b\b\b\b\b\b\b\b\b\b\b\b\b\b\b\b\b\b\b\b\b\b\b\b\b\b\b\b\b\b\b\b\b\b\b\b\b\b\b\b\b\b\b\b\b\b\b\b\b\b\b\b\b\b\b\b\b\b\b\b\b\b\b\b\b\b\b\b\b\b\b\b\b\b\b\b\b\b\b\b\b\b\b\b\b\b\b\b\b\b\b\b\b\r",
      " 840/5335 [===>..........................] - ETA: 0s - loss: 0.0046 - mean_absolute_error: 0.0225 - acc: 0.7524\b\b\b\b\b\b\b\b\b\b\b\b\b\b\b\b\b\b\b\b\b\b\b\b\b\b\b\b\b\b\b\b\b\b\b\b\b\b\b\b\b\b\b\b\b\b\b\b\b\b\b\b\b\b\b\b\b\b\b\b\b\b\b\b\b\b\b\b\b\b\b\b\b\b\b\b\b\b\b\b\b\b\b\b\b\b\b\b\b\b\b\b\b\b\b\b\b\b\b\b\b\b\b\b\b\b\b\b\b\b\b\r",
      "1560/5335 [=======>......................] - ETA: 0s - loss: 0.0047 - mean_absolute_error: 0.0231 - acc: 0.7500\b\b\b\b\b\b\b\b\b\b\b\b\b\b\b\b\b\b\b\b\b\b\b\b\b\b\b\b\b\b\b\b\b\b\b\b\b\b\b\b\b\b\b\b\b\b\b\b\b\b\b\b\b\b\b\b\b\b\b\b\b\b\b\b\b\b\b\b\b\b\b\b\b\b\b\b\b\b\b\b\b\b\b\b\b\b\b\b\b\b\b\b\b\b\b\b\b\b\b\b\b\b\b\b\b\b\b\b\b\b\b\r",
      "2400/5335 [============>.................] - ETA: 0s - loss: 0.0047 - mean_absolute_error: 0.0234 - acc: 0.7429\b\b\b\b\b\b\b\b\b\b\b\b\b\b\b\b\b\b\b\b\b\b\b\b\b\b\b\b\b\b\b\b\b\b\b\b\b\b\b\b\b\b\b\b\b\b\b\b\b\b\b\b\b\b\b\b\b\b\b\b\b\b\b\b\b\b\b\b\b\b\b\b\b\b\b\b\b\b\b\b\b\b\b\b\b\b\b\b\b\b\b\b\b\b\b\b\b\b\b\b\b\b\b\b\b\b\b\b\b\b\b\r",
      "3120/5335 [================>.............] - ETA: 0s - loss: 0.0047 - mean_absolute_error: 0.0236 - acc: 0.7413\b\b\b\b\b\b\b\b\b\b\b\b\b\b\b\b\b\b\b\b\b\b\b\b\b\b\b\b\b\b\b\b\b\b\b\b\b\b\b\b\b\b\b\b\b\b\b\b\b\b\b\b\b\b\b\b\b\b\b\b\b\b\b\b\b\b\b\b\b\b\b\b\b\b\b\b\b\b\b\b\b\b\b\b\b\b\b\b\b\b\b\b\b\b\b\b\b\b\b\b\b\b\b\b\b\b\b\b\b\b\b\r",
      "3840/5335 [====================>.........] - ETA: 0s - loss: 0.0047 - mean_absolute_error: 0.0235 - acc: 0.7427\b\b\b\b\b\b\b\b\b\b\b\b\b\b\b\b\b\b\b\b\b\b\b\b\b\b\b\b\b\b\b\b\b\b\b\b\b\b\b\b\b\b\b\b\b\b\b\b\b\b\b\b\b\b\b\b\b\b\b\b\b\b\b\b\b\b\b\b\b\b\b\b\b\b\b\b\b\b\b\b\b\b\b\b\b\b\b\b\b\b\b\b\b\b\b\b\b\b\b\b\b\b\b\b\b\b\b\b\b\b\b\r",
      "4560/5335 [========================>.....] - ETA: 0s - loss: 0.0048 - mean_absolute_error: 0.0236 - acc: 0.7467\b\b\b\b\b\b\b\b\b\b\b\b\b\b\b\b\b\b\b\b\b\b\b\b\b\b\b\b\b\b\b\b\b\b\b\b\b\b\b\b\b\b\b\b\b\b\b\b\b\b\b\b\b\b\b\b\b\b\b\b\b\b\b\b\b\b\b\b\b\b\b\b\b\b\b\b\b\b\b\b\b\b\b\b\b\b\b\b\b\b\b\b\b\b\b\b\b\b\b\b\b\b\b\b\b\b\b\b\b\b\b\r",
      "5280/5335 [============================>.] - ETA: 0s - loss: 0.0048 - mean_absolute_error: 0.0238 - acc: 0.7475\b\b\b\b\b\b\b\b\b\b\b\b\b\b\b\b\b\b\b\b\b\b\b\b\b\b\b\b\b\b\b\b\b\b\b\b\b\b\b\b\b\b\b\b\b\b\b\b\b\b\b\b\b\b\b\b\b\b\b\b\b\b\b\b\b\b\b\b\b\b\b\b\b\b\b\b\b\b\b\b\b\b\b\b\b\b\b\b\b\b\b\b\b\b\b\b\b\b\b\b\b\b\b\b\b\b\b\b\b\b\b\r",
      "5335/5335 [==============================] - 0s 80us/step - loss: 0.0048 - mean_absolute_error: 0.0239 - acc: 0.7471 - val_loss: 0.0099 - val_mean_absolute_error: 0.0500 - val_acc: 0.6829\n",
      "Epoch 996/1000\n",
      "\r",
      " 120/5335 [..............................] - ETA: 0s - loss: 0.0044 - mean_absolute_error: 0.0270 - acc: 0.6667\b\b\b\b\b\b\b\b\b\b\b\b\b\b\b\b\b\b\b\b\b\b\b\b\b\b\b\b\b\b\b\b\b\b\b\b\b\b\b\b\b\b\b\b\b\b\b\b\b\b\b\b\b\b\b\b\b\b\b\b\b\b\b\b\b\b\b\b\b\b\b\b\b\b\b\b\b\b\b\b\b\b\b\b\b\b\b\b\b\b\b\b\b\b\b\b\b\b\b\b\b\b\b\b\b\b\b\b\b\b\b\r",
      " 840/5335 [===>..........................] - ETA: 0s - loss: 0.0050 - mean_absolute_error: 0.0284 - acc: 0.7167\b\b\b\b\b\b\b\b\b\b\b\b\b\b\b\b\b\b\b\b\b\b\b\b\b\b\b\b\b\b\b\b\b\b\b\b\b\b\b\b\b\b\b\b\b\b\b\b\b\b\b\b\b\b\b\b\b\b\b\b\b\b\b\b\b\b\b\b\b\b\b\b\b\b\b\b\b\b\b\b\b\b\b\b\b\b\b\b\b\b\b\b\b\b\b\b\b\b\b\b\b\b\b\b\b\b\b\b\b\b\b\r",
      "1560/5335 [=======>......................] - ETA: 0s - loss: 0.0050 - mean_absolute_error: 0.0275 - acc: 0.7391\b\b\b\b\b\b\b\b\b\b\b\b\b\b\b\b\b\b\b\b\b\b\b\b\b\b\b\b\b\b\b\b\b\b\b\b\b\b\b\b\b\b\b\b\b\b\b\b\b\b\b\b\b\b\b\b\b\b\b\b\b\b\b\b\b\b\b\b\b\b\b\b\b\b\b\b\b\b\b\b\b\b\b\b\b\b\b\b\b\b\b\b\b\b\b\b\b\b\b\b\b\b\b\b\b\b\b\b\b\b\b\r",
      "2280/5335 [===========>..................] - ETA: 0s - loss: 0.0048 - mean_absolute_error: 0.0279 - acc: 0.7430\b\b\b\b\b\b\b\b\b\b\b\b\b\b\b\b\b\b\b\b\b\b\b\b\b\b\b\b\b\b\b\b\b\b\b\b\b\b\b\b\b\b\b\b\b\b\b\b\b\b\b\b\b\b\b\b\b\b\b\b\b\b\b\b\b\b\b\b\b\b\b\b\b\b\b\b\b\b\b\b\b\b\b\b\b\b\b\b\b\b\b\b\b\b\b\b\b\b\b\b\b\b\b\b\b\b\b\b\b\b\b\r",
      "3000/5335 [===============>..............] - ETA: 0s - loss: 0.0047 - mean_absolute_error: 0.0271 - acc: 0.7370\b\b\b\b\b\b\b\b\b\b\b\b\b\b\b\b\b\b\b\b\b\b\b\b\b\b\b\b\b\b\b\b\b\b\b\b\b\b\b\b\b\b\b\b\b\b\b\b\b\b\b\b\b\b\b\b\b\b\b\b\b\b\b\b\b\b\b\b\b\b\b\b\b\b\b\b\b\b\b\b\b\b\b\b\b\b\b\b\b\b\b\b\b\b\b\b\b\b\b\b\b\b\b\b\b\b\b\b\b\b\b\r",
      "3600/5335 [===================>..........] - ETA: 0s - loss: 0.0048 - mean_absolute_error: 0.0267 - acc: 0.7372\b\b\b\b\b\b\b\b\b\b\b\b\b\b\b\b\b\b\b\b\b\b\b\b\b\b\b\b\b\b\b\b\b\b\b\b\b\b\b\b\b\b\b\b\b\b\b\b\b\b\b\b\b\b\b\b\b\b\b\b\b\b\b\b\b\b\b\b\b\b\b\b\b\b\b\b\b\b\b\b\b\b\b\b\b\b\b\b\b\b\b\b\b\b\b\b\b\b\b\b\b\b\b\b\b\b\b\b\b\b\b\r",
      "4320/5335 [=======================>......] - ETA: 0s - loss: 0.0048 - mean_absolute_error: 0.0262 - acc: 0.7428\b\b\b\b\b\b\b\b\b\b\b\b\b\b\b\b\b\b\b\b\b\b\b\b\b\b\b\b\b\b\b\b\b\b\b\b\b\b\b\b\b\b\b\b\b\b\b\b\b\b\b\b\b\b\b\b\b\b\b\b\b\b\b\b\b\b\b\b\b\b\b\b\b\b\b\b\b\b\b\b\b\b\b\b\b\b\b\b\b\b\b\b\b\b\b\b\b\b\b\b\b\b\b\b\b\b\b\b\b\b\b\r",
      "5040/5335 [===========================>..] - ETA: 0s - loss: 0.0048 - mean_absolute_error: 0.0258 - acc: 0.7429\b\b\b\b\b\b\b\b\b\b\b\b\b\b\b\b\b\b\b\b\b\b\b\b\b\b\b\b\b\b\b\b\b\b\b\b\b\b\b\b\b\b\b\b\b\b\b\b\b\b\b\b\b\b\b\b\b\b\b\b\b\b\b\b\b\b\b\b\b\b\b\b\b\b\b\b\b\b\b\b\b\b\b\b\b\b\b\b\b\b\b\b\b\b\b\b\b\b\b\b\b\b\b\b\b\b\b\b\b\b\b\r",
      "5335/5335 [==============================] - 0s 88us/step - loss: 0.0049 - mean_absolute_error: 0.0257 - acc: 0.7466 - val_loss: 0.0099 - val_mean_absolute_error: 0.0485 - val_acc: 0.7204\n",
      "Epoch 997/1000\n",
      "\r",
      " 120/5335 [..............................] - ETA: 0s - loss: 0.0059 - mean_absolute_error: 0.0253 - acc: 0.6417\b\b\b\b\b\b\b\b\b\b\b\b\b\b\b\b\b\b\b\b\b\b\b\b\b\b\b\b\b\b\b\b\b\b\b\b\b\b\b\b\b\b\b\b\b\b\b\b\b\b\b\b\b\b\b\b\b\b\b\b\b\b\b\b\b\b\b\b\b\b\b\b\b\b\b\b\b\b\b\b\b\b\b\b\b\b\b\b\b\b\b\b\b\b\b\b\b\b\b\b\b\b\b\b\b\b\b\b\b\b\b\r",
      " 840/5335 [===>..........................] - ETA: 0s - loss: 0.0049 - mean_absolute_error: 0.0238 - acc: 0.7286\b\b\b\b\b\b\b\b\b\b\b\b\b\b\b\b\b\b\b\b\b\b\b\b\b\b\b\b\b\b\b\b\b\b\b\b\b\b\b\b\b\b\b\b\b\b\b\b\b\b\b\b\b\b\b\b\b\b\b\b\b\b\b\b\b\b\b\b\b\b\b\b\b\b\b\b\b\b\b\b\b\b\b\b\b\b\b\b\b\b\b\b\b\b\b\b\b\b\b\b\b\b\b\b\b\b\b\b\b\b\b\r",
      "1560/5335 [=======>......................] - ETA: 0s - loss: 0.0047 - mean_absolute_error: 0.0236 - acc: 0.7282\b\b\b\b\b\b\b\b\b\b\b\b\b\b\b\b\b\b\b\b\b\b\b\b\b\b\b\b\b\b\b\b\b\b\b\b\b\b\b\b\b\b\b\b\b\b\b\b\b\b\b\b\b\b\b\b\b\b\b\b\b\b\b\b\b\b\b\b\b\b\b\b\b\b\b\b\b\b\b\b\b\b\b\b\b\b\b\b\b\b\b\b\b\b\b\b\b\b\b\b\b\b\b\b\b\b\b\b\b\b\b\r",
      "2400/5335 [============>.................] - ETA: 0s - loss: 0.0047 - mean_absolute_error: 0.0232 - acc: 0.7425\b\b\b\b\b\b\b\b\b\b\b\b\b\b\b\b\b\b\b\b\b\b\b\b\b\b\b\b\b\b\b\b\b\b\b\b\b\b\b\b\b\b\b\b\b\b\b\b\b\b\b\b\b\b\b\b\b\b\b\b\b\b\b\b\b\b\b\b\b\b\b\b\b\b\b\b\b\b\b\b\b\b\b\b\b\b\b\b\b\b\b\b\b\b\b\b\b\b\b\b\b\b\b\b\b\b\b\b\b\b\b\r",
      "3120/5335 [================>.............] - ETA: 0s - loss: 0.0048 - mean_absolute_error: 0.0235 - acc: 0.7388\b\b\b\b\b\b\b\b\b\b\b\b\b\b\b\b\b\b\b\b\b\b\b\b\b\b\b\b\b\b\b\b\b\b\b\b\b\b\b\b\b\b\b\b\b\b\b\b\b\b\b\b\b\b\b\b\b\b\b\b\b\b\b\b\b\b\b\b\b\b\b\b\b\b\b\b\b\b\b\b\b\b\b\b\b\b\b\b\b\b\b\b\b\b\b\b\b\b\b\b\b\b\b\b\b\b\b\b\b\b\b\r",
      "3840/5335 [====================>.........] - ETA: 0s - loss: 0.0048 - mean_absolute_error: 0.0235 - acc: 0.7469\b\b\b\b\b\b\b\b\b\b\b\b\b\b\b\b\b\b\b\b\b\b\b\b\b\b\b\b\b\b\b\b\b\b\b\b\b\b\b\b\b\b\b\b\b\b\b\b\b\b\b\b\b\b\b\b\b\b\b\b\b\b\b\b\b\b\b\b\b\b\b\b\b\b\b\b\b\b\b\b\b\b\b\b\b\b\b\b\b\b\b\b\b\b\b\b\b\b\b\b\b\b\b\b\b\b\b\b\b\b\b\r",
      "4560/5335 [========================>.....] - ETA: 0s - loss: 0.0048 - mean_absolute_error: 0.0237 - acc: 0.7476\b\b\b\b\b\b\b\b\b\b\b\b\b\b\b\b\b\b\b\b\b\b\b\b\b\b\b\b\b\b\b\b\b\b\b\b\b\b\b\b\b\b\b\b\b\b\b\b\b\b\b\b\b\b\b\b\b\b\b\b\b\b\b\b\b\b\b\b\b\b\b\b\b\b\b\b\b\b\b\b\b\b\b\b\b\b\b\b\b\b\b\b\b\b\b\b\b\b\b\b\b\b\b\b\b\b\b\b\b\b\b\r",
      "5280/5335 [============================>.] - ETA: 0s - loss: 0.0048 - mean_absolute_error: 0.0238 - acc: 0.7462\b\b\b\b\b\b\b\b\b\b\b\b\b\b\b\b\b\b\b\b\b\b\b\b\b\b\b\b\b\b\b\b\b\b\b\b\b\b\b\b\b\b\b\b\b\b\b\b\b\b\b\b\b\b\b\b\b\b\b\b\b\b\b\b\b\b\b\b\b\b\b\b\b\b\b\b\b\b\b\b\b\b\b\b\b\b\b\b\b\b\b\b\b\b\b\b\b\b\b\b\b\b\b\b\b\b\b\b\b\b\b\r",
      "5335/5335 [==============================] - 0s 83us/step - loss: 0.0048 - mean_absolute_error: 0.0238 - acc: 0.7456 - val_loss: 0.0099 - val_mean_absolute_error: 0.0490 - val_acc: 0.7024\n",
      "Epoch 998/1000\n",
      "\r",
      " 120/5335 [..............................] - ETA: 0s - loss: 0.0044 - mean_absolute_error: 0.0225 - acc: 0.7667\b\b\b\b\b\b\b\b\b\b\b\b\b\b\b\b\b\b\b\b\b\b\b\b\b\b\b\b\b\b\b\b\b\b\b\b\b\b\b\b\b\b\b\b\b\b\b\b\b\b\b\b\b\b\b\b\b\b\b\b\b\b\b\b\b\b\b\b\b\b\b\b\b\b\b\b\b\b\b\b\b\b\b\b\b\b\b\b\b\b\b\b\b\b\b\b\b\b\b\b\b\b\b\b\b\b\b\b\b\b\b\r",
      " 840/5335 [===>..........................] - ETA: 0s - loss: 0.0048 - mean_absolute_error: 0.0235 - acc: 0.7524\b\b\b\b\b\b\b\b\b\b\b\b\b\b\b\b\b\b\b\b\b\b\b\b\b\b\b\b\b\b\b\b\b\b\b\b\b\b\b\b\b\b\b\b\b\b\b\b\b\b\b\b\b\b\b\b\b\b\b\b\b\b\b\b\b\b\b\b\b\b\b\b\b\b\b\b\b\b\b\b\b\b\b\b\b\b\b\b\b\b\b\b\b\b\b\b\b\b\b\b\b\b\b\b\b\b\b\b\b\b\b\r",
      "1560/5335 [=======>......................] - ETA: 0s - loss: 0.0048 - mean_absolute_error: 0.0239 - acc: 0.7423\b\b\b\b\b\b\b\b\b\b\b\b\b\b\b\b\b\b\b\b\b\b\b\b\b\b\b\b\b\b\b\b\b\b\b\b\b\b\b\b\b\b\b\b\b\b\b\b\b\b\b\b\b\b\b\b\b\b\b\b\b\b\b\b\b\b\b\b\b\b\b\b\b\b\b\b\b\b\b\b\b\b\b\b\b\b\b\b\b\b\b\b\b\b\b\b\b\b\b\b\b\b\b\b\b\b\b\b\b\b\b\r",
      "2280/5335 [===========>..................] - ETA: 0s - loss: 0.0047 - mean_absolute_error: 0.0239 - acc: 0.7456\b\b\b\b\b\b\b\b\b\b\b\b\b\b\b\b\b\b\b\b\b\b\b\b\b\b\b\b\b\b\b\b\b\b\b\b\b\b\b\b\b\b\b\b\b\b\b\b\b\b\b\b\b\b\b\b\b\b\b\b\b\b\b\b\b\b\b\b\b\b\b\b\b\b\b\b\b\b\b\b\b\b\b\b\b\b\b\b\b\b\b\b\b\b\b\b\b\b\b\b\b\b\b\b\b\b\b\b\b\b\b\r",
      "3000/5335 [===============>..............] - ETA: 0s - loss: 0.0048 - mean_absolute_error: 0.0239 - acc: 0.7423\b\b\b\b\b\b\b\b\b\b\b\b\b\b\b\b\b\b\b\b\b\b\b\b\b\b\b\b\b\b\b\b\b\b\b\b\b\b\b\b\b\b\b\b\b\b\b\b\b\b\b\b\b\b\b\b\b\b\b\b\b\b\b\b\b\b\b\b\b\b\b\b\b\b\b\b\b\b\b\b\b\b\b\b\b\b\b\b\b\b\b\b\b\b\b\b\b\b\b\b\b\b\b\b\b\b\b\b\b\b\b\r",
      "3720/5335 [===================>..........] - ETA: 0s - loss: 0.0049 - mean_absolute_error: 0.0239 - acc: 0.7473\b\b\b\b\b\b\b\b\b\b\b\b\b\b\b\b\b\b\b\b\b\b\b\b\b\b\b\b\b\b\b\b\b\b\b\b\b\b\b\b\b\b\b\b\b\b\b\b\b\b\b\b\b\b\b\b\b\b\b\b\b\b\b\b\b\b\b\b\b\b\b\b\b\b\b\b\b\b\b\b\b\b\b\b\b\b\b\b\b\b\b\b\b\b\b\b\b\b\b\b\b\b\b\b\b\b\b\b\b\b\b\r",
      "4440/5335 [=======================>......] - ETA: 0s - loss: 0.0048 - mean_absolute_error: 0.0239 - acc: 0.7435\b\b\b\b\b\b\b\b\b\b\b\b\b\b\b\b\b\b\b\b\b\b\b\b\b\b\b\b\b\b\b\b\b\b\b\b\b\b\b\b\b\b\b\b\b\b\b\b\b\b\b\b\b\b\b\b\b\b\b\b\b\b\b\b\b\b\b\b\b\b\b\b\b\b\b\b\b\b\b\b\b\b\b\b\b\b\b\b\b\b\b\b\b\b\b\b\b\b\b\b\b\b\b\b\b\b\b\b\b\b\b\r",
      "5160/5335 [============================>.] - ETA: 0s - loss: 0.0048 - mean_absolute_error: 0.0238 - acc: 0.7434\b\b\b\b\b\b\b\b\b\b\b\b\b\b\b\b\b\b\b\b\b\b\b\b\b\b\b\b\b\b\b\b\b\b\b\b\b\b\b\b\b\b\b\b\b\b\b\b\b\b\b\b\b\b\b\b\b\b\b\b\b\b\b\b\b\b\b\b\b\b\b\b\b\b\b\b\b\b\b\b\b\b\b\b\b\b\b\b\b\b\b\b\b\b\b\b\b\b\b\b\b\b\b\b\b\b\b\b\b\b\b\r",
      "5335/5335 [==============================] - 0s 84us/step - loss: 0.0048 - mean_absolute_error: 0.0239 - acc: 0.7430 - val_loss: 0.0100 - val_mean_absolute_error: 0.0495 - val_acc: 0.7264\n",
      "Epoch 999/1000\n",
      "\r",
      " 120/5335 [..............................] - ETA: 0s - loss: 0.0060 - mean_absolute_error: 0.0246 - acc: 0.8000\b\b\b\b\b\b\b\b\b\b\b\b\b\b\b\b\b\b\b\b\b\b\b\b\b\b\b\b\b\b\b\b\b\b\b\b\b\b\b\b\b\b\b\b\b\b\b\b\b\b\b\b\b\b\b\b\b\b\b\b\b\b\b\b\b\b\b\b\b\b\b\b\b\b\b\b\b\b\b\b\b\b\b\b\b\b\b\b\b\b\b\b\b\b\b\b\b\b\b\b\b\b\b\b\b\b\b\b\b\b\b\r",
      " 840/5335 [===>..........................] - ETA: 0s - loss: 0.0049 - mean_absolute_error: 0.0234 - acc: 0.7357\b\b\b\b\b\b\b\b\b\b\b\b\b\b\b\b\b\b\b\b\b\b\b\b\b\b\b\b\b\b\b\b\b\b\b\b\b\b\b\b\b\b\b\b\b\b\b\b\b\b\b\b\b\b\b\b\b\b\b\b\b\b\b\b\b\b\b\b\b\b\b\b\b\b\b\b\b\b\b\b\b\b\b\b\b\b\b\b\b\b\b\b\b\b\b\b\b\b\b\b\b\b\b\b\b\b\b\b\b\b\b\r",
      "1560/5335 [=======>......................] - ETA: 0s - loss: 0.0049 - mean_absolute_error: 0.0239 - acc: 0.7359\b\b\b\b\b\b\b\b\b\b\b\b\b\b\b\b\b\b\b\b\b\b\b\b\b\b\b\b\b\b\b\b\b\b\b\b\b\b\b\b\b\b\b\b\b\b\b\b\b\b\b\b\b\b\b\b\b\b\b\b\b\b\b\b\b\b\b\b\b\b\b\b\b\b\b\b\b\b\b\b\b\b\b\b\b\b\b\b\b\b\b\b\b\b\b\b\b\b\b\b\b\b\b\b\b\b\b\b\b\b\b\r",
      "2280/5335 [===========>..................] - ETA: 0s - loss: 0.0049 - mean_absolute_error: 0.0239 - acc: 0.7425\b\b\b\b\b\b\b\b\b\b\b\b\b\b\b\b\b\b\b\b\b\b\b\b\b\b\b\b\b\b\b\b\b\b\b\b\b\b\b\b\b\b\b\b\b\b\b\b\b\b\b\b\b\b\b\b\b\b\b\b\b\b\b\b\b\b\b\b\b\b\b\b\b\b\b\b\b\b\b\b\b\b\b\b\b\b\b\b\b\b\b\b\b\b\b\b\b\b\b\b\b\b\b\b\b\b\b\b\b\b\b\r",
      "3000/5335 [===============>..............] - ETA: 0s - loss: 0.0049 - mean_absolute_error: 0.0242 - acc: 0.7403\b\b\b\b\b\b\b\b\b\b\b\b\b\b\b\b\b\b\b\b\b\b\b\b\b\b\b\b\b\b\b\b\b\b\b\b\b\b\b\b\b\b\b\b\b\b\b\b\b\b\b\b\b\b\b\b\b\b\b\b\b\b\b\b\b\b\b\b\b\b\b\b\b\b\b\b\b\b\b\b\b\b\b\b\b\b\b\b\b\b\b\b\b\b\b\b\b\b\b\b\b\b\b\b\b\b\b\b\b\b\b\r",
      "3720/5335 [===================>..........] - ETA: 0s - loss: 0.0049 - mean_absolute_error: 0.0243 - acc: 0.7411\b\b\b\b\b\b\b\b\b\b\b\b\b\b\b\b\b\b\b\b\b\b\b\b\b\b\b\b\b\b\b\b\b\b\b\b\b\b\b\b\b\b\b\b\b\b\b\b\b\b\b\b\b\b\b\b\b\b\b\b\b\b\b\b\b\b\b\b\b\b\b\b\b\b\b\b\b\b\b\b\b\b\b\b\b\b\b\b\b\b\b\b\b\b\b\b\b\b\b\b\b\b\b\b\b\b\b\b\b\b\b\r",
      "4440/5335 [=======================>......] - ETA: 0s - loss: 0.0048 - mean_absolute_error: 0.0245 - acc: 0.7423\b\b\b\b\b\b\b\b\b\b\b\b\b\b\b\b\b\b\b\b\b\b\b\b\b\b\b\b\b\b\b\b\b\b\b\b\b\b\b\b\b\b\b\b\b\b\b\b\b\b\b\b\b\b\b\b\b\b\b\b\b\b\b\b\b\b\b\b\b\b\b\b\b\b\b\b\b\b\b\b\b\b\b\b\b\b\b\b\b\b\b\b\b\b\b\b\b\b\b\b\b\b\b\b\b\b\b\b\b\b\b\r",
      "5040/5335 [===========================>..] - ETA: 0s - loss: 0.0048 - mean_absolute_error: 0.0246 - acc: 0.7407\b\b\b\b\b\b\b\b\b\b\b\b\b\b\b\b\b\b\b\b\b\b\b\b\b\b\b\b\b\b\b\b\b\b\b\b\b\b\b\b\b\b\b\b\b\b\b\b\b\b\b\b\b\b\b\b\b\b\b\b\b\b\b\b\b\b\b\b\b\b\b\b\b\b\b\b\b\b\b\b\b\b\b\b\b\b\b\b\b\b\b\b\b\b\b\b\b\b\b\b\b\b\b\b\b\b\b\b\b\b\b\r",
      "5335/5335 [==============================] - 0s 86us/step - loss: 0.0048 - mean_absolute_error: 0.0246 - acc: 0.7410 - val_loss: 0.0100 - val_mean_absolute_error: 0.0503 - val_acc: 0.6942\n",
      "Epoch 1000/1000\n",
      "\r",
      " 120/5335 [..............................] - ETA: 0s - loss: 0.0047 - mean_absolute_error: 0.0281 - acc: 0.8167\b\b\b\b\b\b\b\b\b\b\b\b\b\b\b\b\b\b\b\b\b\b\b\b\b\b\b\b\b\b\b\b\b\b\b\b\b\b\b\b\b\b\b\b\b\b\b\b\b\b\b\b\b\b\b\b\b\b\b\b\b\b\b\b\b\b\b\b\b\b\b\b\b\b\b\b\b\b\b\b\b\b\b\b\b\b\b\b\b\b\b\b\b\b\b\b\b\b\b\b\b\b\b\b\b\b\b\b\b\b\b\r",
      " 840/5335 [===>..........................] - ETA: 0s - loss: 0.0048 - mean_absolute_error: 0.0253 - acc: 0.7524\b\b\b\b\b\b\b\b\b\b\b\b\b\b\b\b\b\b\b\b\b\b\b\b\b\b\b\b\b\b\b\b\b\b\b\b\b\b\b\b\b\b\b\b\b\b\b\b\b\b\b\b\b\b\b\b\b\b\b\b\b\b\b\b\b\b\b\b\b\b\b\b\b\b\b\b\b\b\b\b\b\b\b\b\b\b\b\b\b\b\b\b\b\b\b\b\b\b\b\b\b\b\b\b\b\b\b\b\b\b\b\r",
      "1680/5335 [========>.....................] - ETA: 0s - loss: 0.0047 - mean_absolute_error: 0.0249 - acc: 0.7429\b\b\b\b\b\b\b\b\b\b\b\b\b\b\b\b\b\b\b\b\b\b\b\b\b\b\b\b\b\b\b\b\b\b\b\b\b\b\b\b\b\b\b\b\b\b\b\b\b\b\b\b\b\b\b\b\b\b\b\b\b\b\b\b\b\b\b\b\b\b\b\b\b\b\b\b\b\b\b\b\b\b\b\b\b\b\b\b\b\b\b\b\b\b\b\b\b\b\b\b\b\b\b\b\b\b\b\b\b\b\b\r",
      "2400/5335 [============>.................] - ETA: 0s - loss: 0.0047 - mean_absolute_error: 0.0248 - acc: 0.7488\b\b\b\b\b\b\b\b\b\b\b\b\b\b\b\b\b\b\b\b\b\b\b\b\b\b\b\b\b\b\b\b\b\b\b\b\b\b\b\b\b\b\b\b\b\b\b\b\b\b\b\b\b\b\b\b\b\b\b\b\b\b\b\b\b\b\b\b\b\b\b\b\b\b\b\b\b\b\b\b\b\b\b\b\b\b\b\b\b\b\b\b\b\b\b\b\b\b\b\b\b\b\b\b\b\b\b\b\b\b\b\r",
      "3120/5335 [================>.............] - ETA: 0s - loss: 0.0047 - mean_absolute_error: 0.0247 - acc: 0.7535\b\b\b\b\b\b\b\b\b\b\b\b\b\b\b\b\b\b\b\b\b\b\b\b\b\b\b\b\b\b\b\b\b\b\b\b\b\b\b\b\b\b\b\b\b\b\b\b\b\b\b\b\b\b\b\b\b\b\b\b\b\b\b\b\b\b\b\b\b\b\b\b\b\b\b\b\b\b\b\b\b\b\b\b\b\b\b\b\b\b\b\b\b\b\b\b\b\b\b\b\b\b\b\b\b\b\b\b\b\b\b\r",
      "3840/5335 [====================>.........] - ETA: 0s - loss: 0.0048 - mean_absolute_error: 0.0248 - acc: 0.7526\b\b\b\b\b\b\b\b\b\b\b\b\b\b\b\b\b\b\b\b\b\b\b\b\b\b\b\b\b\b\b\b\b\b\b\b\b\b\b\b\b\b\b\b\b\b\b\b\b\b\b\b\b\b\b\b\b\b\b\b\b\b\b\b\b\b\b\b\b\b\b\b\b\b\b\b\b\b\b\b\b\b\b\b\b\b\b\b\b\b\b\b\b\b\b\b\b\b\b\b\b\b\b\b\b\b\b\b\b\b\b\r",
      "4560/5335 [========================>.....] - ETA: 0s - loss: 0.0048 - mean_absolute_error: 0.0245 - acc: 0.7491\b\b\b\b\b\b\b\b\b\b\b\b\b\b\b\b\b\b\b\b\b\b\b\b\b\b\b\b\b\b\b\b\b\b\b\b\b\b\b\b\b\b\b\b\b\b\b\b\b\b\b\b\b\b\b\b\b\b\b\b\b\b\b\b\b\b\b\b\b\b\b\b\b\b\b\b\b\b\b\b\b\b\b\b\b\b\b\b\b\b\b\b\b\b\b\b\b\b\b\b\b\b\b\b\b\b\b\b\b\b\b\r",
      "5280/5335 [============================>.] - ETA: 0s - loss: 0.0048 - mean_absolute_error: 0.0243 - acc: 0.7487\b\b\b\b\b\b\b\b\b\b\b\b\b\b\b\b\b\b\b\b\b\b\b\b\b\b\b\b\b\b\b\b\b\b\b\b\b\b\b\b\b\b\b\b\b\b\b\b\b\b\b\b\b\b\b\b\b\b\b\b\b\b\b\b\b\b\b\b\b\b\b\b\b\b\b\b\b\b\b\b\b\b\b\b\b\b\b\b\b\b\b\b\b\b\b\b\b\b\b\b\b\b\b\b\b\b\b\b\b\b\b\r",
      "5335/5335 [==============================] - 0s 82us/step - loss: 0.0048 - mean_absolute_error: 0.0243 - acc: 0.7488 - val_loss: 0.0098 - val_mean_absolute_error: 0.0472 - val_acc: 0.6949\n",
      "\n"
     ]
    }
   ],
   "source": [
    "file_out=captured.stdout\n",
    "print(file_out[-20000:])"
   ]
  },
  {
   "cell_type": "code",
   "execution_count": 1076,
   "metadata": {},
   "outputs": [
    {
     "data": {
      "image/png": "[encoded data removed]",
      "text/plain": [
       "<Figure size 432x288 with 1 Axes>"
      ]
     },
     "metadata": {},
     "output_type": "display_data"
    }
   ],
   "source": [
    "# plot history\n",
    "pyplot.plot(history.history['loss'], label='train')\n",
    "pyplot.plot(history.history['val_loss'], label='test')\n",
    "pyplot.legend()\n",
    "pyplot.show()"
   ]
  },
  {
   "cell_type": "code",
   "execution_count": 1077,
   "metadata": {},
   "outputs": [],
   "source": [
    "yhat = model.predict(test_X)\n",
    "test_X = test_X.reshape(test_X.shape[0], test_X.shape[2])"
   ]
  },
  {
   "cell_type": "code",
   "execution_count": 1078,
   "metadata": {},
   "outputs": [],
   "source": [
    "inv_yhat = concatenate((scaler_x.inverse_transform(test_X), scaler_y.inverse_transform(yhat)),axis=1)\n",
    "inv_y = concatenate((scaler_x.inverse_transform(test_X),scaler_y.inverse_transform(test_y)), axis=1)"
   ]
  },
  {
   "cell_type": "code",
   "execution_count": 1079,
   "metadata": {},
   "outputs": [
    {
     "name": "stdout",
     "output_type": "stream",
     "text": [
      "Test RMSE (Prediction): 934.476\n"
     ]
    }
   ],
   "source": [
    "# calculate RMSE\n",
    "rmse = sqrt(mean_squared_error(inv_y[0], inv_yhat[0]))\n",
    "print('Test RMSE (Prediction): %.3f' % rmse)"
   ]
  },
  {
   "cell_type": "code",
   "execution_count": 1080,
   "metadata": {},
   "outputs": [],
   "source": [
    "indexer=10\n",
    "transformed_id=[''.join(list(map(str,list(map(int,list(scaler_x.inverse_transform(test_X)[indexer][:-3]))))))]\n",
    "prediction=list(scaler_y.inverse_transform(yhat)[:, -3:][indexer])"
   ]
  },
  {
   "cell_type": "markdown",
   "metadata": {},
   "source": [
    "### Prediction"
   ]
  },
  {
   "cell_type": "code",
   "execution_count": 1081,
   "metadata": {},
   "outputs": [
    {
     "data": {
      "text/html": [
       "<div>\n",
       "<style scoped>\n",
       "    .dataframe tbody tr th:only-of-type {\n",
       "        vertical-align: middle;\n",
       "    }\n",
       "\n",
       "    .dataframe tbody tr th {\n",
       "        vertical-align: top;\n",
       "    }\n",
       "\n",
       "    .dataframe thead th {\n",
       "        text-align: right;\n",
       "    }\n",
       "</style>\n",
       "<table border=\"1\" class=\"dataframe\">\n",
       "  <thead>\n",
       "    <tr style=\"text-align: right;\">\n",
       "      <th></th>\n",
       "      <th>ID</th>\n",
       "      <th>Recency</th>\n",
       "      <th>Freqency</th>\n",
       "      <th>Monetary</th>\n",
       "    </tr>\n",
       "  </thead>\n",
       "  <tbody>\n",
       "    <tr>\n",
       "      <th>0</th>\n",
       "      <td>00020220</td>\n",
       "      <td>8.04615</td>\n",
       "      <td>-20.9094</td>\n",
       "      <td>15129.2</td>\n",
       "    </tr>\n",
       "  </tbody>\n",
       "</table>\n",
       "</div>"
      ],
      "text/plain": [
       "         ID  Recency Freqency Monetary\n",
       "0  00020220  8.04615 -20.9094  15129.2"
      ]
     },
     "execution_count": 1081,
     "metadata": {},
     "output_type": "execute_result"
    }
   ],
   "source": [
    "output=pd.DataFrame((transformed_id+prediction)).T.copy()\n",
    "output.columns=['ID','Recency','Freqency','Monetary']\n",
    "output"
   ]
  },
  {
   "cell_type": "markdown",
   "metadata": {},
   "source": [
    "### Training"
   ]
  },
  {
   "cell_type": "code",
   "execution_count": 1082,
   "metadata": {},
   "outputs": [
    {
     "data": {
      "text/html": [
       "<div>\n",
       "<style scoped>\n",
       "    .dataframe tbody tr th:only-of-type {\n",
       "        vertical-align: middle;\n",
       "    }\n",
       "\n",
       "    .dataframe tbody tr th {\n",
       "        vertical-align: top;\n",
       "    }\n",
       "\n",
       "    .dataframe thead th {\n",
       "        text-align: right;\n",
       "    }\n",
       "</style>\n",
       "<table border=\"1\" class=\"dataframe\">\n",
       "  <thead>\n",
       "    <tr style=\"text-align: right;\">\n",
       "      <th></th>\n",
       "      <th>customer_id</th>\n",
       "      <th>frequency</th>\n",
       "      <th>recency</th>\n",
       "      <th>monetary</th>\n",
       "    </tr>\n",
       "  </thead>\n",
       "  <tbody>\n",
       "    <tr>\n",
       "      <th>10</th>\n",
       "      <td>00020220</td>\n",
       "      <td>2</td>\n",
       "      <td>-2</td>\n",
       "      <td>4023.0</td>\n",
       "    </tr>\n",
       "  </tbody>\n",
       "</table>\n",
       "</div>"
      ],
      "text/plain": [
       "   customer_id  frequency  recency  monetary\n",
       "10    00020220          2       -2    4023.0"
      ]
     },
     "execution_count": 1082,
     "metadata": {},
     "output_type": "execute_result"
    }
   ],
   "source": [
    "outputID=output['ID'][0]\n",
    "comparison=X_set_df['customer_id']==outputID\n",
    "X_set_df[comparison]"
   ]
  },
  {
   "cell_type": "markdown",
   "metadata": {},
   "source": [
    "### True value"
   ]
  },
  {
   "cell_type": "code",
   "execution_count": 1083,
   "metadata": {},
   "outputs": [
    {
     "data": {
      "text/html": [
       "<div>\n",
       "<style scoped>\n",
       "    .dataframe tbody tr th:only-of-type {\n",
       "        vertical-align: middle;\n",
       "    }\n",
       "\n",
       "    .dataframe tbody tr th {\n",
       "        vertical-align: top;\n",
       "    }\n",
       "\n",
       "    .dataframe thead th {\n",
       "        text-align: right;\n",
       "    }\n",
       "</style>\n",
       "<table border=\"1\" class=\"dataframe\">\n",
       "  <thead>\n",
       "    <tr style=\"text-align: right;\">\n",
       "      <th></th>\n",
       "      <th>customer_id</th>\n",
       "      <th>frequency</th>\n",
       "      <th>recency</th>\n",
       "      <th>monetary</th>\n",
       "    </tr>\n",
       "  </thead>\n",
       "  <tbody>\n",
       "    <tr>\n",
       "      <th>10</th>\n",
       "      <td>00020220</td>\n",
       "      <td>17</td>\n",
       "      <td>-13</td>\n",
       "      <td>22605.0</td>\n",
       "    </tr>\n",
       "  </tbody>\n",
       "</table>\n",
       "</div>"
      ],
      "text/plain": [
       "   customer_id  frequency  recency  monetary\n",
       "10    00020220         17      -13   22605.0"
      ]
     },
     "execution_count": 1083,
     "metadata": {},
     "output_type": "execute_result"
    }
   ],
   "source": [
    "comparison=y_set_df['customer_id']==outputID\n",
    "y_set_df[comparison]"
   ]
  },
  {
   "cell_type": "markdown",
   "metadata": {},
   "source": [
    "Interpretation\n",
    "------"
   ]
  },
  {
   "cell_type": "markdown",
   "metadata": {},
   "source": [
    "____________________"
   ]
  },
  {
   "cell_type": "markdown",
   "metadata": {},
   "source": [
    "After running both models we see some surprising results! Firstly, I am surprised at how well the Simple RNN model is able to figure out the relationships with sequences with such little information (Reduced Model and Journal Article). From the start I get at least a 70% accuracy without the use any additional features and dimensionality reduction techniques or a wealth of previous transaction information. \n",
    "\n",
    "I after comparing the Full and Reduced models I think we can make some simple conclusions: \n",
    "\n",
    " 1. Very little of the model is informed by the inclusion of all the additional features (Week_number, Amount, \tTotal_sum, Cluster, Age_group, Pin_code, Unit_price, Log_unit_price); a fact that I find surprising alone. The only benefit to the model by adding the other features is perhaps a reduced Root Means Squared Error for prediction.\n",
    "    \n",
    " 2. Using very few previous transactions you can predict the R,F,M values at at least a 70% accuracy. Of course, if I were trying to build a model to diagnose cancer I'd probably throw it away and go back to formula, but since we are probably dealing with advertising and promotions I feel 70% is plenty accurate to decide to provide a 20% discount to regular shoppers at Bath and Bodyworks (*we all know it to be true*).\n",
    " \n",
    " 3. Recurrent Neural Networks are very good at sequences!"
   ]
  },
  {
   "cell_type": "code",
   "execution_count": null,
   "metadata": {},
   "outputs": [],
   "source": []
  }
 ],
 "metadata": {
  "kernelspec": {
   "display_name": "Python 3",
   "language": "python",
   "name": "python3"
  },
  "language_info": {
   "codemirror_mode": {
    "name": "ipython",
    "version": 3
   },
   "file_extension": ".py",
   "mimetype": "text/x-python",
   "name": "python",
   "nbconvert_exporter": "python",
   "pygments_lexer": "ipython3",
   "version": "3.6.5"
  }
 },
 "nbformat": 4,
 "nbformat_minor": 2
}
